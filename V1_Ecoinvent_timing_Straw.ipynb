{
 "cells": [
  {
   "cell_type": "markdown",
   "id": "888d62b8-b807-496b-896d-0c44e3c29110",
   "metadata": {},
   "source": [
    "PROJECT"
   ]
  },
  {
   "cell_type": "markdown",
   "id": "951c9dc5-6b0e-4655-95ef-d8be98d4823b",
   "metadata": {},
   "source": [
    "Deliverables:\n",
    "    Notebook\n",
    "    Documentation of the model\n",
    "    Test that everything works well\n",
    "Goals:\n",
    "    Compare the environmental performance of 2 biobased insulation materials contrasted to a reference fossil insulation      material, applied     to buildings throught the prodution and end-of-life phases of the product.\n",
    "Scope:\n",
    "    The environmental performance is assessed through the climate change (CO2, Ch4, N2O), water use, and land use (area occupied) impacts\n",
    "    LCIA method: \n",
    "    The assessment is performed for 50 years of lifetime of the buildings\n",
    "    The EoL choices involve incineration, landfill, composting, and mulching (we are going to consider 2)\n",
    "    Temporal scope:\n",
    "    \n",
    "Tools\n",
    "    Github\n",
    "    Temporalis\n",
    "    Excel\n",
    "\n",
    "  *How to consider the soil carbon sequestration/release/lost effect\n",
    "  For croplands is shor, for forests is large\n"
   ]
  },
  {
   "cell_type": "markdown",
   "id": "f814acbd-5555-40ff-b894-16438bee6f54",
   "metadata": {},
   "source": [
    "Prerequisites:\n",
    "    Python: nbdev and ipytest\n",
    "Your environment must contain nbdev and nbdev_install_hooks\n",
    "For this project:\n",
    "Open conda terminal \n",
    "conda activate bw25\n",
    "    This env already contains nbdev "
   ]
  },
  {
   "cell_type": "code",
   "execution_count": 30,
   "id": "9eacc7a2-5ae1-49d3-a3f5-5c30d7e7c4fd",
   "metadata": {},
   "outputs": [],
   "source": [
    "from bw_temporalis import easy_timedelta_distribution, easy_datetime_distribution, TemporalisLCA, Timeline, TemporalDistribution\n",
    "#pip install dynamic_characterization\n",
    "# from dynamic_characterization.ipcc_ar6.radiative_forcing import characterize_co2, characterize_ch4, characterize_n2o, characterize_co2_uptake\n",
    "from bw_temporalis.lcia import characterize_methane, characterize_co2\n",
    "import bw2io as bi \n",
    "import bw2data as bd\n",
    "import bw2calc as bc\n",
    "import os               # to use \"operating system dependent functionality\"\n",
    "import numpy as np      # \"the fundamental package for scientific computing with Python\"\n",
    "import pandas as pd     # \"high-performance, easy-to-use data structures and data analysis tools\" for Python\n",
    "\n",
    "import bw_temporalis as bt"
   ]
  },
  {
   "cell_type": "code",
   "execution_count": 2,
   "id": "6dad2b1a-51a3-4608-81de-6afae76683e1",
   "metadata": {},
   "outputs": [
    {
     "data": {
      "text/plain": [
       "[Project: default,\n",
       " Project: bw25_intro,\n",
       " Project: bw25,\n",
       " Project: bw25_intro2,\n",
       " Project: parameterLCA,\n",
       " Project: premise,\n",
       " Project: parametric_LCA,\n",
       " Project: Temporalis example project,\n",
       " Project: bw_temporalis example,\n",
       " Project: dds-MFA,\n",
       " Project: Buildings Insulation,\n",
       " Project: building,\n",
       " Project: buildings]"
      ]
     },
     "execution_count": 2,
     "metadata": {},
     "output_type": "execute_result"
    }
   ],
   "source": [
    "list(bd.projects)"
   ]
  },
  {
   "cell_type": "code",
   "execution_count": 5,
   "id": "227945f7-ec26-4f8d-ba7b-8c057d97ebd9",
   "metadata": {},
   "outputs": [
    {
     "name": "stdout",
     "output_type": "stream",
     "text": [
      "Restoring project backup archive - this could take a few minutes...\n",
      "Restored project: Buildings Insulation\n"
     ]
    },
    {
     "data": {
      "text/plain": [
       "'Buildings Insulation'"
      ]
     },
     "execution_count": 5,
     "metadata": {},
     "output_type": "execute_result"
    }
   ],
   "source": [
    "#Load ecoinvent and biosphere databases\n",
    "#Either import from ecoinvent or load it from a file saved in your computer - Here we load from a filed saved from a previous project\n",
    "# bi.backup.restore_project_directory(\n",
    "#     fp=r\"C:\\Users\\zieger\\Github\\brightway2-project-bw25_workgroup-backup14-November-2024-03-02PM.tar.gz\",\n",
    "#     project_name=\"Buildings Insulation\",\n",
    "#     overwrite_existing=True\n",
    "# )"
   ]
  },
  {
   "cell_type": "code",
   "execution_count": 3,
   "id": "1053e9ee-9f40-46d3-ba43-de09d912270d",
   "metadata": {},
   "outputs": [],
   "source": [
    "bd.projects.set_current('building')"
   ]
  },
  {
   "cell_type": "code",
   "execution_count": 4,
   "id": "6b05dd0e-18c7-4337-b86d-1d044cc8dd5e",
   "metadata": {},
   "outputs": [
    {
     "data": {
      "text/plain": [
       "Databases dictionary with 9 object(s):\n",
       "\tPV 2035\n",
       "\tPV 2050\n",
       "\tPV 2050 - eff\n",
       "\tPV 2050 - eff - lifetime\n",
       "\tbiosphere\n",
       "\tcarbon fiber\n",
       "\tecoinvent-3.10-cutoff\n",
       "\texample\n",
       "\ttemporalis-example"
      ]
     },
     "execution_count": 4,
     "metadata": {},
     "output_type": "execute_result"
    }
   ],
   "source": [
    "bd.databases"
   ]
  },
  {
   "cell_type": "code",
   "execution_count": 6,
   "id": "0255c0ba-33f2-4a7d-af9a-cf5bc1c2a292",
   "metadata": {
    "scrolled": true
   },
   "outputs": [
    {
     "name": "stdout",
     "output_type": "stream",
     "text": [
      "Extracted 1 worksheets in 0.02 seconds\n",
      "Applying strategy: csv_restore_tuples\n",
      "Applying strategy: csv_restore_booleans\n",
      "Applying strategy: csv_numerize\n",
      "Applying strategy: csv_drop_unknown\n",
      "Applying strategy: csv_add_missing_exchanges_section\n",
      "Applying strategy: normalize_units\n",
      "Applying strategy: normalize_biosphere_categories\n",
      "Applying strategy: normalize_biosphere_names\n",
      "Applying strategy: strip_biosphere_exc_locations\n",
      "Applying strategy: set_code_by_activity_hash\n",
      "Applying strategy: link_iterable_by_fields\n",
      "Applying strategy: assign_only_product_as_production\n",
      "Applying strategy: link_technosphere_by_activity_hash\n",
      "Applying strategy: drop_falsey_uncertainty_fields_but_keep_zeros\n",
      "Applying strategy: convert_uncertainty_types_to_integers\n",
      "Applying strategy: convert_activity_parameters_to_list\n",
      "Applied 16 strategies in 4.99 seconds\n"
     ]
    }
   ],
   "source": [
    "imp = bi.ExcelImporter(\"LCI_Bw_form.xlsx\")\n",
    "imp.apply_strategies()"
   ]
  },
  {
   "cell_type": "code",
   "execution_count": 7,
   "id": "d7cabd4e-2b02-4f73-ad8f-c5580c38161a",
   "metadata": {},
   "outputs": [
    {
     "name": "stdout",
     "output_type": "stream",
     "text": [
      "Applying strategy: link_iterable_by_fields\n",
      "4 datasets\n",
      "\t15 exchanges\n",
      "\tLinks to the following databases:\n",
      "\t\tecoinvent-3.10-cutoff (9 exchanges)\n",
      "\t\tInsulators (4 exchanges)\n",
      "\t\tbiosphere (2 exchanges)\n",
      "\t0 unlinked exchanges (0 types)\n",
      "\t\t\n"
     ]
    },
    {
     "data": {
      "text/plain": [
       "(4, 15, 0, 0)"
      ]
     },
     "execution_count": 7,
     "metadata": {},
     "output_type": "execute_result"
    }
   ],
   "source": [
    "imp.match_database('ecoinvent-3.10-cutoff', fields=('name', 'unit', 'location', 'reference product'))\n",
    "imp.statistics()"
   ]
  },
  {
   "cell_type": "code",
   "execution_count": 8,
   "id": "32f899a4-a97b-4ad2-9d28-2ce35796e47a",
   "metadata": {},
   "outputs": [
    {
     "name": "stdout",
     "output_type": "stream",
     "text": [
      "\u001b[2m11:26:04\u001b[0m [\u001b[33m\u001b[1mwarning  \u001b[0m] \u001b[1mNot able to determine geocollections for all datasets. This database is not ready for regionalization.\u001b[0m\n"
     ]
    },
    {
     "name": "stderr",
     "output_type": "stream",
     "text": [
      "100%|███████████████████████████████████████████| 4/4 [00:00<00:00, 2412.95it/s]"
     ]
    },
    {
     "name": "stdout",
     "output_type": "stream",
     "text": [
      "\u001b[2m11:26:05\u001b[0m [\u001b[32m\u001b[1minfo     \u001b[0m] \u001b[1mVacuuming database            \u001b[0m\n"
     ]
    },
    {
     "name": "stderr",
     "output_type": "stream",
     "text": [
      "\n"
     ]
    },
    {
     "name": "stdout",
     "output_type": "stream",
     "text": [
      "Created database: Insulators\n"
     ]
    }
   ],
   "source": [
    "imp.write_database()"
   ]
  },
  {
   "cell_type": "code",
   "execution_count": 41,
   "id": "0cd83cd6-42b6-45da-bc5c-aa20aac3287a",
   "metadata": {},
   "outputs": [
    {
     "name": "stdout",
     "output_type": "stream",
     "text": [
      "Wrote matching file to:\n",
      "C:\\Users\\andraded\\AppData\\Local\\pylca\\Brightway3\\Buildings-Insulation.2ffa2648\\output\\db-matching-Insulators.xlsx\n"
     ]
    },
    {
     "data": {
      "text/plain": [
       "WindowsPath('C:/Users/andraded/AppData/Local/pylca/Brightway3/Buildings-Insulation.2ffa2648/output/db-matching-Insulators.xlsx')"
      ]
     },
     "execution_count": 41,
     "metadata": {},
     "output_type": "execute_result"
    }
   ],
   "source": [
    "#imp.write_excel()"
   ]
  },
  {
   "cell_type": "code",
   "execution_count": 126,
   "id": "70975f70-0933-46e1-8840-39c6f12013bb",
   "metadata": {},
   "outputs": [
    {
     "data": {
      "text/plain": [
       "Databases dictionary with 10 object(s):\n",
       "\tInsulators\n",
       "\tPV 2035\n",
       "\tPV 2050\n",
       "\tPV 2050 - eff\n",
       "\tPV 2050 - eff - lifetime\n",
       "\tbiosphere\n",
       "\tcarbon fiber\n",
       "\tecoinvent-3.10-cutoff\n",
       "\texample\n",
       "\ttemporalis-example"
      ]
     },
     "execution_count": 126,
     "metadata": {},
     "output_type": "execute_result"
    }
   ],
   "source": [
    "bd.databases"
   ]
  },
  {
   "cell_type": "code",
   "execution_count": 9,
   "id": "0df490c8-a950-4319-9604-4758528b159c",
   "metadata": {},
   "outputs": [],
   "source": [
    "Insulator_db = bd.Database('Insulators')"
   ]
  },
  {
   "cell_type": "code",
   "execution_count": 10,
   "id": "e52f5b9d-794a-429a-9ac0-3948d43bcc69",
   "metadata": {},
   "outputs": [
    {
     "data": {
      "text/plain": [
       "'Straw_bale_EoL' (unit, RER, None)"
      ]
     },
     "execution_count": 10,
     "metadata": {},
     "output_type": "execute_result"
    }
   ],
   "source": [
    "Insulator_db.random()"
   ]
  },
  {
   "cell_type": "code",
   "execution_count": 11,
   "id": "de466c54-b4f0-42a7-9dfc-d121c24ad587",
   "metadata": {},
   "outputs": [],
   "source": [
    "eidb=bd.Database('ecoinvent-3.10-cutoff')"
   ]
  },
  {
   "cell_type": "code",
   "execution_count": 12,
   "id": "acfad653-451c-46d0-bdbc-94350c39b24b",
   "metadata": {},
   "outputs": [
    {
     "data": {
      "text/plain": [
       "Databases dictionary with 10 object(s):\n",
       "\tInsulators\n",
       "\tPV 2035\n",
       "\tPV 2050\n",
       "\tPV 2050 - eff\n",
       "\tPV 2050 - eff - lifetime\n",
       "\tbiosphere\n",
       "\tcarbon fiber\n",
       "\tecoinvent-3.10-cutoff\n",
       "\texample\n",
       "\ttemporalis-example"
      ]
     },
     "execution_count": 12,
     "metadata": {},
     "output_type": "execute_result"
    }
   ],
   "source": [
    "bd.databases"
   ]
  },
  {
   "cell_type": "code",
   "execution_count": 15,
   "id": "76ab6e53-fdb6-437a-9542-2b7d46534429",
   "metadata": {},
   "outputs": [],
   "source": [
    "straw_prod = [\n",
    "    act for act in Insulator_db if 'Straw_bale_product' in act['name']\n",
    "][0]"
   ]
  },
  {
   "cell_type": "code",
   "execution_count": 29,
   "id": "82d6ae93-bd13-444d-b191-fc0e2ca3a4bc",
   "metadata": {},
   "outputs": [
    {
     "name": "stdout",
     "output_type": "stream",
     "text": [
      "'Straw_bale_product' (unit, RER, None)\n",
      "'wheat grain production, Swiss integrated production, intensive' (kilogram, CH, None)\n",
      "'transport, freight, lorry 16-32 metric ton, EURO6' (ton kilometer, RER, None)\n",
      "'market for electricity, low voltage' (kilowatt hour, FR, None)\n",
      "'market for diesel' (kilogram, CH, None)\n",
      "'Carbon dioxide, from soil or biomass stock' (kilogram, None, ('air',))\n"
     ]
    }
   ],
   "source": [
    "for exc in straw_prod.exchanges():\n",
    "    # print(exc)\n",
    "    print(exc.input)\n",
    "    "
   ]
  },
  {
   "cell_type": "code",
   "execution_count": 71,
   "id": "ac2a9394-a14b-4fd6-902b-1315812b55f0",
   "metadata": {},
   "outputs": [],
   "source": [
    "process_carbon = [exc for exc in straw_prod.exchanges()][-1]"
   ]
  },
  {
   "cell_type": "code",
   "execution_count": 72,
   "id": "ca75dbbf-ed32-45ea-82a8-6c43fd27460a",
   "metadata": {},
   "outputs": [
    {
     "data": {
      "text/plain": [
       "{'name': 'Carbon dioxide, from soil or biomass stock',\n",
       " 'amount': -52.8,\n",
       " 'unit': 'kilogram',\n",
       " 'categories': ('air',),\n",
       " 'type': 'biosphere',\n",
       " 'database': 'biosphere',\n",
       " 'input': ('biosphere', 'e4e9febc-07c1-403d-8d3a-6707bb4d96e6'),\n",
       " 'output': ('Insulators', '4d74c32f4972cb83fdafd0560027ceff'),\n",
       " 'temporal_distribution': TemporalDistribution instance with 1 values and total: 1}"
      ]
     },
     "execution_count": 72,
     "metadata": {},
     "output_type": "execute_result"
    }
   ],
   "source": [
    "process_carbon.as_dict()"
   ]
  },
  {
   "cell_type": "code",
   "execution_count": 102,
   "id": "fdb98baf-61e8-45eb-9019-89072e6bdbad",
   "metadata": {},
   "outputs": [],
   "source": [
    "temporal_distribution_0 = TemporalDistribution(\n",
    "                    np.array([0], dtype='timedelta64[Y]'),  # Yearly time steps\n",
    "                    np.array([1])\n",
    "                )"
   ]
  },
  {
   "cell_type": "code",
   "execution_count": 111,
   "id": "6a801666-6906-43e3-b672-74f5ba8c6e2e",
   "metadata": {},
   "outputs": [],
   "source": [
    "temporal_distribution_1 = TemporalDistribution(\n",
    "                    np.array([1], dtype='timedelta64[Y]'),  # Yearly time steps\n",
    "                    np.array([1])\n",
    "                )"
   ]
  },
  {
   "cell_type": "code",
   "execution_count": 112,
   "id": "75aadb34-a416-4f48-9d7a-0fdb0d5715ff",
   "metadata": {},
   "outputs": [],
   "source": [
    "process_carbon['temporal_distribution'] = temporal_distribution_0"
   ]
  },
  {
   "cell_type": "code",
   "execution_count": 113,
   "id": "ffa9600e-c08b-4447-9a6b-ad1f8ebea326",
   "metadata": {},
   "outputs": [
    {
     "data": {
      "text/plain": [
       "{'name': 'Carbon dioxide, from soil or biomass stock',\n",
       " 'amount': -52.8,\n",
       " 'unit': 'kilogram',\n",
       " 'categories': ('air',),\n",
       " 'type': 'biosphere',\n",
       " 'database': 'biosphere',\n",
       " 'input': ('biosphere', 'e4e9febc-07c1-403d-8d3a-6707bb4d96e6'),\n",
       " 'output': ('Insulators', '4d74c32f4972cb83fdafd0560027ceff'),\n",
       " 'temporal_distribution': TemporalDistribution instance with 1 values and total: 1}"
      ]
     },
     "execution_count": 113,
     "metadata": {},
     "output_type": "execute_result"
    }
   ],
   "source": [
    "process_carbon.as_dict()"
   ]
  },
  {
   "cell_type": "code",
   "execution_count": 114,
   "id": "a7bd2e10-8291-4edb-bd35-148a760fd6ca",
   "metadata": {},
   "outputs": [
    {
     "data": {
      "text/plain": [
       "{'name': 'Carbon dioxide, from soil or biomass stock',\n",
       " 'amount': -52.8,\n",
       " 'unit': 'kilogram',\n",
       " 'categories': ('air',),\n",
       " 'type': 'biosphere',\n",
       " 'database': 'biosphere',\n",
       " 'input': ('biosphere', 'e4e9febc-07c1-403d-8d3a-6707bb4d96e6'),\n",
       " 'output': ('Insulators', '4d74c32f4972cb83fdafd0560027ceff'),\n",
       " 'temporal_distribution': TemporalDistribution instance with 1 values and total: 1}"
      ]
     },
     "execution_count": 114,
     "metadata": {},
     "output_type": "execute_result"
    }
   ],
   "source": [
    "[exc for exc in straw_prod.exchanges()][-1].as_dict()"
   ]
  },
  {
   "cell_type": "code",
   "execution_count": 115,
   "id": "aefe17c0-6bd2-441b-b782-0d708b74fbc5",
   "metadata": {},
   "outputs": [],
   "source": [
    "process_carbon.save()"
   ]
  },
  {
   "cell_type": "code",
   "execution_count": 116,
   "id": "10941bd2-c6fd-4da2-8a2c-4e07cd5c0a88",
   "metadata": {},
   "outputs": [],
   "source": [
    "process_wheat = [exc for exc in straw_prod.exchanges()][1]\n",
    "process_wheat['temporal_distribution'] = temporal_distribution_0\n",
    "process_wheat.save()\n",
    "process_wheat.as_dict()"
   ]
  },
  {
   "cell_type": "code",
   "execution_count": 117,
   "id": "9e2f2666-55dc-4156-9421-bb2ebf260088",
   "metadata": {},
   "outputs": [
    {
     "data": {
      "text/plain": [
       "{'name': 'wheat grain production, Swiss integrated production, intensive',\n",
       " 'amount': 35,\n",
       " 'reference product': 'straw',\n",
       " 'location': 'CH',\n",
       " 'unit': 'kilogram',\n",
       " 'type': 'technosphere',\n",
       " 'database': 'ecoinvent-3.10-cutoff',\n",
       " 'input': ('ecoinvent-3.10-cutoff', 'ec93e72d405e4697085bad3af1c26c20'),\n",
       " 'output': ('Insulators', '4d74c32f4972cb83fdafd0560027ceff'),\n",
       " 'temporal_distribution': TemporalDistribution instance with 1 values and total: 1}"
      ]
     },
     "execution_count": 117,
     "metadata": {},
     "output_type": "execute_result"
    }
   ],
   "source": [
    "process_wheat.save()\n",
    "process_wheat.as_dict()"
   ]
  },
  {
   "cell_type": "code",
   "execution_count": 118,
   "id": "2cc69149-1958-4e7d-be7a-55b49b33b904",
   "metadata": {},
   "outputs": [
    {
     "data": {
      "text/plain": [
       "{'name': 'transport, freight, lorry 16-32 metric ton, EURO6',\n",
       " 'amount': 0.525,\n",
       " 'reference product': 'transport, freight, lorry 16-32 metric ton, EURO6',\n",
       " 'location': 'RER',\n",
       " 'unit': 'ton kilometer',\n",
       " 'type': 'technosphere',\n",
       " 'database': 'ecoinvent-3.10-cutoff',\n",
       " 'input': ('ecoinvent-3.10-cutoff', 'bc403494d398b1abe796db9820541f85'),\n",
       " 'output': ('Insulators', '4d74c32f4972cb83fdafd0560027ceff'),\n",
       " 'temporal_distribution': TemporalDistribution instance with 1 values and total: 1}"
      ]
     },
     "execution_count": 118,
     "metadata": {},
     "output_type": "execute_result"
    }
   ],
   "source": [
    "process_transport = [exc for exc in straw_prod.exchanges()][2]\n",
    "process_transport['temporal_distribution'] = temporal_distribution_1\n",
    "process_transport.save()\n",
    "process_transport.as_dict()"
   ]
  },
  {
   "cell_type": "code",
   "execution_count": 93,
   "id": "a18d021a-e9f8-40c7-81a7-3060431a84b2",
   "metadata": {},
   "outputs": [],
   "source": [
    "ipcc2021 = [m for m in bd.methods if 'IPCC' in str(m)\n",
    "                    and ('2021') in str(m)\n",
    "                    and 'GWP100' in str(m)\n",
    "                    and 'no LT' not in str(m)\n",
    "                    and 'SLCF' not in str(m)\n",
    "           ][0]"
   ]
  },
  {
   "cell_type": "code",
   "execution_count": 94,
   "id": "aeaf7c8b-b5fe-4f53-be59-ec09d2e5adee",
   "metadata": {},
   "outputs": [],
   "source": [
    "ipcc_2021_method = bd.Method(ipcc2021)"
   ]
  },
  {
   "cell_type": "code",
   "execution_count": 119,
   "id": "7f525da7-9890-4cf9-aaf7-1dc6488705c9",
   "metadata": {},
   "outputs": [
    {
     "name": "stderr",
     "output_type": "stream",
     "text": [
      "/opt/anaconda3/envs/bw25/lib/python3.11/site-packages/scikits/umfpack/umfpack.py:736: UmfpackWarning: (almost) singular matrix! (estimated cond. number: 1.21e+13)\n",
      "  warnings.warn(msg, UmfpackWarning)\n"
     ]
    },
    {
     "name": "stdout",
     "output_type": "stream",
     "text": [
      "Starting graph traversal\n",
      "Calculation count: 31\n"
     ]
    }
   ],
   "source": [
    "lca = bc.LCA({straw_prod: 1}, ipcc_2021_method.name)\n",
    "lca.lci()\n",
    "lca.lcia()\n",
    "\n",
    "tlca = TemporalisLCA(lca)\n",
    "tl = tlca.build_timeline()\n",
    "df = tl.build_dataframe()\n",
    "\n"
   ]
  },
  {
   "cell_type": "code",
   "execution_count": 120,
   "id": "6d5be8c7-d43e-4dc3-a757-1fbe6b909399",
   "metadata": {},
   "outputs": [
    {
     "data": {
      "text/html": [
       "<div>\n",
       "<style scoped>\n",
       "    .dataframe tbody tr th:only-of-type {\n",
       "        vertical-align: middle;\n",
       "    }\n",
       "\n",
       "    .dataframe tbody tr th {\n",
       "        vertical-align: top;\n",
       "    }\n",
       "\n",
       "    .dataframe thead th {\n",
       "        text-align: right;\n",
       "    }\n",
       "</style>\n",
       "<table border=\"1\" class=\"dataframe\">\n",
       "  <thead>\n",
       "    <tr style=\"text-align: right;\">\n",
       "      <th></th>\n",
       "      <th>date</th>\n",
       "      <th>amount</th>\n",
       "      <th>flow</th>\n",
       "      <th>activity</th>\n",
       "    </tr>\n",
       "  </thead>\n",
       "  <tbody>\n",
       "    <tr>\n",
       "      <th>0</th>\n",
       "      <td>2024-11-15 11:38:37</td>\n",
       "      <td>-5.280000e+01</td>\n",
       "      <td>3208</td>\n",
       "      <td>121996</td>\n",
       "    </tr>\n",
       "    <tr>\n",
       "      <th>1</th>\n",
       "      <td>2024-11-15 11:38:37</td>\n",
       "      <td>1.392793e-02</td>\n",
       "      <td>107</td>\n",
       "      <td>8505</td>\n",
       "    </tr>\n",
       "    <tr>\n",
       "      <th>2</th>\n",
       "      <td>2024-11-15 11:38:37</td>\n",
       "      <td>4.517530e-05</td>\n",
       "      <td>4192</td>\n",
       "      <td>23102</td>\n",
       "    </tr>\n",
       "    <tr>\n",
       "      <th>3</th>\n",
       "      <td>2024-11-15 11:38:37</td>\n",
       "      <td>1.200443e-06</td>\n",
       "      <td>4193</td>\n",
       "      <td>5497</td>\n",
       "    </tr>\n",
       "    <tr>\n",
       "      <th>4</th>\n",
       "      <td>2024-11-15 11:38:37</td>\n",
       "      <td>3.119262e-02</td>\n",
       "      <td>1031</td>\n",
       "      <td>5497</td>\n",
       "    </tr>\n",
       "    <tr>\n",
       "      <th>5</th>\n",
       "      <td>2024-11-15 11:38:37</td>\n",
       "      <td>5.028629e-07</td>\n",
       "      <td>4193</td>\n",
       "      <td>20327</td>\n",
       "    </tr>\n",
       "    <tr>\n",
       "      <th>6</th>\n",
       "      <td>2024-11-15 11:38:37</td>\n",
       "      <td>1.304419e-02</td>\n",
       "      <td>1031</td>\n",
       "      <td>20327</td>\n",
       "    </tr>\n",
       "    <tr>\n",
       "      <th>7</th>\n",
       "      <td>2024-11-15 11:38:37</td>\n",
       "      <td>2.032247e-06</td>\n",
       "      <td>1390</td>\n",
       "      <td>26435</td>\n",
       "    </tr>\n",
       "    <tr>\n",
       "      <th>8</th>\n",
       "      <td>2024-11-15 11:38:37</td>\n",
       "      <td>1.890462e-06</td>\n",
       "      <td>4193</td>\n",
       "      <td>26435</td>\n",
       "    </tr>\n",
       "    <tr>\n",
       "      <th>9</th>\n",
       "      <td>2024-11-15 11:38:37</td>\n",
       "      <td>4.867940e-02</td>\n",
       "      <td>1031</td>\n",
       "      <td>26435</td>\n",
       "    </tr>\n",
       "    <tr>\n",
       "      <th>10</th>\n",
       "      <td>2024-11-15 11:38:37</td>\n",
       "      <td>1.479287e-06</td>\n",
       "      <td>4193</td>\n",
       "      <td>16657</td>\n",
       "    </tr>\n",
       "    <tr>\n",
       "      <th>11</th>\n",
       "      <td>2024-11-15 11:38:37</td>\n",
       "      <td>3.837638e-02</td>\n",
       "      <td>1031</td>\n",
       "      <td>16657</td>\n",
       "    </tr>\n",
       "    <tr>\n",
       "      <th>12</th>\n",
       "      <td>2024-11-15 11:38:37</td>\n",
       "      <td>8.790648e-07</td>\n",
       "      <td>4193</td>\n",
       "      <td>14797</td>\n",
       "    </tr>\n",
       "    <tr>\n",
       "      <th>13</th>\n",
       "      <td>2024-11-15 11:38:37</td>\n",
       "      <td>2.282733e-02</td>\n",
       "      <td>1031</td>\n",
       "      <td>14797</td>\n",
       "    </tr>\n",
       "    <tr>\n",
       "      <th>14</th>\n",
       "      <td>2024-11-15 11:38:37</td>\n",
       "      <td>1.749055e-02</td>\n",
       "      <td>1031</td>\n",
       "      <td>16070</td>\n",
       "    </tr>\n",
       "    <tr>\n",
       "      <th>15</th>\n",
       "      <td>2024-11-15 11:38:37</td>\n",
       "      <td>1.639976e-03</td>\n",
       "      <td>4193</td>\n",
       "      <td>16070</td>\n",
       "    </tr>\n",
       "    <tr>\n",
       "      <th>16</th>\n",
       "      <td>2024-11-15 11:38:37</td>\n",
       "      <td>1.392392e-02</td>\n",
       "      <td>107</td>\n",
       "      <td>8505</td>\n",
       "    </tr>\n",
       "    <tr>\n",
       "      <th>17</th>\n",
       "      <td>2024-11-15 11:38:37</td>\n",
       "      <td>-1.750909e-02</td>\n",
       "      <td>107</td>\n",
       "      <td>12411</td>\n",
       "    </tr>\n",
       "    <tr>\n",
       "      <th>18</th>\n",
       "      <td>2025-11-15 17:27:49</td>\n",
       "      <td>3.222812e-06</td>\n",
       "      <td>4195</td>\n",
       "      <td>23969</td>\n",
       "    </tr>\n",
       "    <tr>\n",
       "      <th>19</th>\n",
       "      <td>2025-11-15 17:27:49</td>\n",
       "      <td>6.026855e-02</td>\n",
       "      <td>1034</td>\n",
       "      <td>23969</td>\n",
       "    </tr>\n",
       "  </tbody>\n",
       "</table>\n",
       "</div>"
      ],
      "text/plain": [
       "                  date        amount  flow  activity\n",
       "0  2024-11-15 11:38:37 -5.280000e+01  3208    121996\n",
       "1  2024-11-15 11:38:37  1.392793e-02   107      8505\n",
       "2  2024-11-15 11:38:37  4.517530e-05  4192     23102\n",
       "3  2024-11-15 11:38:37  1.200443e-06  4193      5497\n",
       "4  2024-11-15 11:38:37  3.119262e-02  1031      5497\n",
       "5  2024-11-15 11:38:37  5.028629e-07  4193     20327\n",
       "6  2024-11-15 11:38:37  1.304419e-02  1031     20327\n",
       "7  2024-11-15 11:38:37  2.032247e-06  1390     26435\n",
       "8  2024-11-15 11:38:37  1.890462e-06  4193     26435\n",
       "9  2024-11-15 11:38:37  4.867940e-02  1031     26435\n",
       "10 2024-11-15 11:38:37  1.479287e-06  4193     16657\n",
       "11 2024-11-15 11:38:37  3.837638e-02  1031     16657\n",
       "12 2024-11-15 11:38:37  8.790648e-07  4193     14797\n",
       "13 2024-11-15 11:38:37  2.282733e-02  1031     14797\n",
       "14 2024-11-15 11:38:37  1.749055e-02  1031     16070\n",
       "15 2024-11-15 11:38:37  1.639976e-03  4193     16070\n",
       "16 2024-11-15 11:38:37  1.392392e-02   107      8505\n",
       "17 2024-11-15 11:38:37 -1.750909e-02   107     12411\n",
       "18 2025-11-15 17:27:49  3.222812e-06  4195     23969\n",
       "19 2025-11-15 17:27:49  6.026855e-02  1034     23969"
      ]
     },
     "execution_count": 120,
     "metadata": {},
     "output_type": "execute_result"
    }
   ],
   "source": [
    "df"
   ]
  },
  {
   "cell_type": "code",
   "execution_count": 128,
   "id": "96326c4d-88d5-45a7-884f-a3ed30ff4fed",
   "metadata": {},
   "outputs": [
    {
     "ename": "ValueError",
     "evalue": "The column label 'activity' is not unique.",
     "output_type": "error",
     "traceback": [
      "\u001b[0;31m---------------------------------------------------------------------------\u001b[0m",
      "\u001b[0;31mValueError\u001b[0m                                Traceback (most recent call last)",
      "\u001b[0;32m/var/folders/h1/3vs934hn2v9g_69dn7py9qvh0000gn/T/ipykernel_79178/957866389.py\u001b[0m in \u001b[0;36m?\u001b[0;34m()\u001b[0m\n\u001b[1;32m      1\u001b[0m \u001b[0mdf\u001b[0m\u001b[0;34m[\u001b[0m\u001b[0;34m'cum_amount'\u001b[0m\u001b[0;34m]\u001b[0m \u001b[0;34m=\u001b[0m \u001b[0mdf\u001b[0m\u001b[0;34m[\u001b[0m\u001b[0;34m'amount'\u001b[0m\u001b[0;34m]\u001b[0m\u001b[0;34m.\u001b[0m\u001b[0mcumsum\u001b[0m\u001b[0;34m(\u001b[0m\u001b[0;34m)\u001b[0m\u001b[0;34m\u001b[0m\u001b[0;34m\u001b[0m\u001b[0m\n\u001b[1;32m      2\u001b[0m \u001b[0;34m\u001b[0m\u001b[0m\n\u001b[0;32m----> 3\u001b[0;31m df_modi = df.merge(\n\u001b[0m\u001b[1;32m      4\u001b[0m     \u001b[0mbd\u001b[0m\u001b[0;34m.\u001b[0m\u001b[0mDatabase\u001b[0m\u001b[0;34m(\u001b[0m\u001b[0;34m'ecoinvent-3.10-cutoff'\u001b[0m\u001b[0;34m)\u001b[0m\u001b[0;34m.\u001b[0m\u001b[0mnodes_to_dataframe\u001b[0m\u001b[0;34m(\u001b[0m\u001b[0;34m)\u001b[0m\u001b[0;34m.\u001b[0m\u001b[0mrename\u001b[0m\u001b[0;34m(\u001b[0m\u001b[0mcolumns\u001b[0m\u001b[0;34m=\u001b[0m\u001b[0;34m{\u001b[0m\u001b[0;34m'id'\u001b[0m\u001b[0;34m:\u001b[0m \u001b[0;34m'activity'\u001b[0m\u001b[0;34m}\u001b[0m\u001b[0;34m)\u001b[0m\u001b[0;34m,\u001b[0m\u001b[0;34m\u001b[0m\u001b[0;34m\u001b[0m\u001b[0m\n\u001b[1;32m      5\u001b[0m     \u001b[0mon\u001b[0m\u001b[0;34m=\u001b[0m\u001b[0;34m'activity'\u001b[0m\u001b[0;34m\u001b[0m\u001b[0;34m\u001b[0m\u001b[0m\n\u001b[1;32m      6\u001b[0m )\n",
      "\u001b[0;32m/opt/anaconda3/envs/bw25/lib/python3.11/site-packages/pandas/core/frame.py\u001b[0m in \u001b[0;36m?\u001b[0;34m(self, right, how, on, left_on, right_on, left_index, right_index, sort, suffixes, copy, indicator, validate)\u001b[0m\n\u001b[1;32m  10828\u001b[0m         \u001b[0mvalidate\u001b[0m\u001b[0;34m:\u001b[0m \u001b[0mMergeValidate\u001b[0m \u001b[0;34m|\u001b[0m \u001b[0;32mNone\u001b[0m \u001b[0;34m=\u001b[0m \u001b[0;32mNone\u001b[0m\u001b[0;34m,\u001b[0m\u001b[0;34m\u001b[0m\u001b[0;34m\u001b[0m\u001b[0m\n\u001b[1;32m  10829\u001b[0m     ) -> DataFrame:\n\u001b[1;32m  10830\u001b[0m         \u001b[0;32mfrom\u001b[0m \u001b[0mpandas\u001b[0m\u001b[0;34m.\u001b[0m\u001b[0mcore\u001b[0m\u001b[0;34m.\u001b[0m\u001b[0mreshape\u001b[0m\u001b[0;34m.\u001b[0m\u001b[0mmerge\u001b[0m \u001b[0;32mimport\u001b[0m \u001b[0mmerge\u001b[0m\u001b[0;34m\u001b[0m\u001b[0;34m\u001b[0m\u001b[0m\n\u001b[1;32m  10831\u001b[0m \u001b[0;34m\u001b[0m\u001b[0m\n\u001b[0;32m> 10832\u001b[0;31m         return merge(\n\u001b[0m\u001b[1;32m  10833\u001b[0m             \u001b[0mself\u001b[0m\u001b[0;34m,\u001b[0m\u001b[0;34m\u001b[0m\u001b[0;34m\u001b[0m\u001b[0m\n\u001b[1;32m  10834\u001b[0m             \u001b[0mright\u001b[0m\u001b[0;34m,\u001b[0m\u001b[0;34m\u001b[0m\u001b[0;34m\u001b[0m\u001b[0m\n\u001b[1;32m  10835\u001b[0m             \u001b[0mhow\u001b[0m\u001b[0;34m=\u001b[0m\u001b[0mhow\u001b[0m\u001b[0;34m,\u001b[0m\u001b[0;34m\u001b[0m\u001b[0;34m\u001b[0m\u001b[0m\n",
      "\u001b[0;32m/opt/anaconda3/envs/bw25/lib/python3.11/site-packages/pandas/core/reshape/merge.py\u001b[0m in \u001b[0;36m?\u001b[0;34m(left, right, how, on, left_on, right_on, left_index, right_index, sort, suffixes, copy, indicator, validate)\u001b[0m\n\u001b[1;32m    166\u001b[0m             \u001b[0mvalidate\u001b[0m\u001b[0;34m=\u001b[0m\u001b[0mvalidate\u001b[0m\u001b[0;34m,\u001b[0m\u001b[0;34m\u001b[0m\u001b[0;34m\u001b[0m\u001b[0m\n\u001b[1;32m    167\u001b[0m             \u001b[0mcopy\u001b[0m\u001b[0;34m=\u001b[0m\u001b[0mcopy\u001b[0m\u001b[0;34m,\u001b[0m\u001b[0;34m\u001b[0m\u001b[0;34m\u001b[0m\u001b[0m\n\u001b[1;32m    168\u001b[0m         )\n\u001b[1;32m    169\u001b[0m     \u001b[0;32melse\u001b[0m\u001b[0;34m:\u001b[0m\u001b[0;34m\u001b[0m\u001b[0;34m\u001b[0m\u001b[0m\n\u001b[0;32m--> 170\u001b[0;31m         op = _MergeOperation(\n\u001b[0m\u001b[1;32m    171\u001b[0m             \u001b[0mleft_df\u001b[0m\u001b[0;34m,\u001b[0m\u001b[0;34m\u001b[0m\u001b[0;34m\u001b[0m\u001b[0m\n\u001b[1;32m    172\u001b[0m             \u001b[0mright_df\u001b[0m\u001b[0;34m,\u001b[0m\u001b[0;34m\u001b[0m\u001b[0;34m\u001b[0m\u001b[0m\n\u001b[1;32m    173\u001b[0m             \u001b[0mhow\u001b[0m\u001b[0;34m=\u001b[0m\u001b[0mhow\u001b[0m\u001b[0;34m,\u001b[0m\u001b[0;34m\u001b[0m\u001b[0;34m\u001b[0m\u001b[0m\n",
      "\u001b[0;32m/opt/anaconda3/envs/bw25/lib/python3.11/site-packages/pandas/core/reshape/merge.py\u001b[0m in \u001b[0;36m?\u001b[0;34m(self, left, right, how, on, left_on, right_on, left_index, right_index, sort, suffixes, indicator, validate)\u001b[0m\n\u001b[1;32m    790\u001b[0m             \u001b[0mself\u001b[0m\u001b[0;34m.\u001b[0m\u001b[0mright_join_keys\u001b[0m\u001b[0;34m,\u001b[0m\u001b[0;34m\u001b[0m\u001b[0;34m\u001b[0m\u001b[0m\n\u001b[1;32m    791\u001b[0m             \u001b[0mself\u001b[0m\u001b[0;34m.\u001b[0m\u001b[0mjoin_names\u001b[0m\u001b[0;34m,\u001b[0m\u001b[0;34m\u001b[0m\u001b[0;34m\u001b[0m\u001b[0m\n\u001b[1;32m    792\u001b[0m             \u001b[0mleft_drop\u001b[0m\u001b[0;34m,\u001b[0m\u001b[0;34m\u001b[0m\u001b[0;34m\u001b[0m\u001b[0m\n\u001b[1;32m    793\u001b[0m             \u001b[0mright_drop\u001b[0m\u001b[0;34m,\u001b[0m\u001b[0;34m\u001b[0m\u001b[0;34m\u001b[0m\u001b[0m\n\u001b[0;32m--> 794\u001b[0;31m         ) = self._get_merge_keys()\n\u001b[0m\u001b[1;32m    795\u001b[0m \u001b[0;34m\u001b[0m\u001b[0m\n\u001b[1;32m    796\u001b[0m         \u001b[0;32mif\u001b[0m \u001b[0mleft_drop\u001b[0m\u001b[0;34m:\u001b[0m\u001b[0;34m\u001b[0m\u001b[0;34m\u001b[0m\u001b[0m\n\u001b[1;32m    797\u001b[0m             \u001b[0mself\u001b[0m\u001b[0;34m.\u001b[0m\u001b[0mleft\u001b[0m \u001b[0;34m=\u001b[0m \u001b[0mself\u001b[0m\u001b[0;34m.\u001b[0m\u001b[0mleft\u001b[0m\u001b[0;34m.\u001b[0m\u001b[0m_drop_labels_or_levels\u001b[0m\u001b[0;34m(\u001b[0m\u001b[0mleft_drop\u001b[0m\u001b[0;34m)\u001b[0m\u001b[0;34m\u001b[0m\u001b[0;34m\u001b[0m\u001b[0m\n",
      "\u001b[0;32m/opt/anaconda3/envs/bw25/lib/python3.11/site-packages/pandas/core/reshape/merge.py\u001b[0m in \u001b[0;36m?\u001b[0;34m(self)\u001b[0m\n\u001b[1;32m   1293\u001b[0m                         \u001b[0;31m# Then we're either Hashable or a wrong-length arraylike,\u001b[0m\u001b[0;34m\u001b[0m\u001b[0;34m\u001b[0m\u001b[0m\n\u001b[1;32m   1294\u001b[0m                         \u001b[0;31m#  the latter of which will raise\u001b[0m\u001b[0;34m\u001b[0m\u001b[0;34m\u001b[0m\u001b[0m\n\u001b[1;32m   1295\u001b[0m                         \u001b[0mrk\u001b[0m \u001b[0;34m=\u001b[0m \u001b[0mcast\u001b[0m\u001b[0;34m(\u001b[0m\u001b[0mHashable\u001b[0m\u001b[0;34m,\u001b[0m \u001b[0mrk\u001b[0m\u001b[0;34m)\u001b[0m\u001b[0;34m\u001b[0m\u001b[0;34m\u001b[0m\u001b[0m\n\u001b[1;32m   1296\u001b[0m                         \u001b[0;32mif\u001b[0m \u001b[0mrk\u001b[0m \u001b[0;32mis\u001b[0m \u001b[0;32mnot\u001b[0m \u001b[0;32mNone\u001b[0m\u001b[0;34m:\u001b[0m\u001b[0;34m\u001b[0m\u001b[0;34m\u001b[0m\u001b[0m\n\u001b[0;32m-> 1297\u001b[0;31m                             \u001b[0mright_keys\u001b[0m\u001b[0;34m.\u001b[0m\u001b[0mappend\u001b[0m\u001b[0;34m(\u001b[0m\u001b[0mright\u001b[0m\u001b[0;34m.\u001b[0m\u001b[0m_get_label_or_level_values\u001b[0m\u001b[0;34m(\u001b[0m\u001b[0mrk\u001b[0m\u001b[0;34m)\u001b[0m\u001b[0;34m)\u001b[0m\u001b[0;34m\u001b[0m\u001b[0;34m\u001b[0m\u001b[0m\n\u001b[0m\u001b[1;32m   1298\u001b[0m                         \u001b[0;32melse\u001b[0m\u001b[0;34m:\u001b[0m\u001b[0;34m\u001b[0m\u001b[0;34m\u001b[0m\u001b[0m\n\u001b[1;32m   1299\u001b[0m                             \u001b[0;31m# work-around for merge_asof(right_index=True)\u001b[0m\u001b[0;34m\u001b[0m\u001b[0;34m\u001b[0m\u001b[0m\n\u001b[1;32m   1300\u001b[0m                             \u001b[0mright_keys\u001b[0m\u001b[0;34m.\u001b[0m\u001b[0mappend\u001b[0m\u001b[0;34m(\u001b[0m\u001b[0mright\u001b[0m\u001b[0;34m.\u001b[0m\u001b[0mindex\u001b[0m\u001b[0;34m.\u001b[0m\u001b[0m_values\u001b[0m\u001b[0;34m)\u001b[0m\u001b[0;34m\u001b[0m\u001b[0;34m\u001b[0m\u001b[0m\n",
      "\u001b[0;32m/opt/anaconda3/envs/bw25/lib/python3.11/site-packages/pandas/core/generic.py\u001b[0m in \u001b[0;36m?\u001b[0;34m(self, key, axis)\u001b[0m\n\u001b[1;32m   1921\u001b[0m             \u001b[0;32melse\u001b[0m\u001b[0;34m:\u001b[0m\u001b[0;34m\u001b[0m\u001b[0;34m\u001b[0m\u001b[0m\n\u001b[1;32m   1922\u001b[0m                 \u001b[0mmulti_message\u001b[0m \u001b[0;34m=\u001b[0m \u001b[0;34m\"\"\u001b[0m\u001b[0;34m\u001b[0m\u001b[0;34m\u001b[0m\u001b[0m\n\u001b[1;32m   1923\u001b[0m \u001b[0;34m\u001b[0m\u001b[0m\n\u001b[1;32m   1924\u001b[0m             \u001b[0mlabel_axis_name\u001b[0m \u001b[0;34m=\u001b[0m \u001b[0;34m\"column\"\u001b[0m \u001b[0;32mif\u001b[0m \u001b[0maxis\u001b[0m \u001b[0;34m==\u001b[0m \u001b[0;36m0\u001b[0m \u001b[0;32melse\u001b[0m \u001b[0;34m\"index\"\u001b[0m\u001b[0;34m\u001b[0m\u001b[0;34m\u001b[0m\u001b[0m\n\u001b[0;32m-> 1925\u001b[0;31m             raise ValueError(\n\u001b[0m\u001b[1;32m   1926\u001b[0m                 \u001b[0;34mf\"The {label_axis_name} label '{key}' is not unique.{multi_message}\"\u001b[0m\u001b[0;34m\u001b[0m\u001b[0;34m\u001b[0m\u001b[0m\n\u001b[1;32m   1927\u001b[0m             )\n\u001b[1;32m   1928\u001b[0m \u001b[0;34m\u001b[0m\u001b[0m\n",
      "\u001b[0;31mValueError\u001b[0m: The column label 'activity' is not unique."
     ]
    }
   ],
   "source": [
    "df['cum_amount'] = df['amount'].cumsum()\n",
    "\n",
    "df_modi = df.merge(\n",
    "    bd.Database('Insulators').nodes_to_dataframe().rename(columns={'id': 'activity'}), \n",
    "    on='activity'\n",
    ")"
   ]
  },
  {
   "cell_type": "code",
   "execution_count": 123,
   "id": "89002028-1e38-4700-a82c-51bb450a8bd9",
   "metadata": {},
   "outputs": [
    {
     "data": {
      "text/html": [
       "<div>\n",
       "<style scoped>\n",
       "    .dataframe tbody tr th:only-of-type {\n",
       "        vertical-align: middle;\n",
       "    }\n",
       "\n",
       "    .dataframe tbody tr th {\n",
       "        vertical-align: top;\n",
       "    }\n",
       "\n",
       "    .dataframe thead th {\n",
       "        text-align: right;\n",
       "    }\n",
       "</style>\n",
       "<table border=\"1\" class=\"dataframe\">\n",
       "  <thead>\n",
       "    <tr style=\"text-align: right;\">\n",
       "      <th></th>\n",
       "      <th>code</th>\n",
       "      <th>comment</th>\n",
       "      <th>database</th>\n",
       "      <th>activity</th>\n",
       "      <th>location</th>\n",
       "      <th>name</th>\n",
       "      <th>production amount</th>\n",
       "      <th>reference product</th>\n",
       "      <th>type</th>\n",
       "      <th>unit</th>\n",
       "      <th>worksheet name</th>\n",
       "    </tr>\n",
       "  </thead>\n",
       "  <tbody>\n",
       "    <tr>\n",
       "      <th>0</th>\n",
       "      <td>9503250025219c27273ebe1b28e0ac7a</td>\n",
       "      <td>None</td>\n",
       "      <td>Insulators</td>\n",
       "      <td>121995</td>\n",
       "      <td>RER</td>\n",
       "      <td>EPS_EoL</td>\n",
       "      <td>1</td>\n",
       "      <td>EPS, insulation</td>\n",
       "      <td>processwithreferenceproduct</td>\n",
       "      <td>unit</td>\n",
       "      <td>lci</td>\n",
       "    </tr>\n",
       "    <tr>\n",
       "      <th>3</th>\n",
       "      <td>10c1060a3a5c2d5bb0ea1149d9b8bf62</td>\n",
       "      <td>None</td>\n",
       "      <td>Insulators</td>\n",
       "      <td>121994</td>\n",
       "      <td>RER</td>\n",
       "      <td>EPS_product</td>\n",
       "      <td>1</td>\n",
       "      <td>EPS, insulation</td>\n",
       "      <td>processwithreferenceproduct</td>\n",
       "      <td>unit</td>\n",
       "      <td>lci</td>\n",
       "    </tr>\n",
       "    <tr>\n",
       "      <th>1</th>\n",
       "      <td>9e8f6c61071e39dbf065233a99e0f8a4</td>\n",
       "      <td>None</td>\n",
       "      <td>Insulators</td>\n",
       "      <td>121997</td>\n",
       "      <td>RER</td>\n",
       "      <td>Straw_bale_EoL</td>\n",
       "      <td>1</td>\n",
       "      <td>Straw_bale, insulation</td>\n",
       "      <td>processwithreferenceproduct</td>\n",
       "      <td>unit</td>\n",
       "      <td>lci</td>\n",
       "    </tr>\n",
       "    <tr>\n",
       "      <th>2</th>\n",
       "      <td>4d74c32f4972cb83fdafd0560027ceff</td>\n",
       "      <td>None</td>\n",
       "      <td>Insulators</td>\n",
       "      <td>121996</td>\n",
       "      <td>RER</td>\n",
       "      <td>Straw_bale_product</td>\n",
       "      <td>1</td>\n",
       "      <td>Straw_bale, insulation</td>\n",
       "      <td>processwithreferenceproduct</td>\n",
       "      <td>unit</td>\n",
       "      <td>lci</td>\n",
       "    </tr>\n",
       "  </tbody>\n",
       "</table>\n",
       "</div>"
      ],
      "text/plain": [
       "                               code comment    database  activity location  \\\n",
       "0  9503250025219c27273ebe1b28e0ac7a    None  Insulators    121995      RER   \n",
       "3  10c1060a3a5c2d5bb0ea1149d9b8bf62    None  Insulators    121994      RER   \n",
       "1  9e8f6c61071e39dbf065233a99e0f8a4    None  Insulators    121997      RER   \n",
       "2  4d74c32f4972cb83fdafd0560027ceff    None  Insulators    121996      RER   \n",
       "\n",
       "                 name  production amount       reference product  \\\n",
       "0             EPS_EoL                  1         EPS, insulation   \n",
       "3         EPS_product                  1         EPS, insulation   \n",
       "1      Straw_bale_EoL                  1  Straw_bale, insulation   \n",
       "2  Straw_bale_product                  1  Straw_bale, insulation   \n",
       "\n",
       "                          type  unit worksheet name  \n",
       "0  processwithreferenceproduct  unit            lci  \n",
       "3  processwithreferenceproduct  unit            lci  \n",
       "1  processwithreferenceproduct  unit            lci  \n",
       "2  processwithreferenceproduct  unit            lci  "
      ]
     },
     "execution_count": 123,
     "metadata": {},
     "output_type": "execute_result"
    }
   ],
   "source": [
    "bd.Database('Insulators').nodes_to_dataframe().rename(columns={'id': 'activity'})"
   ]
  },
  {
   "cell_type": "code",
   "execution_count": 122,
   "id": "a3f88ac8-7dfb-4179-a84a-aedcfeb95e62",
   "metadata": {},
   "outputs": [
    {
     "data": {
      "text/html": [
       "<div>\n",
       "<style scoped>\n",
       "    .dataframe tbody tr th:only-of-type {\n",
       "        vertical-align: middle;\n",
       "    }\n",
       "\n",
       "    .dataframe tbody tr th {\n",
       "        vertical-align: top;\n",
       "    }\n",
       "\n",
       "    .dataframe thead th {\n",
       "        text-align: right;\n",
       "    }\n",
       "</style>\n",
       "<table border=\"1\" class=\"dataframe\">\n",
       "  <thead>\n",
       "    <tr style=\"text-align: right;\">\n",
       "      <th></th>\n",
       "      <th>date</th>\n",
       "      <th>amount</th>\n",
       "      <th>flow</th>\n",
       "      <th>activity</th>\n",
       "      <th>cum_amount</th>\n",
       "      <th>code</th>\n",
       "      <th>comment</th>\n",
       "      <th>database</th>\n",
       "      <th>location</th>\n",
       "      <th>name</th>\n",
       "      <th>production amount</th>\n",
       "      <th>reference product</th>\n",
       "      <th>type</th>\n",
       "      <th>unit</th>\n",
       "      <th>worksheet name</th>\n",
       "    </tr>\n",
       "  </thead>\n",
       "  <tbody>\n",
       "    <tr>\n",
       "      <th>0</th>\n",
       "      <td>2024-11-15 11:38:37</td>\n",
       "      <td>-52.799999</td>\n",
       "      <td>3208</td>\n",
       "      <td>121996</td>\n",
       "      <td>-52.799999</td>\n",
       "      <td>4d74c32f4972cb83fdafd0560027ceff</td>\n",
       "      <td>None</td>\n",
       "      <td>Insulators</td>\n",
       "      <td>RER</td>\n",
       "      <td>Straw_bale_product</td>\n",
       "      <td>1</td>\n",
       "      <td>Straw_bale, insulation</td>\n",
       "      <td>processwithreferenceproduct</td>\n",
       "      <td>unit</td>\n",
       "      <td>lci</td>\n",
       "    </tr>\n",
       "  </tbody>\n",
       "</table>\n",
       "</div>"
      ],
      "text/plain": [
       "                 date     amount  flow  activity  cum_amount  \\\n",
       "0 2024-11-15 11:38:37 -52.799999  3208    121996  -52.799999   \n",
       "\n",
       "                               code comment    database location  \\\n",
       "0  4d74c32f4972cb83fdafd0560027ceff    None  Insulators      RER   \n",
       "\n",
       "                 name  production amount       reference product  \\\n",
       "0  Straw_bale_product                  1  Straw_bale, insulation   \n",
       "\n",
       "                          type  unit worksheet name  \n",
       "0  processwithreferenceproduct  unit            lci  "
      ]
     },
     "execution_count": 122,
     "metadata": {},
     "output_type": "execute_result"
    }
   ],
   "source": [
    "df_modi"
   ]
  },
  {
   "cell_type": "code",
   "execution_count": 97,
   "id": "f5307b13-9ff4-4b36-8e94-89ef01d4e9a0",
   "metadata": {},
   "outputs": [
    {
     "ename": "MultipleResults",
     "evalue": "Found 2 results for the given search",
     "output_type": "error",
     "traceback": [
      "\u001b[0;31m---------------------------------------------------------------------------\u001b[0m",
      "\u001b[0;31mMultipleResults\u001b[0m                           Traceback (most recent call last)",
      "Cell \u001b[0;32mIn[97], line 3\u001b[0m\n\u001b[1;32m      1\u001b[0m characterized_df \u001b[38;5;241m=\u001b[39m tl\u001b[38;5;241m.\u001b[39mcharacterize_dataframe(\n\u001b[1;32m      2\u001b[0m         characterization_function\u001b[38;5;241m=\u001b[39mcharacterize_co2, \n\u001b[0;32m----> 3\u001b[0m         flow\u001b[38;5;241m=\u001b[39m{\u001b[43mbd\u001b[49m\u001b[38;5;241;43m.\u001b[39;49m\u001b[43mget_node\u001b[49m\u001b[43m(\u001b[49m\u001b[43mname\u001b[49m\u001b[38;5;241;43m=\u001b[39;49m\u001b[38;5;124;43m\"\u001b[39;49m\u001b[38;5;124;43mcarbon dioxide\u001b[39;49m\u001b[38;5;124;43m\"\u001b[39;49m\u001b[43m)\u001b[49m\u001b[38;5;241m.\u001b[39mid},  \u001b[38;5;66;03m# Flow ID for CO2\u001b[39;00m\n\u001b[1;32m      4\u001b[0m         cumsum\u001b[38;5;241m=\u001b[39m\u001b[38;5;28;01mTrue\u001b[39;00m  \u001b[38;5;66;03m# Cumulative sum of amounts\u001b[39;00m\n\u001b[1;32m      5\u001b[0m     )\n\u001b[1;32m      7\u001b[0m \u001b[38;5;66;03m# Filter out rows where the characterized amount is less than or equal to 0\u001b[39;00m\n\u001b[1;32m      8\u001b[0m characterized_df \u001b[38;5;241m=\u001b[39m characterized_df[characterized_df[\u001b[38;5;124m'\u001b[39m\u001b[38;5;124mamount\u001b[39m\u001b[38;5;124m'\u001b[39m] \u001b[38;5;241m>\u001b[39m \u001b[38;5;241m0\u001b[39m]\n",
      "File \u001b[0;32m/opt/anaconda3/envs/bw25/lib/python3.11/site-packages/bw2data/utils.py:382\u001b[0m, in \u001b[0;36mget_node\u001b[0;34m(**kwargs)\u001b[0m\n\u001b[1;32m    376\u001b[0m     candidates \u001b[38;5;241m=\u001b[39m [\n\u001b[1;32m    377\u001b[0m         obj\n\u001b[1;32m    378\u001b[0m         \u001b[38;5;28;01mfor\u001b[39;00m obj \u001b[38;5;129;01min\u001b[39;00m candidates\n\u001b[1;32m    379\u001b[0m         \u001b[38;5;28;01mif\u001b[39;00m \u001b[38;5;28mall\u001b[39m(obj\u001b[38;5;241m.\u001b[39mget(key) \u001b[38;5;241m==\u001b[39m value \u001b[38;5;28;01mfor\u001b[39;00m key, value \u001b[38;5;129;01min\u001b[39;00m kwargs\u001b[38;5;241m.\u001b[39mitems() \u001b[38;5;28;01mif\u001b[39;00m key \u001b[38;5;129;01mnot\u001b[39;00m \u001b[38;5;129;01min\u001b[39;00m mapping)\n\u001b[1;32m    380\u001b[0m     ]\n\u001b[1;32m    381\u001b[0m \u001b[38;5;28;01mif\u001b[39;00m \u001b[38;5;28mlen\u001b[39m(candidates) \u001b[38;5;241m>\u001b[39m \u001b[38;5;241m1\u001b[39m:\n\u001b[0;32m--> 382\u001b[0m     \u001b[38;5;28;01mraise\u001b[39;00m MultipleResults(\u001b[38;5;124m\"\u001b[39m\u001b[38;5;124mFound \u001b[39m\u001b[38;5;132;01m{}\u001b[39;00m\u001b[38;5;124m results for the given search\u001b[39m\u001b[38;5;124m\"\u001b[39m\u001b[38;5;241m.\u001b[39mformat(\u001b[38;5;28mlen\u001b[39m(candidates)))\n\u001b[1;32m    383\u001b[0m \u001b[38;5;28;01melif\u001b[39;00m \u001b[38;5;129;01mnot\u001b[39;00m candidates:\n\u001b[1;32m    384\u001b[0m     \u001b[38;5;28;01mraise\u001b[39;00m UnknownObject\n",
      "\u001b[0;31mMultipleResults\u001b[0m: Found 2 results for the given search"
     ]
    }
   ],
   "source": [
    "characterized_df = tl.characterize_dataframe(\n",
    "        characterization_function=characterize_co2, \n",
    "        flow={bd.get_node(name=\"carbon dioxide\").id},  # Flow ID for CO2\n",
    "        cumsum=True  # Cumulative sum of amounts\n",
    "    )\n",
    "\n",
    "# Filter out rows where the characterized amount is less than or equal to 0\n",
    "characterized_df = characterized_df[characterized_df['amount'] > 0]"
   ]
  },
  {
   "cell_type": "code",
   "execution_count": null,
   "id": "05954d61-f50d-4ed2-9f18-5dbf8eacbdfc",
   "metadata": {},
   "outputs": [],
   "source": [
    "df['c'] = df['amount'].cumsum()\n",
    "\n",
    "df = df.merge(\n",
    "    bd.Database('temporalis-example').nodes_to_dataframe().rename(columns={'id': 'activity'}), \n",
    "    on='activity'\n",
    ")"
   ]
  },
  {
   "cell_type": "code",
   "execution_count": 44,
   "id": "f4c93956-56ab-4166-856f-602cd8b292a5",
   "metadata": {},
   "outputs": [
    {
     "ename": "NameError",
     "evalue": "name 'db' is not defined",
     "output_type": "error",
     "traceback": [
      "\u001b[0;31m---------------------------------------------------------------------------\u001b[0m",
      "\u001b[0;31mNameError\u001b[0m                                 Traceback (most recent call last)",
      "Cell \u001b[0;32mIn[44], line 21\u001b[0m\n\u001b[1;32m     18\u001b[0m process[\u001b[38;5;124m'\u001b[39m\u001b[38;5;124mexchanges\u001b[39m\u001b[38;5;124m'\u001b[39m]\u001b[38;5;241m.\u001b[39mappend(exchange)\n\u001b[1;32m     20\u001b[0m \u001b[38;5;66;03m# Write the updated process back to the database\u001b[39;00m\n\u001b[0;32m---> 21\u001b[0m \u001b[43mdb\u001b[49m\u001b[38;5;241m.\u001b[39mwrite()\n",
      "\u001b[0;31mNameError\u001b[0m: name 'db' is not defined"
     ]
    }
   ],
   "source": [
    "# temporal_distribution = temporal_distribution': TemporalDistribution(\n",
    "#                     np.array([0], dtype='timedelta64[Y]'),  # Yearly time steps\n",
    "#                     np.array([1])\n",
    "#                 )\n",
    "\n",
    "# Add a new exchange with temporal distribution\n",
    "exchange = {\n",
    "    'amount': 20,  # Example emission amount\n",
    "    'input': ('biosphere', 'carbon dioxide'),  # Reference to the CO2 emission flow\n",
    "    'type': 'biosphere',  # Indicates it's a biosphere exchange\n",
    "    'temporal_distribution': temporal_distribution\n",
    "}\n",
    "\n",
    "# Append the exchange to the process's exchanges\n",
    "if 'exchanges' not in process:\n",
    "    process['exchanges'] = []\n",
    "\n",
    "process['exchanges'].append(exchange)\n",
    "\n",
    "# Write the updated process back to the database\n",
    "db.write()\n"
   ]
  },
  {
   "cell_type": "code",
   "execution_count": null,
   "id": "df5f206c-3f63-40db-b807-870f4ecd5c6c",
   "metadata": {},
   "outputs": [],
   "source": []
  }
 ],
 "metadata": {
  "kernelspec": {
   "display_name": "Python 3 (ipykernel)",
   "language": "python",
   "name": "python3"
  },
  "language_info": {
   "codemirror_mode": {
    "name": "ipython",
    "version": 3
   },
   "file_extension": ".py",
   "mimetype": "text/x-python",
   "name": "python",
   "nbconvert_exporter": "python",
   "pygments_lexer": "ipython3",
   "version": "3.11.10"
  }
 },
 "nbformat": 4,
 "nbformat_minor": 5
}
