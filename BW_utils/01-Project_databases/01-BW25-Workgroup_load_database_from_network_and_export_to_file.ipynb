{
 "cells": [
  {
   "cell_type": "code",
   "execution_count": null,
   "id": "2cc36326-c7b2-4fb2-b547-e95b141e412d",
   "metadata": {},
   "outputs": [],
   "source": []
  },
  {
   "cell_type": "markdown",
   "id": "6c7ab564-0d6f-4fbe-bb68-fdc4a651ab6f",
   "metadata": {},
   "source": [
    "We will create a new project and import ecoinvent from internet."
   ]
  },
  {
   "cell_type": "code",
   "execution_count": 1,
   "id": "98dd1ce7-c183-4050-8804-d56ec4c7d65a",
   "metadata": {},
   "outputs": [],
   "source": [
    "import bw2io, bw2data"
   ]
  },
  {
   "cell_type": "markdown",
   "id": "88eaaf44-73a7-4135-8498-369dd9e93056",
   "metadata": {},
   "source": [
    "set_current(\"give_a_new_name\")"
   ]
  },
  {
   "cell_type": "code",
   "execution_count": 2,
   "id": "a113cadd-c6f9-48ea-9c70-9c3d3461611c",
   "metadata": {},
   "outputs": [],
   "source": [
    "bw2data.projects.set_current(\"bw25_workgroup\")"
   ]
  },
  {
   "cell_type": "code",
   "execution_count": 3,
   "id": "98c1ac0d-1c44-4cb8-abaa-3b0251c0e8b8",
   "metadata": {},
   "outputs": [
    {
     "data": {
      "text/plain": [
       "Databases dictionary with 0 objects"
      ]
     },
     "execution_count": 3,
     "metadata": {},
     "output_type": "execute_result"
    }
   ],
   "source": [
    "bw2data.databases"
   ]
  },
  {
   "cell_type": "code",
   "execution_count": 4,
   "id": "55990014-12f7-4da3-b479-7bf4619818b9",
   "metadata": {},
   "outputs": [
    {
     "name": "stdout",
     "output_type": "stream",
     "text": [
      "Applying strategy: normalize_units\n",
      "Applying strategy: drop_unspecified_subcategories\n",
      "Applying strategy: ensure_categories_are_tuples\n",
      "Applied 3 strategies in 0.00 seconds\n",
      "4362 datasets\n",
      "\t0 exchanges\n",
      "\tLinks to the following databases:\n",
      "\n",
      "\t0 unlinked exchanges (0 types)\n",
      "\t\t\n"
     ]
    },
    {
     "name": "stderr",
     "output_type": "stream",
     "text": [
      "100%|████████████████████████████████████| 4362/4362 [00:00<00:00, 20343.13it/s]"
     ]
    },
    {
     "name": "stdout",
     "output_type": "stream",
     "text": [
      "\u001b[2m14:54:03\u001b[0m [\u001b[32m\u001b[1minfo     \u001b[0m] \u001b[1mVacuuming database            \u001b[0m\n"
     ]
    },
    {
     "name": "stderr",
     "output_type": "stream",
     "text": [
      "\n"
     ]
    },
    {
     "name": "stdout",
     "output_type": "stream",
     "text": [
      "Created database: biosphere\n",
      "Extracting XML data from 23523 datasets\n",
      "Extracted 23523 datasets in 60.10 seconds\n",
      "Applying strategy: normalize_units\n",
      "Applying strategy: update_ecoinvent_locations\n",
      "Applying strategy: remove_zero_amount_coproducts\n",
      "Applying strategy: remove_zero_amount_inputs_with_no_activity\n",
      "Applying strategy: remove_unnamed_parameters\n",
      "Applying strategy: es2_assign_only_product_with_amount_as_reference_product\n",
      "Applying strategy: assign_single_product_as_activity\n",
      "Applying strategy: create_composite_code\n",
      "Applying strategy: drop_unspecified_subcategories\n",
      "Applying strategy: fix_ecoinvent_flows_pre35\n",
      "Applying strategy: drop_temporary_outdated_biosphere_flows\n",
      "Applying strategy: link_biosphere_by_flow_uuid\n",
      "Applying strategy: link_internal_technosphere_by_composite_code\n",
      "Applying strategy: delete_exchanges_missing_activity\n",
      "Applying strategy: delete_ghost_exchanges\n",
      "Applying strategy: remove_uncertainty_from_negative_loss_exchanges\n",
      "Applying strategy: fix_unreasonably_high_lognormal_uncertainties\n",
      "Applying strategy: convert_activity_parameters_to_list\n",
      "Applying strategy: add_cpc_classification_from_single_reference_product\n",
      "Applying strategy: delete_none_synonyms\n",
      "Applying strategy: update_social_flows_in_older_consequential\n",
      "Applying strategy: set_lognormal_loc_value\n",
      "Applied 22 strategies in 7.33 seconds\n",
      "23523 datasets\n",
      "\t743409 exchanges\n",
      "\tLinks to the following databases:\n",
      "\t\tbiosphere (449622 exchanges)\n",
      "\t\tecoinvent-3.10-cutoff (293787 exchanges)\n",
      "\t0 unlinked exchanges (0 types)\n",
      "\t\t\n",
      "\u001b[2m14:55:20\u001b[0m [\u001b[33m\u001b[1mwarning  \u001b[0m] \u001b[1mNot able to determine geocollections for all datasets. This database is not ready for regionalization.\u001b[0m\n"
     ]
    },
    {
     "name": "stderr",
     "output_type": "stream",
     "text": [
      "100%|████████████████████████████████████| 23523/23523 [00:49<00:00, 473.21it/s]\n"
     ]
    },
    {
     "name": "stdout",
     "output_type": "stream",
     "text": [
      "\u001b[2m14:56:11\u001b[0m [\u001b[32m\u001b[1minfo     \u001b[0m] \u001b[1mVacuuming database            \u001b[0m\n",
      "Created database: ecoinvent-3.10-cutoff\n"
     ]
    }
   ],
   "source": [
    "bw2io.import_ecoinvent_release(\n",
    "    version=\"3.10\", \n",
    "    system_model=\"cutoff\", # other options are \"consequential\", \"apos\" and \"EN15804\"\n",
    "    username=\"precon12505\",\n",
    "    password=\"nJjx.rn-EvF9L7i\",\n",
    "    biosphere_name=\"biosphere\" # optional, otherwise a name is chosen for you\n",
    ")"
   ]
  },
  {
   "cell_type": "code",
   "execution_count": 5,
   "id": "93198342-2c55-4993-923a-70d3096545ab",
   "metadata": {},
   "outputs": [
    {
     "data": {
      "text/plain": [
       "Databases dictionary with 2 object(s):\n",
       "\tbiosphere\n",
       "\tecoinvent-3.10-cutoff"
      ]
     },
     "execution_count": 5,
     "metadata": {},
     "output_type": "execute_result"
    }
   ],
   "source": [
    "bw2data.databases"
   ]
  },
  {
   "cell_type": "markdown",
   "id": "f82bf699-c431-4601-9fea-f667d39da827",
   "metadata": {},
   "source": [
    "Then we will export this project with its databasis in a file, in order to reload it later on from scratch."
   ]
  },
  {
   "cell_type": "code",
   "execution_count": 6,
   "id": "1ff47cd9-efb0-4a42-b5f5-cdab4c5a9ef8",
   "metadata": {},
   "outputs": [
    {
     "data": {
      "text/plain": [
       "'bw25_workgroup'"
      ]
     },
     "execution_count": 6,
     "metadata": {},
     "output_type": "execute_result"
    }
   ],
   "source": [
    "bw2data.projects.current"
   ]
  },
  {
   "cell_type": "code",
   "execution_count": 8,
   "id": "12c735a2-03fa-4dd4-ad63-5e362810d4c7",
   "metadata": {
    "scrolled": true
   },
   "outputs": [
    {
     "name": "stdout",
     "output_type": "stream",
     "text": [
      "Creating project backup archive - this could take a few minutes...\n",
      "Saved to: brightway2-project-bw25_workgroup-backup14-November-2024-03-02PM.tar.gz\n"
     ]
    },
    {
     "data": {
      "text/plain": [
       "PosixPath('brightway2-project-bw25_workgroup-backup14-November-2024-03-02PM.tar.gz')"
      ]
     },
     "execution_count": 8,
     "metadata": {},
     "output_type": "execute_result"
    }
   ],
   "source": [
    "bw2io.backup.backup_project_directory(\n",
    "    project=bw2data.projects.current,\n",
    "    dir_backup='.'\n",
    ")"
   ]
  },
  {
   "cell_type": "markdown",
   "id": "911a06a8-2e44-4c71-9e73-b6157e1efb6a",
   "metadata": {},
   "source": [
    "brightway2-project-bw25_workgroup-backup14-November-2024-03-02PM.tar.gz has been created"
   ]
  }
 ],
 "metadata": {
  "kernelspec": {
   "display_name": "Python 3 (ipykernel)",
   "language": "python",
   "name": "python3"
  },
  "language_info": {
   "codemirror_mode": {
    "name": "ipython",
    "version": 3
   },
   "file_extension": ".py",
   "mimetype": "text/x-python",
   "name": "python",
   "nbconvert_exporter": "python",
   "pygments_lexer": "ipython3",
   "version": "3.11.10"
  }
 },
 "nbformat": 4,
 "nbformat_minor": 5
}
