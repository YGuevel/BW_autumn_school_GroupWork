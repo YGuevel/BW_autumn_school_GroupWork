{
 "cells": [
  {
   "cell_type": "code",
   "execution_count": null,
   "id": "f7cf883a-316a-4830-bca2-3cd7d916904c",
   "metadata": {},
   "outputs": [],
   "source": [
    "imp = bi.ExcelImporter(r\"<PATH>\\<Excel_file>.xlsx\")\n",
    "imp.apply_strategies()"
   ]
  },
  {
   "cell_type": "code",
   "execution_count": null,
   "id": "6989133c-d4d1-4eb5-9586-4ff578fd7035",
   "metadata": {},
   "outputs": [],
   "source": [
    "imp.match_database('ecoinvent-3.10-cutoff', fields=('name', 'unit', 'location', 'reference product'))\n",
    "imp.statistics()"
   ]
  },
  {
   "cell_type": "code",
   "execution_count": null,
   "id": "3199af45-d200-46c3-96ef-0a1651522ed1",
   "metadata": {},
   "outputs": [],
   "source": [
    "imp.write_excel()\n",
    "#To debug\n",
    "#Return the excel file where unlinked exchanges are marked in red"
   ]
  }
 ],
 "metadata": {
  "kernelspec": {
   "display_name": "Python 3 (ipykernel)",
   "language": "python",
   "name": "python3"
  },
  "language_info": {
   "codemirror_mode": {
    "name": "ipython",
    "version": 3
   },
   "file_extension": ".py",
   "mimetype": "text/x-python",
   "name": "python",
   "nbconvert_exporter": "python",
   "pygments_lexer": "ipython3",
   "version": "3.11.10"
  }
 },
 "nbformat": 4,
 "nbformat_minor": 5
}
