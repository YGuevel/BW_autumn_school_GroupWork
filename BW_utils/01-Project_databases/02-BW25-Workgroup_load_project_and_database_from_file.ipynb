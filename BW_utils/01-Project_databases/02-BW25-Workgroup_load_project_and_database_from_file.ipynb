{
 "cells": [
  {
   "cell_type": "markdown",
   "id": "5c1d1301-fcd6-4f47-a0d2-ff21183fdccb",
   "metadata": {},
   "source": [
    "How to import a project containing databases, using the file named \"brightway2-project-bw25_workgroup-backup14-November-2024-03-02PM.tar.gz\"."
   ]
  },
  {
   "cell_type": "code",
   "execution_count": 1,
   "id": "6a87c611-7673-45f0-b0e3-9377a40a93ae",
   "metadata": {},
   "outputs": [],
   "source": [
    "import bw2io, bw2data"
   ]
  },
  {
   "cell_type": "markdown",
   "id": "34fcedbf-f30d-49fd-8a3f-ee7c20920bdb",
   "metadata": {},
   "source": [
    "We will create a new project name \"My BW25workgroup\" using this file"
   ]
  },
  {
   "cell_type": "code",
   "execution_count": 2,
   "id": "c5889f17-d948-41f1-a1eb-32771156f19f",
   "metadata": {},
   "outputs": [
    {
     "name": "stdout",
     "output_type": "stream",
     "text": [
      "Restoring project backup archive - this could take a few minutes...\n",
      "Restored project: My BW25workgroup\n"
     ]
    },
    {
     "data": {
      "text/plain": [
       "'My BW25workgroup'"
      ]
     },
     "execution_count": 2,
     "metadata": {},
     "output_type": "execute_result"
    }
   ],
   "source": [
    "bw2io.backup.restore_project_directory(\n",
    "    fp=\"brightway2-project-bw25_workgroup-backup14-November-2024-03-02PM.tar.gz\",\n",
    "    project_name=\"My BW25workgroup\",\n",
    "    overwrite_existing=False\n",
    ")"
   ]
  },
  {
   "cell_type": "markdown",
   "id": "e6a1925c-0a86-4d3f-9ea9-25cea7bf10eb",
   "metadata": {},
   "source": [
    "Now we set the current project to the newly created one, and then we can check that databases are there."
   ]
  },
  {
   "cell_type": "code",
   "execution_count": 4,
   "id": "9923bda4-332e-488a-827c-d5f99d016224",
   "metadata": {},
   "outputs": [],
   "source": [
    "bw2data.projects.set_current('My BW25workgroup')"
   ]
  },
  {
   "cell_type": "code",
   "execution_count": 5,
   "id": "ebd9a1a8-b3b2-45f3-a695-7ba9c09d4f9e",
   "metadata": {},
   "outputs": [
    {
     "data": {
      "text/plain": [
       "Databases dictionary with 2 object(s):\n",
       "\tbiosphere\n",
       "\tecoinvent-3.10-cutoff"
      ]
     },
     "execution_count": 5,
     "metadata": {},
     "output_type": "execute_result"
    }
   ],
   "source": [
    "bw2data.databases"
   ]
  },
  {
   "cell_type": "markdown",
   "id": "c2373379-0046-4bc6-854f-3fdd6d9fb7ce",
   "metadata": {},
   "source": [
    "It should say something like\n",
    "Databases dictionary with 2 object(s):\n",
    "\tbiosphere\n",
    "\tecoinvent-3.10-cutoff"
   ]
  }
 ],
 "metadata": {
  "kernelspec": {
   "display_name": "Python 3 (ipykernel)",
   "language": "python",
   "name": "python3"
  },
  "language_info": {
   "codemirror_mode": {
    "name": "ipython",
    "version": 3
   },
   "file_extension": ".py",
   "mimetype": "text/x-python",
   "name": "python",
   "nbconvert_exporter": "python",
   "pygments_lexer": "ipython3",
   "version": "3.11.10"
  }
 },
 "nbformat": 4,
 "nbformat_minor": 5
}
