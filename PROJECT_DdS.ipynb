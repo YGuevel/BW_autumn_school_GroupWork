{
 "cells": [
  {
   "cell_type": "markdown",
   "id": "888d62b8-b807-496b-896d-0c44e3c29110",
   "metadata": {},
   "source": [
    "PROJECT"
   ]
  },
  {
   "cell_type": "markdown",
   "id": "951c9dc5-6b0e-4655-95ef-d8be98d4823b",
   "metadata": {},
   "source": [
    "Deliverables:\n",
    "    Notebook\n",
    "    Documentation of the model\n",
    "    Test that everything works well\n",
    "Goals:\n",
    "    Compare the environmental performance of 2 biobased insulation materials contrasted to a reference fossil insulation      material, applied     to buildings throught the prodution and end-of-life phases of the product.\n",
    "Scope:\n",
    "    The environmental performance is assessed through the climate change (CO2, Ch4, N2O), water use, and land use (area occupied) impacts\n",
    "    LCIA method: \n",
    "    The assessment is performed for 50 years of lifetime of the buildings\n",
    "    The EoL choices involve incineration, landfill, composting, and mulching (we are going to consider 2)\n",
    "    Temporal scope:\n",
    "    \n",
    "Tools\n",
    "    Github\n",
    "    Temporalis\n",
    "    Excel\n",
    "\n",
    "  *How to consider the soil carbon sequestration/release/lost effect\n",
    "  For croplands is shor, for forests is large\n"
   ]
  },
  {
   "cell_type": "code",
   "execution_count": null,
   "id": "9eacc7a2-5ae1-49d3-a3f5-5c30d7e7c4fd",
   "metadata": {},
   "outputs": [],
   "source": [
    "import bw2io as bi \n",
    "import bw2data as bd\n",
    "import bw2calc as bc\n",
    "import os               # to use \"operating system dependent functionality\"\n",
    "import numpy as np      # \"the fundamental package for scientific computing with Python\"\n",
    "import pandas as pd     # \"high-performance, easy-to-use data structures and data analysis tools\" for Python"
   ]
  },
  {
   "cell_type": "code",
   "execution_count": null,
   "id": "227945f7-ec26-4f8d-ba7b-8c057d97ebd9",
   "metadata": {},
   "outputs": [],
   "source": [
    "projects.set_current('Buildings Insulation')"
   ]
  },
  {
   "cell_type": "code",
   "execution_count": null,
   "id": "6b05dd0e-18c7-4337-b86d-1d044cc8dd5e",
   "metadata": {},
   "outputs": [],
   "source": [
    "bd.databases"
   ]
  },
  {
   "cell_type": "code",
   "execution_count": null,
   "id": "cb1b1b0f-1bd3-414e-9b5f-1a3769faf189",
   "metadata": {},
   "outputs": [],
   "source": [
    "#our_data = pd.read_csv('LCI.csv')\n",
    "#our_data.head()"
   ]
  },
  {
   "cell_type": "code",
   "execution_count": null,
   "id": "310a5e42-b4e7-49ff-bf27-36cd3cda4546",
   "metadata": {},
   "outputs": [],
   "source": [
    "imp.match_database(fields=('name', 'reference product', 'unit', 'location'))\n",
    "imp.statistics()"
   ]
  },
  {
   "cell_type": "code",
   "execution_count": null,
   "id": "ff22d644-8b0f-4efb-b0e6-a37331ec5b07",
   "metadata": {},
   "outputs": [],
   "source": [
    "bi.backup.restore_project_directory(\n",
    "    fp='brightway2-project-odym-backup.13-November-2024-09-43PM.tar.gz',\n",
    "    project_name='odym_case'\n",
    ")"
   ]
  },
  {
   "cell_type": "code",
   "execution_count": null,
   "id": "0255c0ba-33f2-4a7d-af9a-cf5bc1c2a292",
   "metadata": {},
   "outputs": [],
   "source": [
    "our_data = bi.ExcelImporter(\"our_LCI.xlsx\")\n",
    "imp.apply_strategies()\n",
    "imp.match_database('ecoinvent-3.10-cutoff', fields=('name', 'unit', 'reference product', 'location'))\n",
    "imp.statistics()"
   ]
  },
  {
   "cell_type": "code",
   "execution_count": null,
   "id": "6b7bb343-c386-443e-8e2a-77a16cac31b3",
   "metadata": {},
   "outputs": [],
   "source": []
  }
 ],
 "metadata": {
  "kernelspec": {
   "display_name": "Python 3 (ipykernel)",
   "language": "python",
   "name": "python3"
  },
  "language_info": {
   "codemirror_mode": {
    "name": "ipython",
    "version": 3
   },
   "file_extension": ".py",
   "mimetype": "text/x-python",
   "name": "python",
   "nbconvert_exporter": "python",
   "pygments_lexer": "ipython3",
   "version": "3.11.10"
  }
 },
 "nbformat": 4,
 "nbformat_minor": 5
}
