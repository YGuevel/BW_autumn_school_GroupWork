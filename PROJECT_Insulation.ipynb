{
 "cells": [
  {
   "cell_type": "markdown",
   "id": "888d62b8-b807-496b-896d-0c44e3c29110",
   "metadata": {},
   "source": [
    "## PROJECT"
   ]
  },
  {
   "cell_type": "markdown",
   "id": "951c9dc5-6b0e-4655-95ef-d8be98d4823b",
   "metadata": {},
   "source": [
    "Deliverables:\n",
    "    Notebook\n",
    "    Documentation of the model\n",
    "    Test that everything works well\n",
    "Goals:\n",
    "    Compare the environmental performance of 2 biobased insulation materials contrasted to a reference fossil insulation      material, applied     to buildings throught the prodution and end-of-life phases of the product.\n",
    "Scope:\n",
    "    The environmental performance is assessed through the climate change (CO2, Ch4, N2O), water use, and land use (area occupied) impacts\n",
    "    LCIA method: \n",
    "    The assessment is performed for 50 years of lifetime of the buildings\n",
    "    The EoL choices involve incineration, landfill, composting, and mulching (we are going to consider 2)\n",
    "    Temporal scope:\n",
    "    \n",
    "Tools\n",
    "    Github\n",
    "    Temporalis\n",
    "    Excel\n",
    "\n",
    "  *How to consider the soil carbon sequestration/release/lost effect\n",
    "  For croplands is shor, for forests is large\n"
   ]
  },
  {
   "cell_type": "markdown",
   "id": "f814acbd-5555-40ff-b894-16438bee6f54",
   "metadata": {},
   "source": [
    "Prerequisites:\n",
    "    Python: nbdev and ipytest\n",
    "Your environment must contain nbdev and nbdev_install_hooks\n",
    "For this project:\n",
    "Open conda terminal \n",
    "conda activate bw25\n",
    "    This env already contains nbdev "
   ]
  },
  {
   "cell_type": "code",
   "execution_count": 110,
   "id": "9eacc7a2-5ae1-49d3-a3f5-5c30d7e7c4fd",
   "metadata": {},
   "outputs": [],
   "source": [
    "from bw_temporalis import easy_timedelta_distribution, easy_datetime_distribution, TemporalisLCA, Timeline, TemporalDistribution\n",
    "#pip install dynamic_characterization\n",
    "from dynamic_characterization.ipcc_ar6.radiative_forcing import characterize_co2, characterize_ch4, characterize_n2o, characterize_co2_uptake\n",
    "import copy\n",
    "import bw2io as bi \n",
    "import bw2data as bd\n",
    "import bw2calc as bc\n",
    "import os               # to use \"operating system dependent functionality\"\n",
    "import numpy as np      # \"the fundamental package for scientific computing with Python\"\n",
    "import pandas as pd     # \"high-performance, easy-to-use data structures and data analysis tools\" for Python"
   ]
  },
  {
   "cell_type": "code",
   "execution_count": 46,
   "id": "6dad2b1a-51a3-4608-81de-6afae76683e1",
   "metadata": {},
   "outputs": [
    {
     "data": {
      "text/plain": [
       "[Project: default,\n",
       " Project: SMFs,\n",
       " Project: bw25_intro,\n",
       " Project: bw25,\n",
       " Project: carbon fiber 2,\n",
       " Project: School,\n",
       " Project: Parametric LCA,\n",
       " Project: parametric-LCA,\n",
       " Project: SCO_LCA_v0,\n",
       " Project: Temporalis example project,\n",
       " Project: bw_temporalis example,\n",
       " Project: odym_case,\n",
       " Project: Buildings Insulation,\n",
       " Project: odym,\n",
       " Project: My BW25workgroup]"
      ]
     },
     "execution_count": 46,
     "metadata": {},
     "output_type": "execute_result"
    }
   ],
   "source": [
    "list(bd.projects)"
   ]
  },
  {
   "cell_type": "code",
   "execution_count": 47,
   "id": "227945f7-ec26-4f8d-ba7b-8c057d97ebd9",
   "metadata": {},
   "outputs": [
    {
     "name": "stdout",
     "output_type": "stream",
     "text": [
      "Restoring project backup archive - this could take a few minutes...\n",
      "Restored project: Buildings Insulation\n"
     ]
    },
    {
     "data": {
      "text/plain": [
       "'Buildings Insulation'"
      ]
     },
     "execution_count": 47,
     "metadata": {},
     "output_type": "execute_result"
    }
   ],
   "source": [
    "#Load ecoinvent and biosphere databases\n",
    "#Either import from ecoinvent or load it from a file saved in your computer - Here we load from a filed saved from a previous project\n",
    "bi.backup.restore_project_directory(\n",
    "    fp=r\"C:\\Users\\andraded\\Documents\\GitHub\\brightway2-project-bw25_workgroup-backup14-November-2024-03-02PM.tar.gz\",\n",
    "    project_name=\"Buildings Insulation\",\n",
    "    overwrite_existing=True\n",
    ")"
   ]
  },
  {
   "cell_type": "code",
   "execution_count": 48,
   "id": "1053e9ee-9f40-46d3-ba43-de09d912270d",
   "metadata": {},
   "outputs": [],
   "source": [
    "#set the project to work on\n",
    "bd.projects.set_current('Buildings Insulation')"
   ]
  },
  {
   "cell_type": "code",
   "execution_count": 62,
   "id": "6b05dd0e-18c7-4337-b86d-1d044cc8dd5e",
   "metadata": {},
   "outputs": [
    {
     "data": {
      "text/plain": [
       "Databases dictionary with 2 object(s):\n",
       "\tbiosphere\n",
       "\tecoinvent-3.10-cutoff"
      ]
     },
     "execution_count": 62,
     "metadata": {},
     "output_type": "execute_result"
    }
   ],
   "source": [
    "#check the databases in the project, be sure that the databases retrieved are now in the project\n",
    "bd.databases"
   ]
  },
  {
   "cell_type": "code",
   "execution_count": 50,
   "id": "0255c0ba-33f2-4a7d-af9a-cf5bc1c2a292",
   "metadata": {
    "scrolled": true
   },
   "outputs": [
    {
     "name": "stdout",
     "output_type": "stream",
     "text": [
      "Extracted 1 worksheets in 0.05 seconds\n",
      "Applying strategy: csv_restore_tuples\n",
      "Applying strategy: csv_restore_booleans\n",
      "Applying strategy: csv_numerize\n",
      "Applying strategy: csv_drop_unknown\n",
      "Applying strategy: csv_add_missing_exchanges_section\n",
      "Applying strategy: normalize_units\n",
      "Applying strategy: normalize_biosphere_categories\n",
      "Applying strategy: normalize_biosphere_names\n",
      "Applying strategy: strip_biosphere_exc_locations\n",
      "Applying strategy: set_code_by_activity_hash\n",
      "Applying strategy: link_iterable_by_fields\n",
      "Applying strategy: assign_only_product_as_production\n",
      "Applying strategy: link_technosphere_by_activity_hash\n",
      "Applying strategy: drop_falsey_uncertainty_fields_but_keep_zeros\n",
      "Applying strategy: convert_uncertainty_types_to_integers\n",
      "Applying strategy: convert_activity_parameters_to_list\n",
      "Applied 16 strategies in 24.52 seconds\n"
     ]
    }
   ],
   "source": [
    "#import your LCI\n",
    "imp = bi.ExcelImporter(r\"C:\\Users\\andraded\\Documents\\GitHub\\LCI_Bw_form.xlsx\")\n",
    "imp.apply_strategies()"
   ]
  },
  {
   "cell_type": "code",
   "execution_count": 51,
   "id": "d7cabd4e-2b02-4f73-ad8f-c5580c38161a",
   "metadata": {},
   "outputs": [
    {
     "name": "stdout",
     "output_type": "stream",
     "text": [
      "Applying strategy: link_iterable_by_fields\n",
      "4 datasets\n",
      "\t15 exchanges\n",
      "\tLinks to the following databases:\n",
      "\t\tecoinvent-3.10-cutoff (9 exchanges)\n",
      "\t\tInsulators (4 exchanges)\n",
      "\t\tbiosphere (2 exchanges)\n",
      "\t0 unlinked exchanges (0 types)\n",
      "\t\t\n"
     ]
    },
    {
     "data": {
      "text/plain": [
       "(4, 15, 0, 0)"
      ]
     },
     "execution_count": 51,
     "metadata": {},
     "output_type": "execute_result"
    }
   ],
   "source": [
    "#match the LCI with the ecoinvent data\n",
    "imp.match_database('ecoinvent-3.10-cutoff', fields=('name', 'unit', 'location', 'reference product'))\n",
    "imp.statistics()"
   ]
  },
  {
   "cell_type": "code",
   "execution_count": 41,
   "id": "0cd83cd6-42b6-45da-bc5c-aa20aac3287a",
   "metadata": {},
   "outputs": [
    {
     "name": "stdout",
     "output_type": "stream",
     "text": [
      "Wrote matching file to:\n",
      "C:\\Users\\andraded\\AppData\\Local\\pylca\\Brightway3\\Buildings-Insulation.2ffa2648\\output\\db-matching-Insulators.xlsx\n"
     ]
    },
    {
     "data": {
      "text/plain": [
       "WindowsPath('C:/Users/andraded/AppData/Local/pylca/Brightway3/Buildings-Insulation.2ffa2648/output/db-matching-Insulators.xlsx')"
      ]
     },
     "execution_count": 41,
     "metadata": {},
     "output_type": "execute_result"
    }
   ],
   "source": [
    "#if any unlik process appear, check where and solve it\n",
    "#imp.write_excel()"
   ]
  },
  {
   "cell_type": "code",
   "execution_count": 142,
   "id": "8345e0e3-f035-4bf7-95e9-31db4bcc85f5",
   "metadata": {},
   "outputs": [
    {
     "name": "stdout",
     "output_type": "stream",
     "text": [
      "12:32:20 [warning  ] Not able to determine geocollections for all datasets. This database is not ready for regionalization.\n"
     ]
    },
    {
     "name": "stderr",
     "output_type": "stream",
     "text": [
      "100%|██████████████████████████████████████████████████████████████████████████████████| 4/4 [00:00<00:00, 1013.79it/s]\n"
     ]
    },
    {
     "name": "stdout",
     "output_type": "stream",
     "text": [
      "12:32:20 [info     ] Vacuuming database            \n",
      "Created database: Insulators\n"
     ]
    }
   ],
   "source": [
    "imp.write_database()"
   ]
  },
  {
   "cell_type": "markdown",
   "id": "5d0c2aa1-bd25-4b58-9701-857c9347f4fc",
   "metadata": {},
   "source": [
    "We have to create a db with relative years, for which we set here the (arbitrary) year 0 as the year of production. The definition of year 0 is irrelevant, the analysis is performed with absolute dates, the important task is to set correct relative timesteps."
   ]
  },
  {
   "cell_type": "code",
   "execution_count": 128,
   "id": "cff65594-21a2-4d75-821b-d4f8572cc1bb",
   "metadata": {},
   "outputs": [],
   "source": [
    "yr_prod = 0\n",
    "new_db_name = 'time'"
   ]
  },
  {
   "attachments": {},
   "cell_type": "markdown",
   "id": "3a04a089-4456-4e48-ae4d-d1b275f01c1c",
   "metadata": {},
   "source": [
    "First we need to find the code of the unit process we want to include in the background of the temporal data in this case for the EPS insulators: polystyrene foam slab production, treatment of waste polystyrene, sanitary landfill"
   ]
  },
  {
   "cell_type": "code",
   "execution_count": 55,
   "id": "f1f53456-bc07-4217-9bbf-60f28dfb63c6",
   "metadata": {},
   "outputs": [],
   "source": [
    "db_eco = bd.Database('ecoinvent-3.10-cutoff')"
   ]
  },
  {
   "cell_type": "code",
   "execution_count": 68,
   "id": "3fc4621e-922d-4b05-a14c-afe302996278",
   "metadata": {},
   "outputs": [],
   "source": [
    "#define the activity to temporlize\n",
    "polystyrene= [act for act in db_eco if 'polystyrene foam slab production' in act['name']\n",
    "                        and 'polystyrene foam slab' in act['reference product']\n",
    "                        and act['location']=='RER'\n",
    "              ][0]\n"
   ]
  },
  {
   "cell_type": "code",
   "execution_count": 73,
   "id": "e3e7d0ec-de73-460a-a1a9-fa939fcf2919",
   "metadata": {},
   "outputs": [
    {
     "data": {
      "text/plain": [
       "{'comment': 'Combination of material and processing module. EPS foam slab has a density of 30 kg/m3 and a thermal conductivity of 0.035-0.04 W/mK.\\n[This dataset was already contained in the ecoinvent database version 2. It was not individually updated during the transfer to ecoinvent version 3. Life Cycle Impact Assessment results may still have changed, as they are affected by changes in the supply chain, i.e. in other datasets. This dataset was generated following the ecoinvent quality guidelines for version 2. It may have been subject to central changes described in the ecoinvent version 3 change report (http://www.ecoinvent.org/database/ecoinvent-version-3/reports-of-changes/), and the results of the central updates were reviewed extensively. The changes added e.g. consistent water flows and other information throughout the database. The documentation of this dataset can be found in the ecoinvent reports of version 2, which are still available via the ecoinvent website. The change report linked above covers all central changes that were made during the conversion process.]\\nIncluded activities end:  Includes production and thermoforming of EPS\\nTechnology:  European average EPS production; thermoforming from 2 Factories in Switzerland',\n",
       " 'classifications': [('ISIC rev.4 ecoinvent',\n",
       "   '2220:Manufacture of plastics products'),\n",
       "  ('EcoSpold01Categories', 'insulation materials/production'),\n",
       "  ('CPC', '34720: Polymers of styrene, in primary forms')],\n",
       " 'activity type': 'ordinary transforming activity',\n",
       " 'activity': '61eebd85-dd0a-52a4-921b-97ebe7e1fc51',\n",
       " 'database': 'ecoinvent-3.10-cutoff',\n",
       " 'filename': '61eebd85-dd0a-52a4-921b-97ebe7e1fc51_5806d08f-343d-42a0-a2c8-185b7cad5830.spold',\n",
       " 'location': 'RER',\n",
       " 'name': 'polystyrene foam slab production',\n",
       " 'synonyms': [],\n",
       " 'parameters': [],\n",
       " 'authors': {'data entry': {'name': 'Hans-Jörg Althaus',\n",
       "   'email': 'empa@ecoinvent.org'},\n",
       "  'data generator': {'name': 'Hans-Jörg Althaus',\n",
       "   'email': 'empa@ecoinvent.org'}},\n",
       " 'type': 'processwithreferenceproduct',\n",
       " 'reference product': 'polystyrene foam slab',\n",
       " 'flow': '5806d08f-343d-42a0-a2c8-185b7cad5830',\n",
       " 'unit': 'kilogram',\n",
       " 'production amount': 1.0,\n",
       " 'code': 'de2b60a30ff7830518ec8873f647d26e',\n",
       " 'id': 6831}"
      ]
     },
     "execution_count": 73,
     "metadata": {},
     "output_type": "execute_result"
    }
   ],
   "source": [
    "#Look at the activity code\n",
    "polystyrene.as_dict()"
   ]
  },
  {
   "cell_type": "code",
   "execution_count": 87,
   "id": "944e0433-c52f-491e-89bc-f84c2f5e4c00",
   "metadata": {},
   "outputs": [
    {
     "name": "stdout",
     "output_type": "stream",
     "text": [
      "Exchange: 1.0 kilogram 'polystyrene foam slab production' (kilogram, RER, None) to 'polystyrene foam slab production' (kilogram, RER, None)>\n",
      "Exchange: 1.0 kilogram 'polymer foaming' (kilogram, RER, None) to 'polystyrene foam slab production' (kilogram, RER, None)>\n",
      "Exchange: 1.04 kilogram 'market for polystyrene, expandable' (kilogram, GLO, None) to 'polystyrene foam slab production' (kilogram, RER, None)>\n"
     ]
    }
   ],
   "source": [
    "#check exchanges within the activity\n",
    "for exc in polystyrene.exchanges():\n",
    "    print(exc) "
   ]
  },
  {
   "cell_type": "code",
   "execution_count": 88,
   "id": "a1bdec46-9140-4755-9ecc-14e7a6e0a879",
   "metadata": {},
   "outputs": [
    {
     "data": {
      "text/plain": [
       "<bw2data.backends.proxies.Exchanges at 0x2714d315f90>"
      ]
     },
     "execution_count": 88,
     "metadata": {},
     "output_type": "execute_result"
    }
   ],
   "source": [
    "#Look at codes of the exchanges in the activity\n",
    "#polymer_foaming=[act for act in db_eco if 'polymer foaming' in act['name']\n",
    "    #                    and 'polymer foaming' in act['reference product']\n",
    "     #                   and act['location']=='RER'\n",
    "      #        ][0]\n",
    "#polymer_foaming.as_dict()\n",
    "#market_for_polystyrene=[act for act in db_eco if 'market for polystyrene, expandable' in act['name']\n",
    "    #                    and 'polystyrene, expandable' in act['reference product']\n",
    "     #                   and act['location']=='GLO'\n",
    "      #        ][0]\n",
    "#market_for_polystyrene.as_dict()"
   ]
  },
  {
   "cell_type": "code",
   "execution_count": 101,
   "id": "b8745384-4755-4e80-bf1c-871982ced8fd",
   "metadata": {},
   "outputs": [],
   "source": [
    "#define activity \n",
    "polystyrene_act= {\n",
    "'polystyrene foam slab production': \n",
    "        ('ecoinvent-3.10-cutoff', 'de2b60a30ff7830518ec8873f647d26e')\n",
    "}"
   ]
  },
  {
   "cell_type": "code",
   "execution_count": 119,
   "id": "8a58a3a4-7132-44df-96b8-e68869996344",
   "metadata": {},
   "outputs": [],
   "source": [
    "#define activity upstream\n",
    "polystyrene_upstream= {\n",
    "'polymer foaming': \n",
    "        ('ecoinvent-3.10-cutoff', '0e31d1fcab5f7b6c142245fdde30dd9e'),\n",
    "'market_for_polystyrene': # 'sawlog and veneer log, softwood, measured as solid wood under bark'\n",
    "        ('ecoinvent-3.10-cutoff', '31c71922d2a8871fa590470a67c8193f')\n",
    "}"
   ]
  },
  {
   "cell_type": "code",
   "execution_count": 124,
   "id": "feb05ff7-c351-4178-a3fc-70b4454b0263",
   "metadata": {},
   "outputs": [
    {
     "data": {
      "text/plain": [
       "{'polymer foaming': ('ecoinvent-3.10-cutoff',\n",
       "  '0e31d1fcab5f7b6c142245fdde30dd9e'),\n",
       " 'market_for_polystyrene': ('ecoinvent-3.10-cutoff',\n",
       "  '31c71922d2a8871fa590470a67c8193f')}"
      ]
     },
     "execution_count": 124,
     "metadata": {},
     "output_type": "execute_result"
    }
   ],
   "source": [
    "polystyrene_upstream"
   ]
  },
  {
   "cell_type": "code",
   "execution_count": 89,
   "id": "54041637-acb7-4368-894a-a38b6550d5df",
   "metadata": {},
   "outputs": [],
   "source": [
    "polymer_foaming=[act for act in db_eco if 'polymer foaming' in act['name']\n",
    "                        and 'polymer foaming' in act['reference product']\n",
    "                        and act['location']=='RER'\n",
    "              ][0]"
   ]
  },
  {
   "cell_type": "code",
   "execution_count": 92,
   "id": "fdbc025b-1375-4ab1-8960-4dc764c5ffbf",
   "metadata": {
    "collapsed": true,
    "jupyter": {
     "outputs_hidden": true
    }
   },
   "outputs": [
    {
     "data": {
      "text/plain": [
       "{'comment': '1 kg of this process equals 1 kg of expanded plastics (usually polystyrene).\\n[This dataset was already contained in the ecoinvent database version 2. It was not individually updated during the transfer to ecoinvent version 3. Life Cycle Impact Assessment results may still have changed, as they are affected by changes in the supply chain, i.e. in other datasets. This dataset was generated following the ecoinvent quality guidelines for version 2. It may have been subject to central changes described in the ecoinvent version 3 change report (http://www.ecoinvent.org/database/ecoinvent-version-3/reports-of-changes/), and the results of the central updates were reviewed extensively. The changes added e.g. consistent water flows and other information throughout the database. The documentation of this dataset can be found in the ecoinvent reports of version 2, which are still available via the ecoinvent website. The change report linked above covers all central changes that were made during the conversion process.]\\nIncluded activities end:  This process contains the auxillaries and energy demand for the mentioned convertion process of plastics. The converted amount of plastics is NOT included into the dataset.\\nGeography:  Information from one Swiss insulation material production site - used as European average data.\\nTechnology:  production of insulation panels\\nTime period:  Time of publication',\n",
       " 'classifications': [('ISIC rev.4 ecoinvent',\n",
       "   '2220:Manufacture of plastics products'),\n",
       "  ('EcoSpold01Categories', 'plastics/processing'),\n",
       "  ('CPC',\n",
       "   '89200: Moulding, pressing, stamping, extruding and similar plastic manufacturing services')],\n",
       " 'activity type': 'ordinary transforming activity',\n",
       " 'activity': '6fa55d07-0dc4-5150-b0cf-53315ed82fc5',\n",
       " 'database': 'ecoinvent-3.10-cutoff',\n",
       " 'filename': '6fa55d07-0dc4-5150-b0cf-53315ed82fc5_e6c4c508-f95f-42e0-b0a7-78c703326f9c.spold',\n",
       " 'location': 'RER',\n",
       " 'name': 'polymer foaming',\n",
       " 'synonyms': [],\n",
       " 'parameters': [{'description': 'fraction, process water, to air',\n",
       "   'id': 'daadf2d4-7bbb-4f69-8ab5-58df4c1685eb',\n",
       "   'unit': 'dimensionless',\n",
       "   'comment': 'Literature value (Statistics Canada, 2007 & Shaffer, K.H., 2008, Consumptive water use in the Great Lakes Basin, USGS) (Vionnet, S., Quantis Water Database - Technical Report, 2012).',\n",
       "   'amount': 0.205,\n",
       "   'pedigree': {'reliability': 4,\n",
       "    'completeness': 4,\n",
       "    'temporal correlation': 3,\n",
       "    'geographical correlation': 2,\n",
       "    'further technological correlation': 4},\n",
       "   'uncertainty type': 2,\n",
       "   'loc': -1.58,\n",
       "   'scale': 0.30335622624235026,\n",
       "   'scale without pedigree': 0.2,\n",
       "   'name': 'fraction_PW_to_air'}],\n",
       " 'authors': {'data entry': {'name': 'Roland Hischier',\n",
       "   'email': 'roland.hischier@empa.ch'},\n",
       "  'data generator': {'name': 'Roland Hischier',\n",
       "   'email': 'roland.hischier@empa.ch'}},\n",
       " 'type': 'processwithreferenceproduct',\n",
       " 'reference product': 'polymer foaming',\n",
       " 'flow': 'e6c4c508-f95f-42e0-b0a7-78c703326f9c',\n",
       " 'unit': 'kilogram',\n",
       " 'production amount': 1.0,\n",
       " 'code': '0e31d1fcab5f7b6c142245fdde30dd9e',\n",
       " 'id': 10374}"
      ]
     },
     "execution_count": 92,
     "metadata": {},
     "output_type": "execute_result"
    }
   ],
   "source": [
    "polymer_foaming.as_dict()"
   ]
  },
  {
   "cell_type": "code",
   "execution_count": 91,
   "id": "393ff368-9f2e-4b04-a762-826f8a19be66",
   "metadata": {},
   "outputs": [],
   "source": [
    "market_for_polystyrene=[act for act in db_eco if 'market for polystyrene, expandable' in act['name']\n",
    "                        and 'polystyrene, expandable' in act['reference product']\n",
    "                        and act['location']=='GLO'\n",
    "              ][0]"
   ]
  },
  {
   "cell_type": "code",
   "execution_count": 94,
   "id": "b1cec427-f991-4ed5-bfb8-83832f63126e",
   "metadata": {
    "collapsed": true,
    "jupyter": {
     "outputs_hidden": true
    }
   },
   "outputs": [
    {
     "data": {
      "text/plain": [
       "{'comment': \"This is a market activity. Each market represents the consumption mix of a product in a given geography, connecting suppliers with consumers of the same product in the same geographical area. Markets group the producers and also the imports of the product (if relevant) within the same geographical area. They also account for transport to the consumer and for the losses during that process, when relevant.\\nThis is the market for  'polystyrene, expandable', in the Global geography.\\nIn this market, expert judgement was used to develop product specific transport distance estimations.\\n'polystyrene, expandable', is a plastic product of fossil origin, it is not biodegradable and it is a thermoplastic material. This product consists of 100% virgin material with no content of recycled material. The product is used in the following applications and sectors: thermal insulation in buildings, road construction, sound insulation, packaging, food packaging to maintain the temperature of hot or cold food and prevent spoilage, protection for valuable and fragile goods, crash helmets, windsurfing boards\\nIncluded activities start:  This activity starts at the gate of the activities that produce 'polystyrene, expandable',  within the geography of Global.\\nIncluded activities end:  This activity ends with the supply of 'polystyrene, expandable',  to the consumers of this product. Transport is included. Product losses during transportation are assumed negligible and are therefore not included.\",\n",
       " 'classifications': [('ISIC rev.4 ecoinvent',\n",
       "   '2013:Manufacture of plastics and synthetic rubber in primary forms'),\n",
       "  ('EcoSpold01Categories', 'plastics/polymers'),\n",
       "  ('CPC', '34720: Polymers of styrene, in primary forms')],\n",
       " 'activity type': 'market activity',\n",
       " 'activity': 'df97c36f-d657-5c2c-a962-09985fc5119c',\n",
       " 'database': 'ecoinvent-3.10-cutoff',\n",
       " 'filename': 'df97c36f-d657-5c2c-a962-09985fc5119c_5c21b18e-e32d-4c76-8d16-2238632163c2.spold',\n",
       " 'location': 'GLO',\n",
       " 'name': 'market for polystyrene, expandable',\n",
       " 'synonyms': [],\n",
       " 'parameters': [],\n",
       " 'authors': {'data entry': {'name': 'Guillaume Bourgault',\n",
       "   'email': 'bourgault@ecoinvent.org'},\n",
       "  'data generator': {'name': '[System]', 'email': 'support@ecoinvent.org'}},\n",
       " 'type': 'processwithreferenceproduct',\n",
       " 'reference product': 'polystyrene, expandable',\n",
       " 'flow': '5c21b18e-e32d-4c76-8d16-2238632163c2',\n",
       " 'unit': 'kilogram',\n",
       " 'production amount': 1.0,\n",
       " 'code': '31c71922d2a8871fa590470a67c8193f',\n",
       " 'id': 9918}"
      ]
     },
     "execution_count": 94,
     "metadata": {},
     "output_type": "execute_result"
    }
   ],
   "source": [
    "market_for_polystyrene.as_dict()"
   ]
  },
  {
   "cell_type": "code",
   "execution_count": 74,
   "id": "be51a657-5ecf-41ca-bb6d-a726ea5043a7",
   "metadata": {},
   "outputs": [],
   "source": [
    "polystyrene_treatment=[act for act in db_eco if 'treatment of waste polystyrene' in act['name']\n",
    "                        and 'sanitary landfill' in act ['name']\n",
    "                        and 'waste polystyrene' in act['reference product']\n",
    "                        and act['location']=='CH'\n",
    "              ][0]"
   ]
  },
  {
   "cell_type": "code",
   "execution_count": 129,
   "id": "b2857046-e35f-4334-9ae4-fa6f9324d750",
   "metadata": {},
   "outputs": [],
   "source": [
    "#change the original to a temporal one\n",
    "\n",
    "def change_polystyrene_act(activity_code):\n",
    "    old_db_name='ecoinvent-3.10-cutoff'\n",
    "    activity=bd.Database(old_db_name).get(activity_code)\n",
    "    new_act=copy.deepcopy(activity.as_dict())\n",
    "    new_act['database']=new_db_name\n",
    "    new_act['exchanges']=[] #empty list of exchanges to add add with for loop below\n",
    "    new_act_key=(new_db_name,new_act['code']) #we just keep same code\n",
    "#     new_act_key=(new_db_name,new_act['name']) #we put name for readibility\n",
    "\n",
    "    down=None\n",
    "    \n",
    "    for exc in activity.exchanges():\n",
    "        if exc['input'] not in polystyrene_upstream.values() or exc['type']=='production':\n",
    "            data = copy.deepcopy(exc._data)\n",
    "            data['output'] = new_act_key\n",
    "\n",
    "            # Change `input` for production exchanges\n",
    "            if exc['input'] == exc['output']:\n",
    "                data['input'] = new_act_key        \n",
    "            new_act['exchanges'].append(data)\n",
    "        else:\n",
    "            data = copy.deepcopy(exc._data)\n",
    "            data['output'] = new_act_key\n",
    "            #need to change the input \n",
    "            data['input'] = (new_db_name,exc['input'][1]) #if  exc['input'] not in polystyrene.values() else exc['input']\n",
    "#             data['input'] = (new_db_name,exc['name']) #if  exc['input'] not in polystyrene.values() else exc['input']\n",
    "\n",
    "            #add two years delay between materials raw materials(foam) and polystyrene productin\n",
    "            if exc['input']==('ecoinvent-3.10-cutoff', '31c71922d2a8871fa590470a67c8193f'):\n",
    "                data['temporal distribution']=[(-2,exc['amount'])] #remember python is 0 indexed so range is up to -1             \n",
    "\n",
    "            new_act['exchanges'].append(data)\n",
    "            down=data['input']\n",
    "            \n",
    "    return new_act,down\n",
    "\n",
    "\n",
    "new_db_eco={}\n",
    "key=polystyrene_act['polystyrene foam slab production']\n",
    "while key != None:\n",
    "    ds,key=change_polystyrene_act(key[1])\n",
    "    \n",
    "    new_db_eco[(ds['database'],ds['code'])]=ds"
   ]
  },
  {
   "cell_type": "markdown",
   "id": "cd681651-0367-4a63-abb4-08f7d913299a",
   "metadata": {},
   "source": [
    "ok, we have copied the upstram exch now we just take all the tecnosphere exchanges of the copied EPS insulators production and spread them over the 100 years of rotation."
   ]
  },
  {
   "cell_type": "code",
   "execution_count": 163,
   "id": "0c834ff0-0725-40fa-a139-c00185f817d8",
   "metadata": {},
   "outputs": [],
   "source": [
    "for i,exc in enumerate(new_db_eco[('time', 'de2b60a30ff7830518ec8873f647d26e')]['exchanges']):\n",
    "    if exc['type']=='technosphere':\n",
    "        new_db_eco[('time', 'de2b60a30ff7830518ec8873f647d26e')]['exchanges'][i]['temporal distribution']=[(0,exc['amount']/10)] "
   ]
  },
  {
   "cell_type": "markdown",
   "id": "5a59a2fc-c247-4746-98fe-72ac8a567e05",
   "metadata": {},
   "source": [
    "EPS production and its EOL were modelleded separately in Excel and imported in a separate database (Insulators). Now we will take production and link it to the modified polystyrene with the relative temporal information (i.e. 2 years between polymer foam production and EPS). First we search for the dataset with EPS production and EOL. Then we search for the polystyrene exchange in the production dataset, modifies it with the one created above and add this modified dataset and the copy of the EOL dataset to the database we are creating"
   ]
  },
  {
   "cell_type": "code",
   "execution_count": 144,
   "id": "622fddf4-25b0-43d1-8032-408c6363e3a8",
   "metadata": {},
   "outputs": [],
   "source": [
    "Insulators =  bd.Database('Insulators')"
   ]
  },
  {
   "cell_type": "code",
   "execution_count": 145,
   "id": "22544041-a8bd-4bc8-a84e-3c0d9e663c23",
   "metadata": {},
   "outputs": [
    {
     "data": {
      "text/plain": [
       "[['EPS_EoL', '9503250025219c27273ebe1b28e0ac7a'],\n",
       " ['EPS_product', '10c1060a3a5c2d5bb0ea1149d9b8bf62']]"
      ]
     },
     "execution_count": 145,
     "metadata": {},
     "output_type": "execute_result"
    }
   ],
   "source": [
    "EPS=bd.Database('Insulators')\n",
    "[[x['name'],x['code']] for x in EPS.search('EPS')]"
   ]
  },
  {
   "cell_type": "code",
   "execution_count": 147,
   "id": "7d6b051d-50eb-427e-90a8-da6c6762430f",
   "metadata": {},
   "outputs": [],
   "source": [
    "EPS_product=EPS.get('10c1060a3a5c2d5bb0ea1149d9b8bf62') #get EPS prod\n",
    "EPS_EOL=EPS.get('10c1060a3a5c2d5bb0ea1149d9b8bf62') #get EPS eol"
   ]
  },
  {
   "cell_type": "code",
   "execution_count": 164,
   "id": "34ca2bf9-f1e1-45f3-aae3-34b1bfcf4ebc",
   "metadata": {},
   "outputs": [],
   "source": [
    "# for prod\n",
    "new_EPS_code='EPS_product'\n",
    "\n",
    "new_EPS=copy.deepcopy(EPS_product.as_dict())\n",
    "new_EPS['database']=new_db_name\n",
    "new_EPS['code']=new_EPS_code\n",
    "new_EPS['name']=new_EPS_code\n",
    "new_EPS['exchanges']=[] #empty list of exchanges to add add with for loop below\n",
    "new_EPS_key=(new_db_name,new_EPS['code']) #we jsut keep same code and change db for simplicity\n",
    "\n",
    "to_replace=(new_db_name,'de2b60a30ff7830518ec8873f647d26e')\n",
    "\n",
    "for exc in EPS_product.exchanges():        \n",
    "    data = copy.deepcopy(exc._data)\n",
    "    data['output'] = new_EPS_key\n",
    "    # Change `input` for production exchanges\n",
    "    if exc['input'] == exc['output']:\n",
    "        data['input'] = new_EPS_key\n",
    "    #change sawnwood\n",
    "    if exc['name']=='EPS_product':\n",
    "        data['input']=to_replace\n",
    "        data['name']=new_db_eco[to_replace]['name']\n",
    "        data['temporal distribution']=[(-2,exc['amount'])]  # sawnwood is produced 2 years before being used by glulam \n",
    "    new_EPS['exchanges'].append(data)\n",
    "new_db_eco[new_EPS_key]=new_EPS\n",
    "# new_EPS['exchanges']"
   ]
  },
  {
   "cell_type": "code",
   "execution_count": 165,
   "id": "e1af131d-1a31-4d37-92c8-94c9293d4385",
   "metadata": {},
   "outputs": [],
   "source": [
    "#for eol\n",
    "new_EPS_eol_code='EPS_EOL'\n",
    "\n",
    "new_EPS_eol=copy.deepcopy(EPS_EOL.as_dict())\n",
    "new_EPS_eol['database']=new_db_name\n",
    "new_EPS_eol['code']=new_EPS_eol_code\n",
    "new_EPS_eol['name']=new_EPS_eol_code\n",
    "new_EPS_eol['exchanges']=[] #empty list of exchanges to add add with for loop below\n",
    "new_EPS_key_eol=(new_db_name,new_EPS_eol['code']) #we jsut keep same code and change db for semplicity\n",
    "\n",
    "to_replace=(new_db_name,'de2b60a30ff7830518ec8873f647d26e')\n",
    "\n",
    "for exc in EPS_EOL.exchanges():        \n",
    "    data = copy.deepcopy(exc._data)\n",
    "    data['output'] = new_EPS_key_eol\n",
    "    # Change `input` for production exchanges\n",
    "    if exc['input'] == exc['output']:\n",
    "        data['input'] = new_EPS_key_eol\n",
    "    new_EPS_eol['exchanges'].append(data)\n",
    "new_db_eco[new_EPS_key_eol]=new_EPS_eol\n",
    "# new_EPS_eol"
   ]
  },
  {
   "cell_type": "markdown",
   "id": "51adf98c-f3b5-47e8-9b97-7adff2b47cbc",
   "metadata": {},
   "source": [
    "We assume a mean lifetime for EPS of 50 years"
   ]
  },
  {
   "cell_type": "markdown",
   "id": "45f593d3-f1d7-4b07-858c-82022f9c1b7f",
   "metadata": {},
   "source": [
    "Now we could modify the EPS_EOL making its exchanges dynamic, but this would be more complicate and also logically weirder than creating a new dataset, that is actually our Functional Unit, that has input exchange one square meter of EPS_Product and one m2 of EPS_EOL, this latter spread over time considering its EPS_decay. We create manually the FU dataset as below and write the new database. The unit m2 is represented as \"unit\"."
   ]
  },
  {
   "cell_type": "code",
   "execution_count": 167,
   "id": "64aba029-de8f-4774-b9ad-36e92434cc72",
   "metadata": {},
   "outputs": [
    {
     "name": "stdout",
     "output_type": "stream",
     "text": [
      "14:04:24 [warning  ] Not able to determine geocollections for all datasets. This database is not ready for regionalization.\n"
     ]
    },
    {
     "name": "stderr",
     "output_type": "stream",
     "text": [
      "100%|██████████████████████████████████████████████████████████████████████████████████| 5/5 [00:00<00:00, 2538.31it/s]\n"
     ]
    },
    {
     "name": "stdout",
     "output_type": "stream",
     "text": [
      "14:04:24 [info     ] Vacuuming database            \n"
     ]
    },
    {
     "ename": "OperationalError",
     "evalue": "cannot VACUUM - SQL statements in progress",
     "output_type": "error",
     "traceback": [
      "\u001b[1;31m---------------------------------------------------------------------------\u001b[0m",
      "\u001b[1;31mOperationalError\u001b[0m                          Traceback (most recent call last)",
      "File \u001b[1;32m~\\AppData\\Local\\anaconda3\\envs\\bw25\\Lib\\site-packages\\peewee.py:3322\u001b[0m, in \u001b[0;36mDatabase.execute_sql\u001b[1;34m(self, sql, params, commit)\u001b[0m\n\u001b[0;32m   3321\u001b[0m     cursor \u001b[38;5;241m=\u001b[39m \u001b[38;5;28mself\u001b[39m\u001b[38;5;241m.\u001b[39mcursor()\n\u001b[1;32m-> 3322\u001b[0m     cursor\u001b[38;5;241m.\u001b[39mexecute(sql, params \u001b[38;5;129;01mor\u001b[39;00m ())\n\u001b[0;32m   3323\u001b[0m \u001b[38;5;28;01mreturn\u001b[39;00m cursor\n",
      "\u001b[1;31mOperationalError\u001b[0m: cannot VACUUM - SQL statements in progress",
      "\nDuring handling of the above exception, another exception occurred:\n",
      "\u001b[1;31mOperationalError\u001b[0m                          Traceback (most recent call last)",
      "Cell \u001b[1;32mIn[167], line 28\u001b[0m\n\u001b[0;32m      2\u001b[0m new_db_eco[(new_db_name,code_FU)]\u001b[38;5;241m=\u001b[39m{\n\u001b[0;32m      3\u001b[0m  \u001b[38;5;124m'\u001b[39m\u001b[38;5;124mdatabase\u001b[39m\u001b[38;5;124m'\u001b[39m:new_db_name,\n\u001b[0;32m      4\u001b[0m  \u001b[38;5;124m'\u001b[39m\u001b[38;5;124mname\u001b[39m\u001b[38;5;124m'\u001b[39m:code_FU,\n\u001b[1;32m   (...)\u001b[0m\n\u001b[0;32m     24\u001b[0m     }],\n\u001b[0;32m     25\u001b[0m }\n\u001b[0;32m     27\u001b[0m time \u001b[38;5;241m=\u001b[39m bd\u001b[38;5;241m.\u001b[39mDatabase(\u001b[38;5;124m\"\u001b[39m\u001b[38;5;124mtime\u001b[39m\u001b[38;5;124m\"\u001b[39m)\n\u001b[1;32m---> 28\u001b[0m \u001b[43mtime\u001b[49m\u001b[38;5;241;43m.\u001b[39;49m\u001b[43mwrite\u001b[49m\u001b[43m(\u001b[49m\u001b[43mnew_db_eco\u001b[49m\u001b[43m)\u001b[49m\n",
      "File \u001b[1;32m~\\AppData\\Local\\anaconda3\\envs\\bw25\\Lib\\site-packages\\bw2data\\backends\\base.py:642\u001b[0m, in \u001b[0;36mSQLiteBackend.write\u001b[1;34m(self, data, process, searchable, check_typos)\u001b[0m\n\u001b[0;32m    640\u001b[0m \u001b[38;5;28;01mif\u001b[39;00m data:\n\u001b[0;32m    641\u001b[0m     \u001b[38;5;28;01mtry\u001b[39;00m:\n\u001b[1;32m--> 642\u001b[0m         \u001b[38;5;28;43mself\u001b[39;49m\u001b[38;5;241;43m.\u001b[39;49m\u001b[43m_efficient_write_many_data\u001b[49m\u001b[43m(\u001b[49m\u001b[43mdata\u001b[49m\u001b[43m,\u001b[49m\u001b[43m \u001b[49m\u001b[43mcheck_typos\u001b[49m\u001b[38;5;241;43m=\u001b[39;49m\u001b[43mcheck_typos\u001b[49m\u001b[43m)\u001b[49m\n\u001b[0;32m    643\u001b[0m     \u001b[38;5;28;01mexcept\u001b[39;00m:\n\u001b[0;32m    644\u001b[0m         \u001b[38;5;66;03m# Purge all data from database, then reraise\u001b[39;00m\n\u001b[0;32m    645\u001b[0m         \u001b[38;5;28mself\u001b[39m\u001b[38;5;241m.\u001b[39mdelete(warn\u001b[38;5;241m=\u001b[39m\u001b[38;5;28;01mFalse\u001b[39;00m)\n",
      "File \u001b[1;32m~\\AppData\\Local\\anaconda3\\envs\\bw25\\Lib\\site-packages\\bw2data\\backends\\base.py:575\u001b[0m, in \u001b[0;36mSQLiteBackend._efficient_write_many_data\u001b[1;34m(self, data, indices, check_typos)\u001b[0m\n\u001b[0;32m    573\u001b[0m         ExchangeDataset\u001b[38;5;241m.\u001b[39minsert_many(exchanges)\u001b[38;5;241m.\u001b[39mexecute()\n\u001b[0;32m    574\u001b[0m     sqlite3_lci_db\u001b[38;5;241m.\u001b[39mdb\u001b[38;5;241m.\u001b[39mcommit()\n\u001b[1;32m--> 575\u001b[0m     \u001b[43msqlite3_lci_db\u001b[49m\u001b[38;5;241;43m.\u001b[39;49m\u001b[43mvacuum\u001b[49m\u001b[43m(\u001b[49m\u001b[43m)\u001b[49m\n\u001b[0;32m    576\u001b[0m \u001b[38;5;28;01mexcept\u001b[39;00m:\n\u001b[0;32m    577\u001b[0m     sqlite3_lci_db\u001b[38;5;241m.\u001b[39mdb\u001b[38;5;241m.\u001b[39mrollback()\n",
      "File \u001b[1;32m~\\AppData\\Local\\anaconda3\\envs\\bw25\\Lib\\site-packages\\bw2data\\sqlite.py:51\u001b[0m, in \u001b[0;36mSubstitutableDatabase.vacuum\u001b[1;34m(self)\u001b[0m\n\u001b[0;32m     49\u001b[0m \u001b[38;5;28;01mdef\u001b[39;00m \u001b[38;5;21mvacuum\u001b[39m(\u001b[38;5;28mself\u001b[39m):\n\u001b[0;32m     50\u001b[0m     stdout_feedback_logger\u001b[38;5;241m.\u001b[39minfo(\u001b[38;5;124m\"\u001b[39m\u001b[38;5;124mVacuuming database \u001b[39m\u001b[38;5;124m\"\u001b[39m)\n\u001b[1;32m---> 51\u001b[0m     \u001b[38;5;28;43mself\u001b[39;49m\u001b[38;5;241;43m.\u001b[39;49m\u001b[43mexecute_sql\u001b[49m\u001b[43m(\u001b[49m\u001b[38;5;124;43m\"\u001b[39;49m\u001b[38;5;124;43mVACUUM;\u001b[39;49m\u001b[38;5;124;43m\"\u001b[39;49m\u001b[43m)\u001b[49m\n",
      "File \u001b[1;32m~\\AppData\\Local\\anaconda3\\envs\\bw25\\Lib\\site-packages\\bw2data\\sqlite.py:44\u001b[0m, in \u001b[0;36mSubstitutableDatabase.execute_sql\u001b[1;34m(self, *args, **kwargs)\u001b[0m\n\u001b[0;32m     43\u001b[0m \u001b[38;5;28;01mdef\u001b[39;00m \u001b[38;5;21mexecute_sql\u001b[39m(\u001b[38;5;28mself\u001b[39m, \u001b[38;5;241m*\u001b[39margs, \u001b[38;5;241m*\u001b[39m\u001b[38;5;241m*\u001b[39mkwargs):\n\u001b[1;32m---> 44\u001b[0m     \u001b[38;5;28;01mreturn\u001b[39;00m \u001b[38;5;28;43mself\u001b[39;49m\u001b[38;5;241;43m.\u001b[39;49m\u001b[43mdb\u001b[49m\u001b[38;5;241;43m.\u001b[39;49m\u001b[43mexecute_sql\u001b[49m\u001b[43m(\u001b[49m\u001b[38;5;241;43m*\u001b[39;49m\u001b[43margs\u001b[49m\u001b[43m,\u001b[49m\u001b[43m \u001b[49m\u001b[38;5;241;43m*\u001b[39;49m\u001b[38;5;241;43m*\u001b[39;49m\u001b[43mkwargs\u001b[49m\u001b[43m)\u001b[49m\n",
      "File \u001b[1;32m~\\AppData\\Local\\anaconda3\\envs\\bw25\\Lib\\site-packages\\peewee.py:3320\u001b[0m, in \u001b[0;36mDatabase.execute_sql\u001b[1;34m(self, sql, params, commit)\u001b[0m\n\u001b[0;32m   3318\u001b[0m     __deprecated__(\u001b[38;5;124m'\u001b[39m\u001b[38;5;124m\"\u001b[39m\u001b[38;5;124mcommit\u001b[39m\u001b[38;5;124m\"\u001b[39m\u001b[38;5;124m has been deprecated and is a no-op.\u001b[39m\u001b[38;5;124m'\u001b[39m)\n\u001b[0;32m   3319\u001b[0m logger\u001b[38;5;241m.\u001b[39mdebug((sql, params))\n\u001b[1;32m-> 3320\u001b[0m \u001b[43m\u001b[49m\u001b[38;5;28;43;01mwith\u001b[39;49;00m\u001b[43m \u001b[49m\u001b[43m__exception_wrapper__\u001b[49m\u001b[43m:\u001b[49m\n\u001b[0;32m   3321\u001b[0m \u001b[43m    \u001b[49m\u001b[43mcursor\u001b[49m\u001b[43m \u001b[49m\u001b[38;5;241;43m=\u001b[39;49m\u001b[43m \u001b[49m\u001b[38;5;28;43mself\u001b[39;49m\u001b[38;5;241;43m.\u001b[39;49m\u001b[43mcursor\u001b[49m\u001b[43m(\u001b[49m\u001b[43m)\u001b[49m\n\u001b[0;32m   3322\u001b[0m \u001b[43m    \u001b[49m\u001b[43mcursor\u001b[49m\u001b[38;5;241;43m.\u001b[39;49m\u001b[43mexecute\u001b[49m\u001b[43m(\u001b[49m\u001b[43msql\u001b[49m\u001b[43m,\u001b[49m\u001b[43m \u001b[49m\u001b[43mparams\u001b[49m\u001b[43m \u001b[49m\u001b[38;5;129;43;01mor\u001b[39;49;00m\u001b[43m \u001b[49m\u001b[43m(\u001b[49m\u001b[43m)\u001b[49m\u001b[43m)\u001b[49m\n",
      "File \u001b[1;32m~\\AppData\\Local\\anaconda3\\envs\\bw25\\Lib\\site-packages\\peewee.py:3088\u001b[0m, in \u001b[0;36mExceptionWrapper.__exit__\u001b[1;34m(self, exc_type, exc_value, traceback)\u001b[0m\n\u001b[0;32m   3086\u001b[0m new_type \u001b[38;5;241m=\u001b[39m \u001b[38;5;28mself\u001b[39m\u001b[38;5;241m.\u001b[39mexceptions[exc_type\u001b[38;5;241m.\u001b[39m\u001b[38;5;18m__name__\u001b[39m]\n\u001b[0;32m   3087\u001b[0m exc_args \u001b[38;5;241m=\u001b[39m exc_value\u001b[38;5;241m.\u001b[39margs\n\u001b[1;32m-> 3088\u001b[0m \u001b[43mreraise\u001b[49m\u001b[43m(\u001b[49m\u001b[43mnew_type\u001b[49m\u001b[43m,\u001b[49m\u001b[43m \u001b[49m\u001b[43mnew_type\u001b[49m\u001b[43m(\u001b[49m\u001b[43mexc_value\u001b[49m\u001b[43m,\u001b[49m\u001b[43m \u001b[49m\u001b[38;5;241;43m*\u001b[39;49m\u001b[43mexc_args\u001b[49m\u001b[43m)\u001b[49m\u001b[43m,\u001b[49m\u001b[43m \u001b[49m\u001b[43mtraceback\u001b[49m\u001b[43m)\u001b[49m\n",
      "File \u001b[1;32m~\\AppData\\Local\\anaconda3\\envs\\bw25\\Lib\\site-packages\\peewee.py:196\u001b[0m, in \u001b[0;36mreraise\u001b[1;34m(tp, value, tb)\u001b[0m\n\u001b[0;32m    194\u001b[0m \u001b[38;5;28;01mdef\u001b[39;00m \u001b[38;5;21mreraise\u001b[39m(tp, value, tb\u001b[38;5;241m=\u001b[39m\u001b[38;5;28;01mNone\u001b[39;00m):\n\u001b[0;32m    195\u001b[0m     \u001b[38;5;28;01mif\u001b[39;00m value\u001b[38;5;241m.\u001b[39m__traceback__ \u001b[38;5;129;01mis\u001b[39;00m \u001b[38;5;129;01mnot\u001b[39;00m tb:\n\u001b[1;32m--> 196\u001b[0m         \u001b[38;5;28;01mraise\u001b[39;00m value\u001b[38;5;241m.\u001b[39mwith_traceback(tb)\n\u001b[0;32m    197\u001b[0m     \u001b[38;5;28;01mraise\u001b[39;00m value\n",
      "File \u001b[1;32m~\\AppData\\Local\\anaconda3\\envs\\bw25\\Lib\\site-packages\\peewee.py:3322\u001b[0m, in \u001b[0;36mDatabase.execute_sql\u001b[1;34m(self, sql, params, commit)\u001b[0m\n\u001b[0;32m   3320\u001b[0m \u001b[38;5;28;01mwith\u001b[39;00m __exception_wrapper__:\n\u001b[0;32m   3321\u001b[0m     cursor \u001b[38;5;241m=\u001b[39m \u001b[38;5;28mself\u001b[39m\u001b[38;5;241m.\u001b[39mcursor()\n\u001b[1;32m-> 3322\u001b[0m     cursor\u001b[38;5;241m.\u001b[39mexecute(sql, params \u001b[38;5;129;01mor\u001b[39;00m ())\n\u001b[0;32m   3323\u001b[0m \u001b[38;5;28;01mreturn\u001b[39;00m cursor\n",
      "\u001b[1;31mOperationalError\u001b[0m: cannot VACUUM - SQL statements in progress"
     ]
    }
   ],
   "source": [
    "code_FU='EPS_FU'\n",
    "new_db_eco[(new_db_name,code_FU)]={\n",
    " 'database':new_db_name,\n",
    " 'name':code_FU,\n",
    " 'code':code_FU,\n",
    " 'unit':'unit',\n",
    " 'exchanges': \n",
    "    [{\n",
    "   'amount': 1.0,\n",
    "   'input': (new_db_name, new_EPS_code),\n",
    "   'name': new_EPS_eol_code,\n",
    "   'type': 'technosphere',\n",
    "   'unit': 'unit'\n",
    "    },{\n",
    "   'amount': 1.0,\n",
    "   'input': (new_db_name, new_EPS_eol_code),\n",
    "   'name': new_EPS_code,\n",
    "   'temporal distribution': TemporalDistribution(\n",
    "                    np.array([50], dtype='timedelta64[Y]'),  # Yearly time steps\n",
    "                    np.array([1])\n",
    "   ),\n",
    "   'type': 'technosphere',\n",
    "   'unit': 'unit'\n",
    "    }],\n",
    "}\n",
    "\n",
    "time = bd.Database(\"time\")\n",
    "time.write(new_db_eco)"
   ]
  },
  {
   "cell_type": "code",
   "execution_count": 169,
   "id": "57b87ecf-19c0-4c8c-a660-888d4bfb2cf6",
   "metadata": {},
   "outputs": [
    {
     "ename": "UnknownObject",
     "evalue": "",
     "output_type": "error",
     "traceback": [
      "\u001b[1;31m---------------------------------------------------------------------------\u001b[0m",
      "\u001b[1;31mUnknownObject\u001b[0m                             Traceback (most recent call last)",
      "Cell \u001b[1;32mIn[169], line 4\u001b[0m\n\u001b[0;32m      1\u001b[0m \u001b[38;5;28;01mfor\u001b[39;00m x \u001b[38;5;129;01min\u001b[39;00m [  (\u001b[38;5;124m'\u001b[39m\u001b[38;5;124mtime\u001b[39m\u001b[38;5;124m'\u001b[39m, \u001b[38;5;124m'\u001b[39m\u001b[38;5;124mEPS_product\u001b[39m\u001b[38;5;124m'\u001b[39m),\n\u001b[0;32m      2\u001b[0m             (\u001b[38;5;124m'\u001b[39m\u001b[38;5;124mtime\u001b[39m\u001b[38;5;124m'\u001b[39m, \u001b[38;5;124m'\u001b[39m\u001b[38;5;124mEPS_EOL\u001b[39m\u001b[38;5;124m'\u001b[39m),\n\u001b[0;32m      3\u001b[0m             ]:\n\u001b[1;32m----> 4\u001b[0m     act\u001b[38;5;241m=\u001b[39m\u001b[43mbd\u001b[49m\u001b[38;5;241;43m.\u001b[39;49m\u001b[43mget_activity\u001b[49m\u001b[43m(\u001b[49m\u001b[43mx\u001b[49m\u001b[43m)\u001b[49m\n\u001b[0;32m      5\u001b[0m     act[\u001b[38;5;124m'\u001b[39m\u001b[38;5;124mtime_group\u001b[39m\u001b[38;5;124m'\u001b[39m] \u001b[38;5;241m=\u001b[39m \u001b[38;5;28;01mTrue\u001b[39;00m\n\u001b[0;32m      6\u001b[0m     act\u001b[38;5;241m.\u001b[39msave()\n",
      "File \u001b[1;32m~\\AppData\\Local\\anaconda3\\envs\\bw25\\Lib\\site-packages\\bw2data\\utils.py:402\u001b[0m, in \u001b[0;36mget_activity\u001b[1;34m(key, **kwargs)\u001b[0m\n\u001b[0;32m    400\u001b[0m \u001b[38;5;28;01melif\u001b[39;00m \u001b[38;5;28misinstance\u001b[39m(key, numbers\u001b[38;5;241m.\u001b[39mIntegral):\n\u001b[0;32m    401\u001b[0m     kwargs[\u001b[38;5;124m\"\u001b[39m\u001b[38;5;124mid\u001b[39m\u001b[38;5;124m\"\u001b[39m] \u001b[38;5;241m=\u001b[39m key\n\u001b[1;32m--> 402\u001b[0m \u001b[38;5;28;01mreturn\u001b[39;00m \u001b[43mget_node\u001b[49m\u001b[43m(\u001b[49m\u001b[38;5;241;43m*\u001b[39;49m\u001b[38;5;241;43m*\u001b[39;49m\u001b[43mkwargs\u001b[49m\u001b[43m)\u001b[49m\n",
      "File \u001b[1;32m~\\AppData\\Local\\anaconda3\\envs\\bw25\\Lib\\site-packages\\bw2data\\utils.py:384\u001b[0m, in \u001b[0;36mget_node\u001b[1;34m(**kwargs)\u001b[0m\n\u001b[0;32m    382\u001b[0m     \u001b[38;5;28;01mraise\u001b[39;00m MultipleResults(\u001b[38;5;124m\"\u001b[39m\u001b[38;5;124mFound \u001b[39m\u001b[38;5;132;01m{}\u001b[39;00m\u001b[38;5;124m results for the given search\u001b[39m\u001b[38;5;124m\"\u001b[39m\u001b[38;5;241m.\u001b[39mformat(\u001b[38;5;28mlen\u001b[39m(candidates)))\n\u001b[0;32m    383\u001b[0m \u001b[38;5;28;01melif\u001b[39;00m \u001b[38;5;129;01mnot\u001b[39;00m candidates:\n\u001b[1;32m--> 384\u001b[0m     \u001b[38;5;28;01mraise\u001b[39;00m UnknownObject\n\u001b[0;32m    385\u001b[0m \u001b[38;5;28;01mreturn\u001b[39;00m candidates[\u001b[38;5;241m0\u001b[39m]\n",
      "\u001b[1;31mUnknownObject\u001b[0m: "
     ]
    }
   ],
   "source": [
    "for x in [  ('time', 'EPS_product'),\n",
    "            ('time', 'EPS_EOL'),\n",
    "            ]:\n",
    "    act=bd.get_activity(x)\n",
    "    act['time_group'] = True\n",
    "    act.save()"
   ]
  },
  {
   "cell_type": "code",
   "execution_count": 61,
   "id": "76ab6e53-fdb6-437a-9542-2b7d46534429",
   "metadata": {},
   "outputs": [],
   "source": [
    "#select the activities to perform the LCA\n",
    "#We want to compare the dynamic climate change impact of two insulators: fossil based (EPS, insulation) and biobased (Straw_based, insulation)\n",
    "Straw_Insul =  bd.Database('Insulators')"
   ]
  }
 ],
 "metadata": {
  "kernelspec": {
   "display_name": "Python 3 (ipykernel)",
   "language": "python",
   "name": "python3"
  },
  "language_info": {
   "codemirror_mode": {
    "name": "ipython",
    "version": 3
   },
   "file_extension": ".py",
   "mimetype": "text/x-python",
   "name": "python",
   "nbconvert_exporter": "python",
   "pygments_lexer": "ipython3",
   "version": "3.11.10"
  }
 },
 "nbformat": 4,
 "nbformat_minor": 5
}
