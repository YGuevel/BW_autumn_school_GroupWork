{
 "cells": [
  {
   "cell_type": "code",
   "execution_count": 51,
   "id": "9c14a97e-141f-4fb7-a330-58dc2f26e8d8",
   "metadata": {},
   "outputs": [],
   "source": [
    "import bw2data as bd\n",
    "import bw2calc as bc\n",
    "import seaborn as sb\n",
    "import bw2io as bi\n",
    "import bw_temporalis as bwt\n",
    "from bw_temporalis import easy_timedelta_distribution, easy_datetime_distribution, TemporalisLCA, Timeline, TemporalDistribution\n",
    "from bw_temporalis.lcia import characterize_co2\n",
    "import numpy as np"
   ]
  },
  {
   "cell_type": "code",
   "execution_count": 48,
   "id": "2c0e692a-87e9-4a9f-9fb7-40f72fc09bc3",
   "metadata": {},
   "outputs": [
    {
     "data": {
      "text/plain": [
       "Brightway2 projects manager with 12 objects:\n",
       "\tBuildings Insulation\n",
       "\tTemporalis example project\n",
       "\tbuilding\n",
       "\tbw25\n",
       "\tbw25_intro\n",
       "\tbw25_intro2\n",
       "\tbw_temporalis example\n",
       "\tdds-MFA\n",
       "\tdefault\n",
       "\tparameterLCA\n",
       "\tparametric_LCA\n",
       "\tpremise\n",
       "Use `projects.report()` to get a report on all projects."
      ]
     },
     "execution_count": 48,
     "metadata": {},
     "output_type": "execute_result"
    }
   ],
   "source": [
    "bd.projects"
   ]
  },
  {
   "cell_type": "code",
   "execution_count": 8,
   "id": "8652f14d-b555-4dc4-9083-d97c7fa69121",
   "metadata": {},
   "outputs": [
    {
     "name": "stdout",
     "output_type": "stream",
     "text": [
      "Restoring project backup archive - this could take a few minutes...\n",
      "Restored project: building\n"
     ]
    },
    {
     "data": {
      "text/plain": [
       "'building'"
      ]
     },
     "execution_count": 8,
     "metadata": {},
     "output_type": "execute_result"
    }
   ],
   "source": [
    "# bi.backup.restore_project_directory(\n",
    "#     fp='brightway2-project-bw25_intro-backup14-November-2024-02-39PM.tar.gz',\n",
    "#     project_name='building'\n",
    "# )"
   ]
  },
  {
   "cell_type": "code",
   "execution_count": 20,
   "id": "6e04f48c-5faf-41dc-86d2-27d4f64a3a78",
   "metadata": {},
   "outputs": [],
   "source": [
    "bd.projects.set_current(\"building\")"
   ]
  },
  {
   "cell_type": "code",
   "execution_count": 49,
   "id": "ebdb15b2-2f0a-4816-a0c0-0a7d51d4aed5",
   "metadata": {},
   "outputs": [
    {
     "data": {
      "text/plain": [
       "Databases dictionary with 8 object(s):\n",
       "\tPV 2035\n",
       "\tPV 2050\n",
       "\tPV 2050 - eff\n",
       "\tPV 2050 - eff - lifetime\n",
       "\tbiosphere\n",
       "\tcarbon fiber\n",
       "\tecoinvent-3.10-cutoff\n",
       "\texample"
      ]
     },
     "execution_count": 49,
     "metadata": {},
     "output_type": "execute_result"
    }
   ],
   "source": [
    "bd.databases"
   ]
  },
  {
   "cell_type": "code",
   "execution_count": 26,
   "id": "0f580cf3-86e8-40a3-8f58-32e86cd2f70b",
   "metadata": {},
   "outputs": [
    {
     "data": {
      "text/plain": [
       "\u001b[0;31mSignature:\u001b[0m \u001b[0mbd\u001b[0m\u001b[0;34m.\u001b[0m\u001b[0mDatabase\u001b[0m\u001b[0;34m(\u001b[0m\u001b[0mname\u001b[0m\u001b[0;34m:\u001b[0m \u001b[0mstr\u001b[0m\u001b[0;34m,\u001b[0m \u001b[0mbackend\u001b[0m\u001b[0;34m:\u001b[0m \u001b[0mstr\u001b[0m \u001b[0;34m=\u001b[0m \u001b[0;34m'sqlite'\u001b[0m\u001b[0;34m)\u001b[0m \u001b[0;34m->\u001b[0m \u001b[0mbw2data\u001b[0m\u001b[0;34m.\u001b[0m\u001b[0mdata_store\u001b[0m\u001b[0;34m.\u001b[0m\u001b[0mProcessedDataStore\u001b[0m\u001b[0;34m\u001b[0m\u001b[0;34m\u001b[0m\u001b[0m\n",
       "\u001b[0;31mDocstring:\u001b[0m\n",
       "A method that returns a database class instance.\n",
       "\n",
       "Database types are specified in `databases[database_name]['backend']`.\n",
       "\u001b[0;31mFile:\u001b[0m      /opt/anaconda3/envs/bw25/lib/python3.11/site-packages/bw2data/database.py\n",
       "\u001b[0;31mType:\u001b[0m      function"
      ]
     },
     "metadata": {},
     "output_type": "display_data"
    }
   ],
   "source": [
    "bd.Database?"
   ]
  },
  {
   "cell_type": "code",
   "execution_count": 28,
   "id": "f6857c9e-cc2a-498a-8c4f-0a3b4da97663",
   "metadata": {},
   "outputs": [],
   "source": [
    "td = easy_timedelta_distribution(\n",
    "                    start=0,\n",
    "                    end=11,\n",
    "                    resolution=\"M\",\n",
    "                    steps=4, \n",
    "                )"
   ]
  },
  {
   "cell_type": "code",
   "execution_count": 52,
   "id": "72261860-e942-43b9-acc2-0ba55d0ad706",
   "metadata": {},
   "outputs": [
    {
     "name": "stdout",
     "output_type": "stream",
     "text": [
      "\u001b[2m17:23:41\u001b[0m [\u001b[33m\u001b[1mwarning  \u001b[0m] \u001b[1mNot able to determine geocollections for all datasets. This database is not ready for regionalization.\u001b[0m\n"
     ]
    },
    {
     "name": "stderr",
     "output_type": "stream",
     "text": [
      "100%|███████████████████████████████████████████| 4/4 [00:00<00:00, 4019.46it/s]"
     ]
    },
    {
     "name": "stdout",
     "output_type": "stream",
     "text": [
      "\u001b[2m17:23:41\u001b[0m [\u001b[32m\u001b[1minfo     \u001b[0m] \u001b[1mVacuuming database            \u001b[0m\n"
     ]
    },
    {
     "name": "stderr",
     "output_type": "stream",
     "text": [
      "\n"
     ]
    }
   ],
   "source": [
    "bd.Database('temporalis-example').write({\n",
    "    # CO2 emission\n",
    "    ('temporalis-example', \"CO2\"): {\n",
    "        \"type\": \"emission\",\n",
    "        \"name\": \"carbon dioxide\",\n",
    "        \"temporalis code\": \"co2\",\n",
    "    },\n",
    "    # EPS Production Process\n",
    "    ('temporalis-example', 'EPS_production'): {\n",
    "        'exchanges': [\n",
    "            {\n",
    "                'amount': 0.8,\n",
    "                'input': ('temporalis-example', 'CO2'),\n",
    "                'type': 'biosphere',\n",
    "                'temporal_distribution': TemporalDistribution(\n",
    "                    np.array([1], dtype='timedelta64[Y]'),  # Yearly time steps\n",
    "                    np.array([1])\n",
    "                ),\n",
    "            },\n",
    "        ],\n",
    "        'name': 'EPS production',\n",
    "        'type': 'process'\n",
    "    },\n",
    "    # EPS End-of-Life Process (Incineration)\n",
    "    ('temporalis-example', 'EPS_Incineration'): {\n",
    "        'exchanges': [\n",
    "            {\n",
    "                'amount': 0.15,\n",
    "                'input': ('temporalis-example', 'CO2'),\n",
    "                'temporal_distribution': TemporalDistribution(\n",
    "                    np.array([50], dtype='timedelta64[Y]'),  # Emission delayed 50 years\n",
    "                    np.array([1])\n",
    "                ),\n",
    "                'type': 'biosphere'\n",
    "            },\n",
    "        ],\n",
    "        'name': 'EPS Incineration',\n",
    "        'type': 'process'\n",
    "    },\n",
    "    # Functional Unit\n",
    "    ('temporalis-example', 'Functional Unit - EPS'): {\n",
    "        'exchanges': [\n",
    "            {\n",
    "                'amount': 1,\n",
    "                'input': ('temporalis-example', 'EPS_production'),\n",
    "                'type': 'technosphere'\n",
    "            },\n",
    "            {\n",
    "                'amount': 1,\n",
    "                'input': ('temporalis-example', 'EPS_Incineration'),\n",
    "                'type': 'technosphere'\n",
    "            },\n",
    "        ],\n",
    "        'name': 'Functional Unit - EPS',\n",
    "        'type': 'process'\n",
    "    },\n",
    "})\n"
   ]
  },
  {
   "cell_type": "code",
   "execution_count": 70,
   "id": "f6ebe8dd-fe9d-49e4-8822-23b580d7a112",
   "metadata": {},
   "outputs": [
    {
     "name": "stdout",
     "output_type": "stream",
     "text": [
      "'carbon dioxide' (None, None, None)\n",
      "'EPS production' (None, None, None)\n",
      "Exchange: 0.8 None 'carbon dioxide' (None, None, None) to 'EPS production' (None, None, None)>\n",
      "'EPS Incineration' (None, None, None)\n",
      "Exchange: 0.15 None 'carbon dioxide' (None, None, None) to 'EPS Incineration' (None, None, None)>\n",
      "'Functional Unit - EPS' (None, None, None)\n",
      "Exchange: 1 None 'EPS production' (None, None, None) to 'Functional Unit - EPS' (None, None, None)>\n",
      "Exchange: 1 None 'EPS Incineration' (None, None, None) to 'Functional Unit - EPS' (None, None, None)>\n"
     ]
    }
   ],
   "source": [
    "for activity in bd.Database('temporalis-example'):\n",
    "    print(activity)\n",
    "    for exchange in activity.exchanges():\n",
    "        print(exchange)\n"
   ]
  },
  {
   "cell_type": "code",
   "execution_count": 53,
   "id": "ea462595-ba17-4451-ac21-b3a21cc1b6fb",
   "metadata": {},
   "outputs": [],
   "source": [
    "bd.Method((\"GWP\", \"example\")).write([\n",
    "    (('example', \"CO2\"), 1),\n",
    "])"
   ]
  },
  {
   "cell_type": "code",
   "execution_count": 54,
   "id": "13c0be35-6d1f-4815-96c4-da935c5b73e2",
   "metadata": {},
   "outputs": [],
   "source": [
    "lca = bc.LCA({('example', 'produce-bioethanol'): 1}, (\"GWP\", \"example\"))\n",
    "lca.lci()\n",
    "lca.lcia()"
   ]
  },
  {
   "cell_type": "code",
   "execution_count": 55,
   "id": "844f65e0-07bd-4a7c-a1fb-a8cfc9aef0e5",
   "metadata": {},
   "outputs": [
    {
     "data": {
      "text/plain": [
       "-0.1080000028014183"
      ]
     },
     "execution_count": 55,
     "metadata": {},
     "output_type": "execute_result"
    }
   ],
   "source": [
    "lca.score"
   ]
  },
  {
   "cell_type": "code",
   "execution_count": 56,
   "id": "d5a32b93-59c9-4e1f-b5a8-b2470c592f75",
   "metadata": {},
   "outputs": [
    {
     "name": "stdout",
     "output_type": "stream",
     "text": [
      "Starting graph traversal\n",
      "Calculation count: 0\n"
     ]
    }
   ],
   "source": [
    "tlca = TemporalisLCA(lca)"
   ]
  },
  {
   "cell_type": "code",
   "execution_count": 57,
   "id": "b6967df0-12b5-4b34-8ab1-4068f4fd3fed",
   "metadata": {},
   "outputs": [],
   "source": [
    "tl = tlca.build_timeline()\n",
    "df = tl.build_dataframe()"
   ]
  },
  {
   "cell_type": "code",
   "execution_count": 58,
   "id": "60b561ad-579d-44b9-9ee8-01fe717109d3",
   "metadata": {},
   "outputs": [
    {
     "data": {
      "text/plain": [
       "Text(0.5, 0, 'Time (years)')"
      ]
     },
     "execution_count": 58,
     "metadata": {},
     "output_type": "execute_result"
    },
    {
     "data": {
      "image/png": "[encoded data removed]",
      "text/plain": [
       "<Figure size 640x480 with 1 Axes>"
      ]
     },
     "metadata": {},
     "output_type": "display_data"
    }
   ],
   "source": [
    "axes = sb.scatterplot(\n",
    "    x=\"date\", \n",
    "    y=\"amount\",\n",
    "    hue=\"code\",\n",
    "    data=df.merge(\n",
    "        bd.Database('example').nodes_to_dataframe().rename(columns={'id': 'activity'}), \n",
    "        on='activity'\n",
    "    )\n",
    ")\n",
    "axes.set_ylabel(\"$CO_{2}$ emissions (kg)\")\n",
    "axes.set_xlabel(\"Time (years)\")"
   ]
  },
  {
   "cell_type": "code",
   "execution_count": null,
   "id": "2b54d522-3325-4116-b63a-35c5dc873601",
   "metadata": {},
   "outputs": [],
   "source": []
  }
 ],
 "metadata": {
  "kernelspec": {
   "display_name": "Python 3 (ipykernel)",
   "language": "python",
   "name": "python3"
  },
  "language_info": {
   "codemirror_mode": {
    "name": "ipython",
    "version": 3
   },
   "file_extension": ".py",
   "mimetype": "text/x-python",
   "name": "python",
   "nbconvert_exporter": "python",
   "pygments_lexer": "ipython3",
   "version": "3.11.10"
  }
 },
 "nbformat": 4,
 "nbformat_minor": 5
}
