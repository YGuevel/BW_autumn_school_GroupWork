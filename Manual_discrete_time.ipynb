{
 "cells": [
  {
   "cell_type": "markdown",
   "id": "888d62b8-b807-496b-896d-0c44e3c29110",
   "metadata": {},
   "source": [
    "PROJECT"
   ]
  },
  {
   "cell_type": "markdown",
   "id": "951c9dc5-6b0e-4655-95ef-d8be98d4823b",
   "metadata": {},
   "source": [
    "Deliverables:\n",
    "    Notebook\n",
    "    Documentation of the model\n",
    "    Test that everything works well\n",
    "Goals:\n",
    "    Compare the environmental performance of 2 biobased insulation materials contrasted to a reference fossil insulation      material, applied     to buildings throught the prodution and end-of-life phases of the product.\n",
    "Scope:\n",
    "    The environmental performance is assessed through the climate change (CO2, Ch4, N2O), water use, and land use (area occupied) impacts\n",
    "    LCIA method: \n",
    "    The assessment is performed for 50 years of lifetime of the buildings\n",
    "    The EoL choices involve incineration, landfill, composting, and mulching (we are going to consider 2)\n",
    "    Temporal scope:\n",
    "    \n",
    "Tools\n",
    "    Github\n",
    "    Temporalis\n",
    "    Excel\n",
    "\n",
    "  *How to consider the soil carbon sequestration/release/lost effect\n",
    "  For croplands is shor, for forests is large\n"
   ]
  },
  {
   "cell_type": "code",
   "execution_count": 1,
   "id": "9eacc7a2-5ae1-49d3-a3f5-5c30d7e7c4fd",
   "metadata": {},
   "outputs": [],
   "source": [
    "from bw_temporalis import easy_timedelta_distribution, easy_datetime_distribution, TemporalisLCA, Timeline, TemporalDistribution\n",
    "from bw_temporalis.lcia import characterize_methane, characterize_co2\n",
    "\n",
    "import bw2io as bi \n",
    "import bw2data as bd\n",
    "import bw2calc as bc\n",
    "import os               # to use \"operating system dependent functionality\"\n",
    "import numpy as np      # \"the fundamental package for scientific computing with Python\"\n",
    "import pandas as pd     # \"high-performance, easy-to-use data structures and data analysis tools\" for Python"
   ]
  },
  {
   "cell_type": "code",
   "execution_count": 2,
   "id": "b2d29047-f0ad-49d9-995b-ffcf548de570",
   "metadata": {},
   "outputs": [],
   "source": [
    "import seaborn as sb"
   ]
  },
  {
   "cell_type": "code",
   "execution_count": null,
   "id": "227945f7-ec26-4f8d-ba7b-8c057d97ebd9",
   "metadata": {},
   "outputs": [],
   "source": [
    "projects.set_current('Buildings Insulation')"
   ]
  },
  {
   "cell_type": "code",
   "execution_count": null,
   "id": "6b05dd0e-18c7-4337-b86d-1d044cc8dd5e",
   "metadata": {},
   "outputs": [],
   "source": [
    "bd.databases"
   ]
  },
  {
   "cell_type": "code",
   "execution_count": null,
   "id": "cb1b1b0f-1bd3-414e-9b5f-1a3769faf189",
   "metadata": {},
   "outputs": [],
   "source": [
    "#our_data = pd.read_csv('LCI.csv')\n",
    "#our_data.head()"
   ]
  },
  {
   "cell_type": "code",
   "execution_count": null,
   "id": "310a5e42-b4e7-49ff-bf27-36cd3cda4546",
   "metadata": {},
   "outputs": [],
   "source": [
    "imp.match_database(fields=('name', 'reference product', 'unit', 'location'))\n",
    "imp.statistics()"
   ]
  },
  {
   "cell_type": "code",
   "execution_count": null,
   "id": "ff22d644-8b0f-4efb-b0e6-a37331ec5b07",
   "metadata": {},
   "outputs": [],
   "source": [
    "bi.backup.restore_project_directory(\n",
    "    fp='brightway2-project-odym-backup.13-November-2024-09-43PM.tar.gz',\n",
    "    project_name='odym_case'\n",
    ")"
   ]
  },
  {
   "cell_type": "code",
   "execution_count": null,
   "id": "0255c0ba-33f2-4a7d-af9a-cf5bc1c2a292",
   "metadata": {},
   "outputs": [],
   "source": [
    "our_data = bi.ExcelImporter(\"our_LCI.xlsx\")\n",
    "imp.apply_strategies()\n",
    "imp.match_database('ecoinvent-3.10-cutoff', fields=('name', 'unit', 'reference product', 'location'))\n",
    "imp.statistics()"
   ]
  },
  {
   "cell_type": "code",
   "execution_count": 12,
   "id": "e255c38e-8603-40e9-bad4-8ffe9ad697dd",
   "metadata": {},
   "outputs": [
    {
     "data": {
      "text/plain": [
       "\u001b[1;31mInit signature:\u001b[0m\n",
       "\u001b[0mTemporalisLCA\u001b[0m\u001b[1;33m(\u001b[0m\u001b[1;33m\n",
       "\u001b[0m    \u001b[0mlca_object\u001b[0m\u001b[1;33m:\u001b[0m \u001b[0mbw2calc\u001b[0m\u001b[1;33m.\u001b[0m\u001b[0mlca\u001b[0m\u001b[1;33m.\u001b[0m\u001b[0mLCA\u001b[0m\u001b[1;33m,\u001b[0m\u001b[1;33m\n",
       "\u001b[0m    \u001b[0mstarting_datetime\u001b[0m\u001b[1;33m:\u001b[0m \u001b[0mdatetime\u001b[0m\u001b[1;33m.\u001b[0m\u001b[0mdatetime\u001b[0m \u001b[1;33m|\u001b[0m \u001b[0mstr\u001b[0m \u001b[1;33m=\u001b[0m \u001b[1;34m'now'\u001b[0m\u001b[1;33m,\u001b[0m\u001b[1;33m\n",
       "\u001b[0m    \u001b[0mcutoff\u001b[0m\u001b[1;33m:\u001b[0m \u001b[0mfloat\u001b[0m \u001b[1;33m|\u001b[0m \u001b[1;32mNone\u001b[0m \u001b[1;33m=\u001b[0m \u001b[1;36m0.0005\u001b[0m\u001b[1;33m,\u001b[0m\u001b[1;33m\n",
       "\u001b[0m    \u001b[0mbiosphere_cutoff\u001b[0m\u001b[1;33m:\u001b[0m \u001b[0mfloat\u001b[0m \u001b[1;33m|\u001b[0m \u001b[1;32mNone\u001b[0m \u001b[1;33m=\u001b[0m \u001b[1;36m1e-06\u001b[0m\u001b[1;33m,\u001b[0m\u001b[1;33m\n",
       "\u001b[0m    \u001b[0mmax_calc\u001b[0m\u001b[1;33m:\u001b[0m \u001b[0mint\u001b[0m \u001b[1;33m|\u001b[0m \u001b[1;32mNone\u001b[0m \u001b[1;33m=\u001b[0m \u001b[1;36m2000\u001b[0m\u001b[1;33m,\u001b[0m\u001b[1;33m\n",
       "\u001b[0m    \u001b[0mstatic_activity_indices\u001b[0m\u001b[1;33m:\u001b[0m \u001b[0mset\u001b[0m\u001b[1;33m[\u001b[0m\u001b[0mint\u001b[0m\u001b[1;33m]\u001b[0m \u001b[1;33m|\u001b[0m \u001b[1;32mNone\u001b[0m \u001b[1;33m=\u001b[0m \u001b[1;32mNone\u001b[0m\u001b[1;33m,\u001b[0m\u001b[1;33m\n",
       "\u001b[0m    \u001b[0mskip_coproducts\u001b[0m\u001b[1;33m:\u001b[0m \u001b[0mbool\u001b[0m \u001b[1;33m|\u001b[0m \u001b[1;32mNone\u001b[0m \u001b[1;33m=\u001b[0m \u001b[1;32mFalse\u001b[0m\u001b[1;33m,\u001b[0m\u001b[1;33m\n",
       "\u001b[0m    \u001b[0mfunctional_unit_unique_id\u001b[0m\u001b[1;33m:\u001b[0m \u001b[0mint\u001b[0m \u001b[1;33m|\u001b[0m \u001b[1;32mNone\u001b[0m \u001b[1;33m=\u001b[0m \u001b[1;33m-\u001b[0m\u001b[1;36m1\u001b[0m\u001b[1;33m,\u001b[0m\u001b[1;33m\n",
       "\u001b[0m    \u001b[0mgraph_traversal\u001b[0m\u001b[1;33m:\u001b[0m \u001b[0mbw_graph_tools\u001b[0m\u001b[1;33m.\u001b[0m\u001b[0mgraph_traversal\u001b[0m\u001b[1;33m.\u001b[0m\u001b[0mnew_node_each_visit\u001b[0m\u001b[1;33m.\u001b[0m\u001b[0mNewNodeEachVisitGraphTraversal\u001b[0m \u001b[1;33m|\u001b[0m \u001b[1;32mNone\u001b[0m \u001b[1;33m=\u001b[0m \u001b[1;33m<\u001b[0m\u001b[1;32mclass\u001b[0m \u001b[1;34m'bw_graph_tools.graph_traversal.new_node_each_visit.NewNodeEachVisitGraphTraversal'\u001b[0m\u001b[1;33m>\u001b[0m\u001b[1;33m,\u001b[0m\u001b[1;33m\n",
       "\u001b[0m\u001b[1;33m)\u001b[0m\u001b[1;33m\u001b[0m\u001b[1;33m\u001b[0m\u001b[0m\n",
       "\u001b[1;31mDocstring:\u001b[0m     \n",
       "Calculate an LCA using graph traversal, with edges using temporal distributions.\n",
       "\n",
       "Edges with temporal distributions should store this information using `\"temporal_distributions\"`:\n",
       "\n",
       "```python\n",
       "    exchange[\"temporal_distribution\"] = bw_temporalis.TemporalDistribution(\n",
       "        times=numpy.array([-2, -1, 0, 1, 2], dtype=\"timedelta64[s]\"),\n",
       "        values=numpy.ones(5)\n",
       "    )\n",
       "```\n",
       "\n",
       "Temporal distribution times must always have the data type `timedelta64[s]`. Not all edges need to have temporal distributions.\n",
       "\n",
       "Temporal distributions are **not density functions** - their values should sum to the exchange amount.\n",
       "\n",
       "As graph traversal is much slower than matrix calculations, we can limit which nodes get traversed in several ways:\n",
       "\n",
       "* All activities in a database marked as `static`\n",
       "* Any activity ids passed in `static_activity_indices`\n",
       "* Any activities whose cumulative impact is below the cutoff score\n",
       "\n",
       "The output of a Temporalis LCA calculation is a `bw_temporalis.Timeline`, which can be characterized.\n",
       "\n",
       "Parameters\n",
       "----------\n",
       "lca_object : bw2calc.LCA\n",
       "    The already instantiated and calculated LCA class (i.e. `.lci()` and `.lcia()` have already been done)\n",
       "starting_datetime : datetime.datetime | str\n",
       "    When the functional unit happens. Must be a point in time. Normally something like `\"now\"` or `\"2023-01-01\"`.\n",
       "cutoff : float\n",
       "    The fraction of the total score below which graph traversal should stop. In range `(0, 1)`.\n",
       "biosphere_cutoff : float\n",
       "    The fraction of the total score below which we don't include separate biosphere nodes to be characterized in the `Timeline`. In range `(0, 1)`.\n",
       "max_calc : int\n",
       "    Total number of LCA inventory calculations to perform during graph traversal\n",
       "static_activity_indices : set[int]\n",
       "    Activity database node `id` values where graph traversal will stop\n",
       "skip_coproducts : bool\n",
       "    Should we also traverse edges for the other products in multioutput activities?\n",
       "functional_unit_unique_id : int\n",
       "    The unique id of the functional unit. Strongly recommended to leave as default.\n",
       "graph_traversal : bw_graph_tools.NewNodeEachVisitGraphTraversal\n",
       "    Optional subclass of `NewNodeEachVisitGraphTraversal` for advanced usage\n",
       "\u001b[1;31mFile:\u001b[0m           c:\\users\\arendtra\\anaconda3\\envs\\bw25\\lib\\site-packages\\bw_temporalis\\lca.py\n",
       "\u001b[1;31mType:\u001b[0m           type\n",
       "\u001b[1;31mSubclasses:\u001b[0m     "
      ]
     },
     "metadata": {},
     "output_type": "display_data"
    }
   ],
   "source": [
    "TemporalisLCA?"
   ]
  },
  {
   "cell_type": "code",
   "execution_count": 13,
   "id": "e9af2174-c9be-4f20-b5a5-db8844db2d54",
   "metadata": {},
   "outputs": [
    {
     "data": {
      "text/plain": [
       "\u001b[1;31mInit signature:\u001b[0m\n",
       "\u001b[0mTemporalDistribution\u001b[0m\u001b[1;33m(\u001b[0m\u001b[1;33m\n",
       "\u001b[0m    \u001b[0mdate\u001b[0m\u001b[1;33m:\u001b[0m \u001b[0mnumpy\u001b[0m\u001b[1;33m.\u001b[0m\u001b[0mndarray\u001b[0m\u001b[1;33m[\u001b[0m\u001b[0mtyping\u001b[0m\u001b[1;33m.\u001b[0m\u001b[0mAny\u001b[0m\u001b[1;33m,\u001b[0m \u001b[0mnumpy\u001b[0m\u001b[1;33m.\u001b[0m\u001b[0mdtype\u001b[0m\u001b[1;33m[\u001b[0m\u001b[0mnumpy\u001b[0m\u001b[1;33m.\u001b[0m\u001b[0mdatetime64\u001b[0m \u001b[1;33m|\u001b[0m \u001b[0mnumpy\u001b[0m\u001b[1;33m.\u001b[0m\u001b[0mtimedelta64\u001b[0m\u001b[1;33m]\u001b[0m\u001b[1;33m]\u001b[0m\u001b[1;33m,\u001b[0m\u001b[1;33m\n",
       "\u001b[0m    \u001b[0mamount\u001b[0m\u001b[1;33m:\u001b[0m \u001b[0mnumpy\u001b[0m\u001b[1;33m.\u001b[0m\u001b[0mndarray\u001b[0m\u001b[1;33m[\u001b[0m\u001b[0mtyping\u001b[0m\u001b[1;33m.\u001b[0m\u001b[0mAny\u001b[0m\u001b[1;33m,\u001b[0m \u001b[0mnumpy\u001b[0m\u001b[1;33m.\u001b[0m\u001b[0mdtype\u001b[0m\u001b[1;33m[\u001b[0m\u001b[1;33m+\u001b[0m\u001b[0mScalarType\u001b[0m\u001b[1;33m]\u001b[0m\u001b[1;33m]\u001b[0m\u001b[1;33m,\u001b[0m\u001b[1;33m\n",
       "\u001b[0m\u001b[1;33m)\u001b[0m\u001b[1;33m\u001b[0m\u001b[1;33m\u001b[0m\u001b[0m\n",
       "\u001b[1;31mDocstring:\u001b[0m     \n",
       "A container for a series of amount spread over time.\n",
       "Args:\n",
       "    * *date* (ndarray): 1D array containg temporal info of `amount` with type `timedelta64` or `datetime64` .\n",
       "    * *amount* (ndarray): 1D array containg amount with type `float`\n",
       "\n",
       "    Times and amount must have same length and element of `amount` must correspond to the element of `date`\n",
       "    with the same index.\n",
       "\u001b[1;31mFile:\u001b[0m           c:\\users\\arendtra\\anaconda3\\envs\\bw25\\lib\\site-packages\\bw_temporalis\\temporal_distribution.py\n",
       "\u001b[1;31mType:\u001b[0m           type\n",
       "\u001b[1;31mSubclasses:\u001b[0m     FixedTimeOfYearTD, FixedTD"
      ]
     },
     "metadata": {},
     "output_type": "display_data"
    }
   ],
   "source": [
    "TemporalDistribution?"
   ]
  },
  {
   "cell_type": "code",
   "execution_count": 14,
   "id": "cf355579-08f2-42ff-be49-db8447b14c3e",
   "metadata": {},
   "outputs": [],
   "source": [
    "Straw_emission_distribution = TemporalDistribution(\n",
    "                    np.array([0, 1, 50], dtype='timedelta64[Y]'),\n",
    "                   amount=np.array([0.25, 0.5, 0.25])\n",
    "                )\n",
    "EPS_emission_distribution = TemporalDistribution(\n",
    "                    np.array([ 1, 50], dtype='timedelta64[Y]'),\n",
    "                    amount=np.array([ 0.75, 0.25])\n",
    "                )"
   ]
  },
  {
   "cell_type": "code",
   "execution_count": 17,
   "id": "6b7bb343-c386-443e-8e2a-77a16cac31b3",
   "metadata": {},
   "outputs": [
    {
     "name": "stdout",
     "output_type": "stream",
     "text": [
      "16:33:34 [warning  ] Not able to determine geocollections for all datasets. This database is not ready for regionalization.\n"
     ]
    },
    {
     "name": "stderr",
     "output_type": "stream",
     "text": [
      "100%|██████████████████████████████████████████████████████████████████████████████████| 4/4 [00:00<00:00, 1998.24it/s]\n"
     ]
    },
    {
     "name": "stdout",
     "output_type": "stream",
     "text": [
      "16:33:34 [info     ] Vacuuming database            \n"
     ]
    }
   ],
   "source": [
    "bd.Database('temporalis-example').write({\n",
    "    # CO2 emission\n",
    "    ('temporalis-example', \"CO2\"): {\n",
    "        \"type\": \"emission\",\n",
    "        \"name\": \"carbon dioxide\",\n",
    "        \"temporalis code\": \"co2\",\n",
    "    },\n",
    "    # EPS Production Process\n",
    "    ('temporalis-example', 'EPS_production'): {\n",
    "        'exchanges': [\n",
    "            {\n",
    "                'amount': 0.8,\n",
    "                'input': ('temporalis-example', 'CO2'),\n",
    "                'type': 'biosphere',\n",
    "                'temporal_distribution': TemporalDistribution(\n",
    "                    np.array([1], dtype='timedelta64[Y]'),  # Yearly time steps\n",
    "                    np.array([1])\n",
    "                ),\n",
    "            },\n",
    "        ],\n",
    "        'name': 'EPS production',\n",
    "        'type': 'process'\n",
    "    },\n",
    "    # EPS End-of-Life Process (Incineration)\n",
    "    ('temporalis-example', 'EPS_Incineration'): {\n",
    "        'exchanges': [\n",
    "            {\n",
    "                'amount': 0.15,\n",
    "                'input': ('temporalis-example', 'CO2'),\n",
    "                'temporal_distribution': TemporalDistribution(\n",
    "                    np.array([50], dtype='timedelta64[Y]'),  # Emission delayed 50 years\n",
    "                    np.array([1])\n",
    "                ),\n",
    "                'type': 'biosphere'\n",
    "            },\n",
    "        ],\n",
    "        'name': 'EPS Incineration',\n",
    "        'type': 'process'\n",
    "    },\n",
    "    # Functional Unit I\n",
    "    ('temporalis-example', 'Functional Unit - EPS'): {\n",
    "        'exchanges': [\n",
    "            {\n",
    "                'amount': 1,\n",
    "                'input': ('temporalis-example', 'EPS_production'),\n",
    "                'type': 'technosphere'\n",
    "            },\n",
    "            {\n",
    "                'amount': 1,\n",
    "                'input': ('temporalis-example', 'EPS_Incineration'),\n",
    "                'type': 'technosphere'\n",
    "            },\n",
    "        ],\n",
    "        'name': 'Functional Unit - EPS',\n",
    "        'type': 'process'\n",
    "    },\n",
    "    \n",
    "})\n"
   ]
  },
  {
   "cell_type": "code",
   "execution_count": 39,
   "id": "f432c374-0445-4860-b944-48ab3d43edbf",
   "metadata": {},
   "outputs": [
    {
     "name": "stdout",
     "output_type": "stream",
     "text": [
      "Activity: carbon dioxide\n",
      "  Type: emission\n",
      "\n",
      "\n",
      "Activity: EPS production\n",
      "  Type: processwithreferenceproduct\n",
      "    Exchange: carbon dioxide, Amount: 0.8, Type: biosphere\n",
      "\n",
      "\n",
      "Activity: Functional Unit - EPS\n",
      "  Type: processwithreferenceproduct\n",
      "    Exchange: EPS production, Amount: 1, Type: technosphere\n",
      "    Exchange: EPS Incineration, Amount: 1, Type: technosphere\n",
      "\n",
      "\n",
      "Activity: EPS Incineration\n",
      "  Type: processwithreferenceproduct\n",
      "    Exchange: carbon dioxide, Amount: 0.15, Type: biosphere\n",
      "\n",
      "\n"
     ]
    }
   ],
   "source": [
    "\n",
    "\n",
    "\n",
    "# Replace 'your_database_name' with the actual database name\n",
    "\n",
    "\n",
    "# Print activities and their exchanges\n",
    "for activity in bd.Database('temporalis-example'):\n",
    "    print(f\"Activity: {activity['name']}\")\n",
    "    print(f\"  Type: {activity['type']}\")\n",
    "    for exc in activity.exchanges():\n",
    "        print(f\"    Exchange: {exc.input['name']}, Amount: {exc['amount']}, Type: {exc['type']}\")\n",
    "    print(\"\\n\")  # Add a line break for readability\n"
   ]
  },
  {
   "cell_type": "code",
   "execution_count": 32,
   "id": "f2525d89-642b-4b5c-b633-6f000bd9e579",
   "metadata": {},
   "outputs": [
    {
     "data": {
      "text/plain": [
       "Databases dictionary with 2 object(s):\n",
       "\texample\n",
       "\ttemporalis-example"
      ]
     },
     "execution_count": 32,
     "metadata": {},
     "output_type": "execute_result"
    }
   ],
   "source": []
  },
  {
   "cell_type": "code",
   "execution_count": 36,
   "id": "87ee5fd2-defe-4765-b437-820101d46cdd",
   "metadata": {},
   "outputs": [
    {
     "ename": "NameError",
     "evalue": "name 'temporalis' is not defined",
     "output_type": "error",
     "traceback": [
      "\u001b[1;31m---------------------------------------------------------------------------\u001b[0m",
      "\u001b[1;31mNameError\u001b[0m                                 Traceback (most recent call last)",
      "Cell \u001b[1;32mIn[36], line 1\u001b[0m\n\u001b[1;32m----> 1\u001b[0m \u001b[38;5;28mprint\u001b[39m(\u001b[43mtemporalis\u001b[49m\u001b[38;5;241m-\u001b[39mexample)\n",
      "\u001b[1;31mNameError\u001b[0m: name 'temporalis' is not defined"
     ]
    }
   ],
   "source": [
    "print(temporalis-example)"
   ]
  },
  {
   "cell_type": "code",
   "execution_count": 19,
   "id": "da5e4d14-469d-4528-b524-585c250eade3",
   "metadata": {},
   "outputs": [],
   "source": [
    "bd.Method((\"GWP\", \"example\")).write([\n",
    "    (('temporalis-example', \"CO2\"), 1)\n",
    "])"
   ]
  },
  {
   "cell_type": "code",
   "execution_count": 21,
   "id": "069d1a4b-b888-4f25-882c-c835d141e380",
   "metadata": {},
   "outputs": [],
   "source": [
    "lca = bc.LCA({('temporalis-example', 'Functional Unit - EPS'): 1}, (\"GWP\", \"example\"))\n",
    "lca.lci()\n",
    "lca.lcia()"
   ]
  },
  {
   "cell_type": "code",
   "execution_count": 22,
   "id": "babbe1e4-b465-4bbd-87c4-f467a25c116b",
   "metadata": {},
   "outputs": [
    {
     "name": "stdout",
     "output_type": "stream",
     "text": [
      "Starting graph traversal\n",
      "Calculation count: 2\n"
     ]
    }
   ],
   "source": [
    "lca = TemporalisLCA(lca)"
   ]
  },
  {
   "cell_type": "code",
   "execution_count": 23,
   "id": "f25dc370-a1bb-4fba-be39-292f9523cf95",
   "metadata": {},
   "outputs": [],
   "source": [
    "tl = lca.build_timeline()"
   ]
  },
  {
   "cell_type": "code",
   "execution_count": 24,
   "id": "805a9566-7464-42df-9d9e-808e5b08cdf4",
   "metadata": {},
   "outputs": [
    {
     "data": {
      "text/html": [
       "<div>\n",
       "<style scoped>\n",
       "    .dataframe tbody tr th:only-of-type {\n",
       "        vertical-align: middle;\n",
       "    }\n",
       "\n",
       "    .dataframe tbody tr th {\n",
       "        vertical-align: top;\n",
       "    }\n",
       "\n",
       "    .dataframe thead th {\n",
       "        text-align: right;\n",
       "    }\n",
       "</style>\n",
       "<table border=\"1\" class=\"dataframe\">\n",
       "  <thead>\n",
       "    <tr style=\"text-align: right;\">\n",
       "      <th></th>\n",
       "      <th>date</th>\n",
       "      <th>amount</th>\n",
       "      <th>flow</th>\n",
       "      <th>activity</th>\n",
       "    </tr>\n",
       "  </thead>\n",
       "  <tbody>\n",
       "    <tr>\n",
       "      <th>0</th>\n",
       "      <td>2025-11-14 21:25:38</td>\n",
       "      <td>0.80</td>\n",
       "      <td>12</td>\n",
       "      <td>13</td>\n",
       "    </tr>\n",
       "    <tr>\n",
       "      <th>1</th>\n",
       "      <td>2074-11-14 18:36:26</td>\n",
       "      <td>0.15</td>\n",
       "      <td>12</td>\n",
       "      <td>14</td>\n",
       "    </tr>\n",
       "  </tbody>\n",
       "</table>\n",
       "</div>"
      ],
      "text/plain": [
       "                 date  amount  flow  activity\n",
       "0 2025-11-14 21:25:38    0.80    12        13\n",
       "1 2074-11-14 18:36:26    0.15    12        14"
      ]
     },
     "execution_count": 24,
     "metadata": {},
     "output_type": "execute_result"
    }
   ],
   "source": [
    "df = tl.build_dataframe()\n",
    "df\n",
    "#match dataframe to other datatfrmae to display names\n",
    "#inventory results with the time?"
   ]
  },
  {
   "cell_type": "code",
   "execution_count": 25,
   "id": "64cd9ab4-d6e7-4f72-8795-9c426e7c3c8a",
   "metadata": {},
   "outputs": [
    {
     "data": {
      "text/plain": [
       "('EPS production' (None, None, None), 'EPS Incineration' (None, None, None))"
      ]
     },
     "execution_count": 25,
     "metadata": {},
     "output_type": "execute_result"
    }
   ],
   "source": [
    "bd.get_node(id=13), bd.get_node(id=14)\n",
    "#number of activity is equal to the ID"
   ]
  },
  {
   "cell_type": "code",
   "execution_count": 30,
   "id": "8046324a-85fe-479b-950c-d1915e5b43f4",
   "metadata": {},
   "outputs": [
    {
     "data": {
      "text/plain": [
       "<Axes: xlabel='date', ylabel='amount'>"
      ]
     },
     "execution_count": 30,
     "metadata": {},
     "output_type": "execute_result"
    },
    {
     "data": {
      "image/png": "[encoded data removed]",
      "text/plain": [
       "<Figure size 640x480 with 1 Axes>"
      ]
     },
     "metadata": {},
     "output_type": "display_data"
    }
   ],
   "source": [
    "tl.df.plot(x=\"date\", y=\"amount\", kind=\"scatter\")\n",
    "#does not differentiate between ch4 and co2\n",
    "#characterize the flows\n",
    "#more important to reduce now than later"
   ]
  },
  {
   "cell_type": "code",
   "execution_count": 40,
   "id": "450b6947-dd5c-4109-a844-10a3e95d8198",
   "metadata": {},
   "outputs": [
    {
     "data": {
      "text/plain": [
       "Text(0.5, 0, 'Time (years)')"
      ]
     },
     "execution_count": 40,
     "metadata": {},
     "output_type": "execute_result"
    },
    {
     "data": {
      "image/png": "[encoded data removed]",
      "text/plain": [
       "<Figure size 640x480 with 1 Axes>"
      ]
     },
     "metadata": {},
     "output_type": "display_data"
    }
   ],
   "source": [
    "axes = sb.scatterplot(\n",
    "    x=\"date\", \n",
    "    y=\"amount\",\n",
    "    hue=\"code\",\n",
    "    data=df.merge(\n",
    "        bd.Database('temporalis-example').nodes_to_dataframe().rename(columns={'id': 'activity'}), \n",
    "        on='activity'\n",
    "    )\n",
    ")\n",
    "axes.set_ylabel(\"$CO_{2}$ emissions (kg)\")\n",
    "axes.set_xlabel(\"Time (years)\")"
   ]
  }
 ],
 "metadata": {
  "kernelspec": {
   "display_name": "Python 3 (ipykernel)",
   "language": "python",
   "name": "python3"
  },
  "language_info": {
   "codemirror_mode": {
    "name": "ipython",
    "version": 3
   },
   "file_extension": ".py",
   "mimetype": "text/x-python",
   "name": "python",
   "nbconvert_exporter": "python",
   "pygments_lexer": "ipython3",
   "version": "3.11.10"
  }
 },
 "nbformat": 4,
 "nbformat_minor": 5
}
