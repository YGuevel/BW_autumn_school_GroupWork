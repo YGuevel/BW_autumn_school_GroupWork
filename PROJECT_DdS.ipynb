{
 "cells": [
  {
   "cell_type": "markdown",
   "id": "888d62b8-b807-496b-896d-0c44e3c29110",
   "metadata": {},
   "source": [
    "PROJECT"
   ]
  },
  {
   "cell_type": "markdown",
   "id": "951c9dc5-6b0e-4655-95ef-d8be98d4823b",
   "metadata": {},
   "source": [
    "Deliverables:\n",
    "    Notebook\n",
    "    Documentation of the model\n",
    "    Test that everything works well\n",
    "Goals:\n",
    "    Compare the environmental performance of 2 biobased insulation materials contrasted to a reference fossil insulation      material, applied     to buildings throught the prodution and end-of-life phases of the product.\n",
    "Scope:\n",
    "    The environmental performance is assessed through the climate change (CO2, Ch4, N2O), water use, and land use (area occupied) impacts\n",
    "    LCIA method: \n",
    "    The assessment is performed for 50 years of lifetime of the buildings\n",
    "    The EoL choices involve incineration, landfill, composting, and mulching (we are going to consider 2)\n",
    "    Temporal scope:\n",
    "    \n",
    "Tools\n",
    "    Github\n",
    "    Temporalis\n",
    "    Excel\n",
    "\n",
    "  *How to consider the soil carbon sequestration/release/lost effect\n",
    "  For croplands is shor, for forests is large\n"
   ]
  },
  {
   "cell_type": "markdown",
   "id": "f814acbd-5555-40ff-b894-16438bee6f54",
   "metadata": {},
   "source": [
    "Prerequisites:\n",
    "    Python: nbdev and ipytest\n",
    "Your environment must contain nbdev and nbdev_install_hooks\n",
    "For this project:\n",
    "Open conda terminal \n",
    "conda activate bw25\n",
    "    This env already contains nbdev "
   ]
  },
  {
   "cell_type": "code",
   "execution_count": 24,
   "id": "9eacc7a2-5ae1-49d3-a3f5-5c30d7e7c4fd",
   "metadata": {},
   "outputs": [],
   "source": [
    "import bw2io as bi \n",
    "import bw2data as bd\n",
    "import bw2calc as bc\n",
    "import os               # to use \"operating system dependent functionality\"\n",
    "import numpy as np      # \"the fundamental package for scientific computing with Python\"\n",
    "import pandas as pd     # \"high-performance, easy-to-use data structures and data analysis tools\" for Python"
   ]
  },
  {
   "cell_type": "code",
   "execution_count": 25,
   "id": "227945f7-ec26-4f8d-ba7b-8c057d97ebd9",
   "metadata": {},
   "outputs": [],
   "source": [
    "#Load ecoinvent and biosphere databases\n",
    "#Either import from ecoinvent or load it from a file saved in your computer - Here we load from a filed saved from a previous project\n",
    "bd.projects.set_current('Buildings Insulation')"
   ]
  },
  {
   "cell_type": "code",
   "execution_count": 30,
   "id": "6b05dd0e-18c7-4337-b86d-1d044cc8dd5e",
   "metadata": {},
   "outputs": [
    {
     "data": {
      "text/plain": [
       "Databases dictionary with 0 objects"
      ]
     },
     "execution_count": 30,
     "metadata": {},
     "output_type": "execute_result"
    }
   ],
   "source": [
    "bd.databases"
   ]
  },
  {
   "cell_type": "code",
   "execution_count": null,
   "id": "cb1b1b0f-1bd3-414e-9b5f-1a3769faf189",
   "metadata": {},
   "outputs": [],
   "source": [
    "#our_data = pd.read_csv('LCI.csv')\n",
    "#our_data.head()"
   ]
  },
  {
   "cell_type": "code",
   "execution_count": null,
   "id": "310a5e42-b4e7-49ff-bf27-36cd3cda4546",
   "metadata": {},
   "outputs": [],
   "source": [
    "imp.match_database(fields=('name', 'reference product', 'unit', 'location'))\n",
    "imp.statistics()"
   ]
  },
  {
   "cell_type": "code",
   "execution_count": 15,
   "id": "0255c0ba-33f2-4a7d-af9a-cf5bc1c2a292",
   "metadata": {
    "collapsed": true,
    "jupyter": {
     "outputs_hidden": true
    },
    "scrolled": true
   },
   "outputs": [
    {
     "name": "stdout",
     "output_type": "stream",
     "text": [
      "Extracted 7 worksheets in 0.29 seconds\n"
     ]
    },
    {
     "ename": "ValueError",
     "evalue": "No `database` section found",
     "output_type": "error",
     "traceback": [
      "\u001b[1;31m---------------------------------------------------------------------------\u001b[0m",
      "\u001b[1;31mValueError\u001b[0m                                Traceback (most recent call last)",
      "Cell \u001b[1;32mIn[15], line 1\u001b[0m\n\u001b[1;32m----> 1\u001b[0m imp \u001b[38;5;241m=\u001b[39m \u001b[43mbi\u001b[49m\u001b[38;5;241;43m.\u001b[39;49m\u001b[43mExcelImporter\u001b[49m\u001b[43m(\u001b[49m\u001b[38;5;124;43m\"\u001b[39;49m\u001b[38;5;124;43mGHGs_LCI_insulators_final.xlsx\u001b[39;49m\u001b[38;5;124;43m\"\u001b[39;49m\u001b[43m)\u001b[49m\n\u001b[0;32m      2\u001b[0m imp\u001b[38;5;241m.\u001b[39mapply_strategies()\n\u001b[0;32m      3\u001b[0m imp\u001b[38;5;241m.\u001b[39mmatch_database(\u001b[38;5;124m'\u001b[39m\u001b[38;5;124mecoinvent-3.10-cutoff\u001b[39m\u001b[38;5;124m'\u001b[39m, fields\u001b[38;5;241m=\u001b[39m(\u001b[38;5;124m'\u001b[39m\u001b[38;5;124mname\u001b[39m\u001b[38;5;124m'\u001b[39m, \u001b[38;5;124m'\u001b[39m\u001b[38;5;124munit\u001b[39m\u001b[38;5;124m'\u001b[39m, \u001b[38;5;124m'\u001b[39m\u001b[38;5;124mreference product\u001b[39m\u001b[38;5;124m'\u001b[39m, \u001b[38;5;124m'\u001b[39m\u001b[38;5;124mlocation\u001b[39m\u001b[38;5;124m'\u001b[39m))\n",
      "File \u001b[1;32m~\\AppData\\Local\\anaconda3\\envs\\bw25\\Lib\\site-packages\\bw2io\\importers\\excel.py:117\u001b[0m, in \u001b[0;36mExcelImporter.__init__\u001b[1;34m(self, filepath)\u001b[0m\n\u001b[0;32m    111\u001b[0m \u001b[38;5;28mprint\u001b[39m(\n\u001b[0;32m    112\u001b[0m     \u001b[38;5;124m\"\u001b[39m\u001b[38;5;124mExtracted \u001b[39m\u001b[38;5;132;01m{}\u001b[39;00m\u001b[38;5;124m worksheets in \u001b[39m\u001b[38;5;132;01m{:.2f}\u001b[39;00m\u001b[38;5;124m seconds\u001b[39m\u001b[38;5;124m\"\u001b[39m\u001b[38;5;241m.\u001b[39mformat(\n\u001b[0;32m    113\u001b[0m         \u001b[38;5;28mlen\u001b[39m(data), time() \u001b[38;5;241m-\u001b[39m start\n\u001b[0;32m    114\u001b[0m     )\n\u001b[0;32m    115\u001b[0m )\n\u001b[0;32m    116\u001b[0m \u001b[38;5;28;01mif\u001b[39;00m data \u001b[38;5;129;01mand\u001b[39;00m \u001b[38;5;28many\u001b[39m(line \u001b[38;5;28;01mfor\u001b[39;00m line \u001b[38;5;129;01min\u001b[39;00m data):\n\u001b[1;32m--> 117\u001b[0m     \u001b[38;5;28mself\u001b[39m\u001b[38;5;241m.\u001b[39mdb_name, \u001b[38;5;28mself\u001b[39m\u001b[38;5;241m.\u001b[39mmetadata \u001b[38;5;241m=\u001b[39m \u001b[38;5;28;43mself\u001b[39;49m\u001b[38;5;241;43m.\u001b[39;49m\u001b[43mget_database\u001b[49m\u001b[43m(\u001b[49m\u001b[43mdata\u001b[49m\u001b[43m)\u001b[49m\n\u001b[0;32m    118\u001b[0m     \u001b[38;5;28mself\u001b[39m\u001b[38;5;241m.\u001b[39mproject_parameters \u001b[38;5;241m=\u001b[39m \u001b[38;5;28mself\u001b[39m\u001b[38;5;241m.\u001b[39mget_project_parameters(data)\n\u001b[0;32m    119\u001b[0m     \u001b[38;5;28mself\u001b[39m\u001b[38;5;241m.\u001b[39mdatabase_parameters \u001b[38;5;241m=\u001b[39m \u001b[38;5;28mself\u001b[39m\u001b[38;5;241m.\u001b[39mget_database_parameters(data)\n",
      "File \u001b[1;32m~\\AppData\\Local\\anaconda3\\envs\\bw25\\Lib\\site-packages\\bw2io\\importers\\excel.py:136\u001b[0m, in \u001b[0;36mExcelImporter.get_database\u001b[1;34m(self, data)\u001b[0m\n\u001b[0;32m    133\u001b[0m             found \u001b[38;5;241m=\u001b[39m \u001b[38;5;28;01mTrue\u001b[39;00m\n\u001b[0;32m    135\u001b[0m \u001b[38;5;28;01mif\u001b[39;00m \u001b[38;5;129;01mnot\u001b[39;00m results:\n\u001b[1;32m--> 136\u001b[0m     \u001b[38;5;28;01mraise\u001b[39;00m \u001b[38;5;167;01mValueError\u001b[39;00m(\u001b[38;5;124m\"\u001b[39m\u001b[38;5;124mNo `database` section found\u001b[39m\u001b[38;5;124m\"\u001b[39m)\n\u001b[0;32m    138\u001b[0m \u001b[38;5;28;01mreturn\u001b[39;00m results[\u001b[38;5;241m0\u001b[39m]\n",
      "\u001b[1;31mValueError\u001b[0m: No `database` section found"
     ]
    }
   ],
   "source": [
    "imp = bi.ExcelImporter(\"GHGs_LCI_insulators_final.xlsx\")\n",
    "imp.apply_strategies()\n",
    "imp.match_database('ecoinvent-3.10-cutoff', fields=('name', 'unit', 'reference product', 'location'))\n",
    "imp.statistics()"
   ]
  },
  {
   "cell_type": "code",
   "execution_count": null,
   "id": "01278b23-5be7-4033-a85e-089b66ca3b04",
   "metadata": {},
   "outputs": [],
   "source": [
    "imp.write_excel()\n",
    "list(imp.unlinked)\n",
    "\n",
    "imp.write_database()"
   ]
  },
  {
   "cell_type": "code",
   "execution_count": 23,
   "id": "8618cddf-4eef-47f5-a7eb-165565382bba",
   "metadata": {},
   "outputs": [
    {
     "name": "stdout",
     "output_type": "stream",
     "text": [
      "Extracted 7 worksheets in 0.32 seconds\n"
     ]
    },
    {
     "ename": "ValueError",
     "evalue": "No `database` section found",
     "output_type": "error",
     "traceback": [
      "\u001b[1;31m---------------------------------------------------------------------------\u001b[0m",
      "\u001b[1;31mValueError\u001b[0m                                Traceback (most recent call last)",
      "Cell \u001b[1;32mIn[23], line 1\u001b[0m\n\u001b[1;32m----> 1\u001b[0m imp \u001b[38;5;241m=\u001b[39m \u001b[43mbi\u001b[49m\u001b[38;5;241;43m.\u001b[39;49m\u001b[43mExcelImporter\u001b[49m\u001b[43m(\u001b[49m\u001b[38;5;124;43m\"\u001b[39;49m\u001b[38;5;124;43mGHGs_LCI_insulators_final.xlsx\u001b[39;49m\u001b[38;5;124;43m\"\u001b[39;49m\u001b[43m)\u001b[49m\n",
      "File \u001b[1;32m~\\AppData\\Local\\anaconda3\\envs\\bw25\\Lib\\site-packages\\bw2io\\importers\\excel.py:117\u001b[0m, in \u001b[0;36mExcelImporter.__init__\u001b[1;34m(self, filepath)\u001b[0m\n\u001b[0;32m    111\u001b[0m \u001b[38;5;28mprint\u001b[39m(\n\u001b[0;32m    112\u001b[0m     \u001b[38;5;124m\"\u001b[39m\u001b[38;5;124mExtracted \u001b[39m\u001b[38;5;132;01m{}\u001b[39;00m\u001b[38;5;124m worksheets in \u001b[39m\u001b[38;5;132;01m{:.2f}\u001b[39;00m\u001b[38;5;124m seconds\u001b[39m\u001b[38;5;124m\"\u001b[39m\u001b[38;5;241m.\u001b[39mformat(\n\u001b[0;32m    113\u001b[0m         \u001b[38;5;28mlen\u001b[39m(data), time() \u001b[38;5;241m-\u001b[39m start\n\u001b[0;32m    114\u001b[0m     )\n\u001b[0;32m    115\u001b[0m )\n\u001b[0;32m    116\u001b[0m \u001b[38;5;28;01mif\u001b[39;00m data \u001b[38;5;129;01mand\u001b[39;00m \u001b[38;5;28many\u001b[39m(line \u001b[38;5;28;01mfor\u001b[39;00m line \u001b[38;5;129;01min\u001b[39;00m data):\n\u001b[1;32m--> 117\u001b[0m     \u001b[38;5;28mself\u001b[39m\u001b[38;5;241m.\u001b[39mdb_name, \u001b[38;5;28mself\u001b[39m\u001b[38;5;241m.\u001b[39mmetadata \u001b[38;5;241m=\u001b[39m \u001b[38;5;28;43mself\u001b[39;49m\u001b[38;5;241;43m.\u001b[39;49m\u001b[43mget_database\u001b[49m\u001b[43m(\u001b[49m\u001b[43mdata\u001b[49m\u001b[43m)\u001b[49m\n\u001b[0;32m    118\u001b[0m     \u001b[38;5;28mself\u001b[39m\u001b[38;5;241m.\u001b[39mproject_parameters \u001b[38;5;241m=\u001b[39m \u001b[38;5;28mself\u001b[39m\u001b[38;5;241m.\u001b[39mget_project_parameters(data)\n\u001b[0;32m    119\u001b[0m     \u001b[38;5;28mself\u001b[39m\u001b[38;5;241m.\u001b[39mdatabase_parameters \u001b[38;5;241m=\u001b[39m \u001b[38;5;28mself\u001b[39m\u001b[38;5;241m.\u001b[39mget_database_parameters(data)\n",
      "File \u001b[1;32m~\\AppData\\Local\\anaconda3\\envs\\bw25\\Lib\\site-packages\\bw2io\\importers\\excel.py:136\u001b[0m, in \u001b[0;36mExcelImporter.get_database\u001b[1;34m(self, data)\u001b[0m\n\u001b[0;32m    133\u001b[0m             found \u001b[38;5;241m=\u001b[39m \u001b[38;5;28;01mTrue\u001b[39;00m\n\u001b[0;32m    135\u001b[0m \u001b[38;5;28;01mif\u001b[39;00m \u001b[38;5;129;01mnot\u001b[39;00m results:\n\u001b[1;32m--> 136\u001b[0m     \u001b[38;5;28;01mraise\u001b[39;00m \u001b[38;5;167;01mValueError\u001b[39;00m(\u001b[38;5;124m\"\u001b[39m\u001b[38;5;124mNo `database` section found\u001b[39m\u001b[38;5;124m\"\u001b[39m)\n\u001b[0;32m    138\u001b[0m \u001b[38;5;28;01mreturn\u001b[39;00m results[\u001b[38;5;241m0\u001b[39m]\n",
      "\u001b[1;31mValueError\u001b[0m: No `database` section found"
     ]
    }
   ],
   "source": [
    "imp = bi.ExcelImporter(\"BW_utils/update/LCI_Bw_form.xlsx\")"
   ]
  }
 ],
 "metadata": {
  "kernelspec": {
   "display_name": "Python 3 (ipykernel)",
   "language": "python",
   "name": "python3"
  },
  "language_info": {
   "codemirror_mode": {
    "name": "ipython",
    "version": 3
   },
   "file_extension": ".py",
   "mimetype": "text/x-python",
   "name": "python",
   "nbconvert_exporter": "python",
   "pygments_lexer": "ipython3",
   "version": "3.11.10"
  }
 },
 "nbformat": 4,
 "nbformat_minor": 5
}
