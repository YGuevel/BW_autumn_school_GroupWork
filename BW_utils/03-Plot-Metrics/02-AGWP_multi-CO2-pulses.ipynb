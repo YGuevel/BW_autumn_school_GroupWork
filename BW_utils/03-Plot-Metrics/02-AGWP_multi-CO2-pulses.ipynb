{
 "cells": [
  {
   "cell_type": "code",
   "execution_count": 2,
   "id": "f7cf883a-316a-4830-bca2-3cd7d916904c",
   "metadata": {},
   "outputs": [],
   "source": [
    "from bw_temporalis import easy_timedelta_distribution, easy_datetime_distribution, TemporalisLCA, Timeline, TemporalDistribution\n",
    "from bw_temporalis.lcia import characterize_methane, characterize_co2\n",
    "import bw2data as bd\n",
    "import bw2calc as bc\n",
    "import bw_graph_tools as graph\n",
    "import numpy as np\n",
    "import pandas as pd"
   ]
  },
  {
   "cell_type": "code",
   "execution_count": 3,
   "id": "f177f674-057a-4c05-875c-181066fa9d57",
   "metadata": {},
   "outputs": [],
   "source": [
    "bd.projects.set_current(\"Temporalis example project\")"
   ]
  },
  {
   "cell_type": "code",
   "execution_count": 18,
   "id": "ad1025cb-7509-48d7-8357-c2c7db83c95e",
   "metadata": {},
   "outputs": [
    {
     "name": "stdout",
     "output_type": "stream",
     "text": [
      "09:44:45 [warning  ] Not able to determine geocollections for all datasets. This database is not ready for regionalization.\n"
     ]
    },
    {
     "name": "stderr",
     "output_type": "stream",
     "text": [
      "100%|████████████████████████████████████████████████████████████████████████████████████████████| 2/2 [00:00<?, ?it/s]\n"
     ]
    },
    {
     "name": "stdout",
     "output_type": "stream",
     "text": [
      "09:44:45 [info     ] Vacuuming database            \n"
     ]
    }
   ],
   "source": [
    "bd.Database('AGWP_multi_CO2').write({\n",
    "    ('AGWP_multi_CO2', \"CO2\"): {\n",
    "        \"type\": \"emission\",\n",
    "        \"name\": \"carbon dioxide\",\n",
    "        \"temporalis code\": \"co2\",\n",
    "    },\n",
    "    ('AGWP_multi_CO2', 'multi-pulse'): {\n",
    "        'exchanges': [\n",
    "            {\n",
    "                'amount': 3,\n",
    "                'input': ('AGWP_multi_CO2', 'CO2'),\n",
    "                'temporal_distribution': TemporalDistribution(\n",
    "                    np.array([0, 1, 50], dtype='timedelta64[Y]'),\n",
    "                    np.ones(3) * 1/3\n",
    "                ),\n",
    "                'type': 'biosphere'\n",
    "            },\n",
    "        ],\n",
    "        'name': 'multi-pulse',\n",
    "        'type': 'process'\n",
    "    }\n",
    "})\n"
   ]
  },
  {
   "cell_type": "code",
   "execution_count": 19,
   "id": "b43f98bd-3e08-43d0-8d53-8c49fc8fd4c8",
   "metadata": {},
   "outputs": [],
   "source": [
    "bd.Method((\"GWP\", \"CF_CO2\")).write([\n",
    "    (('AGWP_multi_CO2', \"CO2\"), 1)\n",
    "])"
   ]
  },
  {
   "cell_type": "code",
   "execution_count": 20,
   "id": "d5a19bef-7b93-41e1-a3ce-78144dcf16ed",
   "metadata": {},
   "outputs": [],
   "source": [
    "lca = bc.LCA({('AGWP_multi_CO2', 'multi-pulse'): 1}, (\"GWP\", \"CF_CO2\"))   #FU can be more than 1 thing !\n",
    "lca.lci()\n",
    "lca.lcia()"
   ]
  },
  {
   "cell_type": "code",
   "execution_count": 21,
   "id": "59704c4f-b07c-4991-a171-ef89aec93bb1",
   "metadata": {},
   "outputs": [
    {
     "name": "stdout",
     "output_type": "stream",
     "text": [
      "Starting graph traversal\n",
      "Calculation count: 0\n"
     ]
    }
   ],
   "source": [
    "lca = TemporalisLCA(lca)"
   ]
  },
  {
   "cell_type": "code",
   "execution_count": 22,
   "id": "99cdd2ef-a671-4744-adb8-0305d04a89b7",
   "metadata": {},
   "outputs": [],
   "source": [
    "tl = lca.build_timeline()"
   ]
  },
  {
   "cell_type": "code",
   "execution_count": 23,
   "id": "22ef3150-ad78-4151-97ba-eef5c4d85353",
   "metadata": {},
   "outputs": [
    {
     "data": {
      "text/html": [
       "<div>\n",
       "<style scoped>\n",
       "    .dataframe tbody tr th:only-of-type {\n",
       "        vertical-align: middle;\n",
       "    }\n",
       "\n",
       "    .dataframe tbody tr th {\n",
       "        vertical-align: top;\n",
       "    }\n",
       "\n",
       "    .dataframe thead th {\n",
       "        text-align: right;\n",
       "    }\n",
       "</style>\n",
       "<table border=\"1\" class=\"dataframe\">\n",
       "  <thead>\n",
       "    <tr style=\"text-align: right;\">\n",
       "      <th></th>\n",
       "      <th>date</th>\n",
       "      <th>amount</th>\n",
       "      <th>flow</th>\n",
       "      <th>activity</th>\n",
       "    </tr>\n",
       "  </thead>\n",
       "  <tbody>\n",
       "    <tr>\n",
       "      <th>0</th>\n",
       "      <td>2024-11-15 08:44:48</td>\n",
       "      <td>1.0</td>\n",
       "      <td>5</td>\n",
       "      <td>6</td>\n",
       "    </tr>\n",
       "    <tr>\n",
       "      <th>1</th>\n",
       "      <td>2025-11-15 14:34:00</td>\n",
       "      <td>1.0</td>\n",
       "      <td>5</td>\n",
       "      <td>6</td>\n",
       "    </tr>\n",
       "    <tr>\n",
       "      <th>2</th>\n",
       "      <td>2074-11-15 11:44:48</td>\n",
       "      <td>1.0</td>\n",
       "      <td>5</td>\n",
       "      <td>6</td>\n",
       "    </tr>\n",
       "  </tbody>\n",
       "</table>\n",
       "</div>"
      ],
      "text/plain": [
       "                 date  amount  flow  activity\n",
       "0 2024-11-15 08:44:48     1.0     5         6\n",
       "1 2025-11-15 14:34:00     1.0     5         6\n",
       "2 2074-11-15 11:44:48     1.0     5         6"
      ]
     },
     "execution_count": 23,
     "metadata": {},
     "output_type": "execute_result"
    }
   ],
   "source": [
    "tl.build_dataframe()\n",
    "#shows inventory results"
   ]
  },
  {
   "cell_type": "code",
   "execution_count": 24,
   "id": "0fad02ec-bf73-4ad3-85ae-98567e2ccc86",
   "metadata": {},
   "outputs": [
    {
     "data": {
      "text/plain": [
       "'carbon dioxide' (None, None, None)"
      ]
     },
     "execution_count": 24,
     "metadata": {},
     "output_type": "execute_result"
    }
   ],
   "source": [
    "bd.get_node(id=5)"
   ]
  },
  {
   "cell_type": "code",
   "execution_count": 25,
   "id": "2f30c132-2a58-4ba3-b8e2-21104c71e25b",
   "metadata": {},
   "outputs": [
    {
     "data": {
      "text/plain": [
       "<Axes: xlabel='date', ylabel='amount'>"
      ]
     },
     "execution_count": 25,
     "metadata": {},
     "output_type": "execute_result"
    },
    {
     "data": {
      "image/png": "[encoded data removed]",
      "text/plain": [
       "<Figure size 640x480 with 1 Axes>"
      ]
     },
     "metadata": {},
     "output_type": "display_data"
    }
   ],
   "source": [
    "tl.df.plot(x=\"date\", y=\"amount\", kind=\"scatter\")\n",
    "#dynamic LCI"
   ]
  },
  {
   "cell_type": "code",
   "execution_count": 26,
   "id": "1ad3bd21-6c32-48a9-969e-ba6894f3370f",
   "metadata": {},
   "outputs": [],
   "source": [
    "#Characterisation\n",
    "characterized_df_co2 = tl.characterize_dataframe(\n",
    "    characterization_function=characterize_co2, \n",
    "    flow={5},   #{bd.get_node(name=\"carbon dioxide\").id}\n",
    ")"
   ]
  },
  {
   "cell_type": "code",
   "execution_count": 27,
   "id": "33077f2e-d9d6-45a0-8ee4-3333c769cd71",
   "metadata": {},
   "outputs": [
    {
     "data": {
      "text/plain": [
       "<Axes: xlabel='date', ylabel='amount'>"
      ]
     },
     "execution_count": 27,
     "metadata": {},
     "output_type": "execute_result"
    },
    {
     "data": {
      "image/png": "[encoded data removed]",
      "text/plain": [
       "<Figure size 640x480 with 1 Axes>"
      ]
     },
     "metadata": {},
     "output_type": "display_data"
    }
   ],
   "source": [
    "characterized_df_co2.plot(x=\"date\", y=\"amount\", kind=\"scatter\")"
   ]
  },
  {
   "cell_type": "code",
   "execution_count": 28,
   "id": "8489c6ed-df43-4918-8475-e9f7d66ada71",
   "metadata": {},
   "outputs": [
    {
     "data": {
      "text/plain": [
       "<Axes: xlabel='date', ylabel='amount_sum'>"
      ]
     },
     "execution_count": 28,
     "metadata": {},
     "output_type": "execute_result"
    },
    {
     "data": {
      "image/png": "[encoded data removed]",
      "text/plain": [
       "<Figure size 640x480 with 1 Axes>"
      ]
     },
     "metadata": {},
     "output_type": "display_data"
    }
   ],
   "source": [
    "characterized_df_co2.plot(x=\"date\", y=\"amount_sum\", kind=\"scatter\")"
   ]
  },
  {
   "cell_type": "code",
   "execution_count": 29,
   "id": "5dfcc481-dd07-4871-b5ee-eb70d19d3f13",
   "metadata": {},
   "outputs": [
    {
     "data": {
      "text/plain": [
       "0      0.000000e+00\n",
       "1      0.000000e+00\n",
       "2      1.700401e-15\n",
       "3      3.296605e-15\n",
       "4      4.997006e-15\n",
       "           ...     \n",
       "295    2.713694e-13\n",
       "296    2.720977e-13\n",
       "297    2.728242e-13\n",
       "298    2.735491e-13\n",
       "299    2.742722e-13\n",
       "Name: amount_sum, Length: 300, dtype: float64"
      ]
     },
     "execution_count": 29,
     "metadata": {},
     "output_type": "execute_result"
    }
   ],
   "source": [
    "characterized_df_co2.amount_sum"
   ]
  },
  {
   "cell_type": "code",
   "execution_count": 30,
   "id": "b7480648-a80d-41d6-abe8-a4a54c12deee",
   "metadata": {},
   "outputs": [
    {
     "name": "stdout",
     "output_type": "stream",
     "text": [
      "AGWP_100 = 1.0481878885712324e-13 W.yr/m²\n"
     ]
    }
   ],
   "source": [
    "print('AGWP_100 =', characterized_df_co2.amount_sum[100], 'W.yr/m²')"
   ]
  },
  {
   "cell_type": "code",
   "execution_count": null,
   "id": "ea7457c1-17cc-429a-a0c3-38d7bd8fd359",
   "metadata": {},
   "outputs": [],
   "source": []
  }
 ],
 "metadata": {
  "kernelspec": {
   "display_name": "Python 3 (ipykernel)",
   "language": "python",
   "name": "python3"
  },
  "language_info": {
   "codemirror_mode": {
    "name": "ipython",
    "version": 3
   },
   "file_extension": ".py",
   "mimetype": "text/x-python",
   "name": "python",
   "nbconvert_exporter": "python",
   "pygments_lexer": "ipython3",
   "version": "3.11.10"
  }
 },
 "nbformat": 4,
 "nbformat_minor": 5
}
