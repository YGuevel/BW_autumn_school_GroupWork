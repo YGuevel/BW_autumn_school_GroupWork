{
 "cells": [
  {
   "cell_type": "markdown",
   "id": "888d62b8-b807-496b-896d-0c44e3c29110",
   "metadata": {},
   "source": [
    "PROJECT"
   ]
  },
  {
   "cell_type": "markdown",
   "id": "951c9dc5-6b0e-4655-95ef-d8be98d4823b",
   "metadata": {},
   "source": [
    "Deliverables:\n",
    "    Notebook\n",
    "    Documentation of the model\n",
    "    Test that everything works well\n",
    "Goals:\n",
    "    Compare the environmental performance of 2 biobased insulation materials contrasted to a reference fossil insulation      material, applied     to buildings throught the prodution and end-of-life phases of the product.\n",
    "Scope:\n",
    "    The environmental performance is assessed through the climate change (CO2, Ch4, N2O), water use, and land use (area occupied) impacts\n",
    "    LCIA method: \n",
    "    The assessment is performed for 50 years of lifetime of the buildings\n",
    "    The EoL choices involve incineration, landfill, composting, and mulching (we are going to consider 2)\n",
    "    Temporal scope:\n",
    "    \n",
    "Tools\n",
    "    Github\n",
    "    Temporalis\n",
    "    Excel\n",
    "\n",
    "  *How to consider the soil carbon sequestration/release/lost effect\n",
    "  For croplands is shor, for forests is large\n"
   ]
  },
  {
   "cell_type": "markdown",
   "id": "f814acbd-5555-40ff-b894-16438bee6f54",
   "metadata": {},
   "source": [
    "Prerequisites:\n",
    "    Python: nbdev and ipytest\n",
    "Your environment must contain nbdev and nbdev_install_hooks\n",
    "For this project:\n",
    "Open conda terminal \n",
    "conda activate bw25\n",
    "    This env already contains nbdev "
   ]
  },
  {
   "cell_type": "code",
   "execution_count": 45,
   "id": "9eacc7a2-5ae1-49d3-a3f5-5c30d7e7c4fd",
   "metadata": {},
   "outputs": [],
   "source": [
    "from bw_temporalis import easy_timedelta_distribution, easy_datetime_distribution, TemporalisLCA, Timeline, TemporalDistribution\n",
    "#pip install dynamic_characterization\n",
    "from dynamic_characterization.ipcc_ar6.radiative_forcing import characterize_co2, characterize_ch4, characterize_n2o, characterize_co2_uptake\n",
    "\n",
    "import bw2io as bi \n",
    "import bw2data as bd\n",
    "import bw2calc as bc\n",
    "import os               # to use \"operating system dependent functionality\"\n",
    "import numpy as np      # \"the fundamental package for scientific computing with Python\"\n",
    "import pandas as pd     # \"high-performance, easy-to-use data structures and data analysis tools\" for Python"
   ]
  },
  {
   "cell_type": "code",
   "execution_count": 46,
   "id": "6dad2b1a-51a3-4608-81de-6afae76683e1",
   "metadata": {},
   "outputs": [
    {
     "data": {
      "text/plain": [
       "[Project: default,\n",
       " Project: SMFs,\n",
       " Project: bw25_intro,\n",
       " Project: bw25,\n",
       " Project: carbon fiber 2,\n",
       " Project: School,\n",
       " Project: Parametric LCA,\n",
       " Project: parametric-LCA,\n",
       " Project: SCO_LCA_v0,\n",
       " Project: Temporalis example project,\n",
       " Project: bw_temporalis example,\n",
       " Project: odym_case,\n",
       " Project: Buildings Insulation,\n",
       " Project: odym,\n",
       " Project: My BW25workgroup]"
      ]
     },
     "execution_count": 46,
     "metadata": {},
     "output_type": "execute_result"
    }
   ],
   "source": [
    "list(bd.projects)"
   ]
  },
  {
   "cell_type": "code",
   "execution_count": 47,
   "id": "227945f7-ec26-4f8d-ba7b-8c057d97ebd9",
   "metadata": {},
   "outputs": [
    {
     "name": "stdout",
     "output_type": "stream",
     "text": [
      "Restoring project backup archive - this could take a few minutes...\n",
      "Restored project: Buildings Insulation\n"
     ]
    },
    {
     "data": {
      "text/plain": [
       "'Buildings Insulation'"
      ]
     },
     "execution_count": 47,
     "metadata": {},
     "output_type": "execute_result"
    }
   ],
   "source": [
    "#Load ecoinvent and biosphere databases\n",
    "#Either import from ecoinvent or load it from a file saved in your computer - Here we load from a filed saved from a previous project\n",
    "bi.backup.restore_project_directory(\n",
    "    fp=r\"C:\\Users\\andraded\\Documents\\GitHub\\brightway2-project-bw25_workgroup-backup14-November-2024-03-02PM.tar.gz\",\n",
    "    project_name=\"Buildings Insulation\",\n",
    "    overwrite_existing=True\n",
    ")"
   ]
  },
  {
   "cell_type": "code",
   "execution_count": 48,
   "id": "1053e9ee-9f40-46d3-ba43-de09d912270d",
   "metadata": {},
   "outputs": [],
   "source": [
    "bd.projects.set_current('Buildings Insulation')"
   ]
  },
  {
   "cell_type": "code",
   "execution_count": 49,
   "id": "6b05dd0e-18c7-4337-b86d-1d044cc8dd5e",
   "metadata": {},
   "outputs": [
    {
     "data": {
      "text/plain": [
       "Databases dictionary with 2 object(s):\n",
       "\tbiosphere\n",
       "\tecoinvent-3.10-cutoff"
      ]
     },
     "execution_count": 49,
     "metadata": {},
     "output_type": "execute_result"
    }
   ],
   "source": [
    "bd.databases"
   ]
  },
  {
   "cell_type": "code",
   "execution_count": 50,
   "id": "0255c0ba-33f2-4a7d-af9a-cf5bc1c2a292",
   "metadata": {
    "scrolled": true
   },
   "outputs": [
    {
     "name": "stdout",
     "output_type": "stream",
     "text": [
      "Extracted 1 worksheets in 0.05 seconds\n",
      "Applying strategy: csv_restore_tuples\n",
      "Applying strategy: csv_restore_booleans\n",
      "Applying strategy: csv_numerize\n",
      "Applying strategy: csv_drop_unknown\n",
      "Applying strategy: csv_add_missing_exchanges_section\n",
      "Applying strategy: normalize_units\n",
      "Applying strategy: normalize_biosphere_categories\n",
      "Applying strategy: normalize_biosphere_names\n",
      "Applying strategy: strip_biosphere_exc_locations\n",
      "Applying strategy: set_code_by_activity_hash\n",
      "Applying strategy: link_iterable_by_fields\n",
      "Applying strategy: assign_only_product_as_production\n",
      "Applying strategy: link_technosphere_by_activity_hash\n",
      "Applying strategy: drop_falsey_uncertainty_fields_but_keep_zeros\n",
      "Applying strategy: convert_uncertainty_types_to_integers\n",
      "Applying strategy: convert_activity_parameters_to_list\n",
      "Applied 16 strategies in 24.52 seconds\n"
     ]
    }
   ],
   "source": [
    "imp = bi.ExcelImporter(r\"C:\\Users\\andraded\\Documents\\GitHub\\LCI_Bw_form.xlsx\")\n",
    "imp.apply_strategies()"
   ]
  },
  {
   "cell_type": "code",
   "execution_count": 51,
   "id": "d7cabd4e-2b02-4f73-ad8f-c5580c38161a",
   "metadata": {},
   "outputs": [
    {
     "name": "stdout",
     "output_type": "stream",
     "text": [
      "Applying strategy: link_iterable_by_fields\n",
      "4 datasets\n",
      "\t15 exchanges\n",
      "\tLinks to the following databases:\n",
      "\t\tecoinvent-3.10-cutoff (9 exchanges)\n",
      "\t\tInsulators (4 exchanges)\n",
      "\t\tbiosphere (2 exchanges)\n",
      "\t0 unlinked exchanges (0 types)\n",
      "\t\t\n"
     ]
    },
    {
     "data": {
      "text/plain": [
       "(4, 15, 0, 0)"
      ]
     },
     "execution_count": 51,
     "metadata": {},
     "output_type": "execute_result"
    }
   ],
   "source": [
    "imp.match_database('ecoinvent-3.10-cutoff', fields=('name', 'unit', 'location', 'reference product'))\n",
    "imp.statistics()"
   ]
  },
  {
   "cell_type": "code",
   "execution_count": 41,
   "id": "0cd83cd6-42b6-45da-bc5c-aa20aac3287a",
   "metadata": {},
   "outputs": [
    {
     "name": "stdout",
     "output_type": "stream",
     "text": [
      "Wrote matching file to:\n",
      "C:\\Users\\andraded\\AppData\\Local\\pylca\\Brightway3\\Buildings-Insulation.2ffa2648\\output\\db-matching-Insulators.xlsx\n"
     ]
    },
    {
     "data": {
      "text/plain": [
       "WindowsPath('C:/Users/andraded/AppData/Local/pylca/Brightway3/Buildings-Insulation.2ffa2648/output/db-matching-Insulators.xlsx')"
      ]
     },
     "execution_count": 41,
     "metadata": {},
     "output_type": "execute_result"
    }
   ],
   "source": [
    "#imp.write_excel()"
   ]
  },
  {
   "cell_type": "code",
   "execution_count": null,
   "id": "76ab6e53-fdb6-437a-9542-2b7d46534429",
   "metadata": {},
   "outputs": [],
   "source": []
  },
  {
   "cell_type": "code",
   "execution_count": null,
   "id": "082f02de-10bb-4448-8264-7f4e5e8f8954",
   "metadata": {},
   "outputs": [],
   "source": []
  },
  {
   "cell_type": "code",
   "execution_count": null,
   "id": "cff65594-21a2-4d75-821b-d4f8572cc1bb",
   "metadata": {},
   "outputs": [],
   "source": []
  },
  {
   "cell_type": "code",
   "execution_count": null,
   "id": "8d7bbc98-7c82-476c-9e03-1c9f2866cf46",
   "metadata": {},
   "outputs": [],
   "source": []
  }
 ],
 "metadata": {
  "kernelspec": {
   "display_name": "Python 3 (ipykernel)",
   "language": "python",
   "name": "python3"
  },
  "language_info": {
   "codemirror_mode": {
    "name": "ipython",
    "version": 3
   },
   "file_extension": ".py",
   "mimetype": "text/x-python",
   "name": "python",
   "nbconvert_exporter": "python",
   "pygments_lexer": "ipython3",
   "version": "3.11.10"
  }
 },
 "nbformat": 4,
 "nbformat_minor": 5
}
